{
  "nbformat": 4,
  "nbformat_minor": 0,
  "metadata": {
    "colab": {
      "name": "saivipulmohan_111801045_Assignment_6",
      "provenance": [],
      "collapsed_sections": [],
      "toc_visible": true
    },
    "kernelspec": {
      "name": "python3",
      "display_name": "Python 3"
    },
    "language_info": {
      "name": "python"
    },
    "accelerator": "GPU"
  },
  "cells": [
    {
      "cell_type": "code",
      "metadata": {
        "id": "73fD9t2s3yXR"
      },
      "source": [
        "# installs"
      ],
      "execution_count": null,
      "outputs": []
    },
    {
      "cell_type": "code",
      "metadata": {
        "id": "7R0OB_ql3zT_"
      },
      "source": [
        "# imports\n",
        "import pandas as pd\n",
        "import csv\n",
        "import numpy as np\n",
        "import re\n",
        "from sklearn.model_selection import train_test_split\n",
        "from keras.preprocessing.text import Tokenizer\n",
        "from keras.preprocessing.sequence import pad_sequences\n",
        "import tensorflow as tf\n",
        "import keras.backend as K\n",
        "import matplotlib.pyplot as plt"
      ],
      "execution_count": 1,
      "outputs": []
    },
    {
      "cell_type": "code",
      "metadata": {
        "id": "rAhWieLufUf0"
      },
      "source": [
        "seed = 43\n",
        "np.random.seed(seed)\n",
        "tf.random.set_seed(seed)"
      ],
      "execution_count": 2,
      "outputs": []
    },
    {
      "cell_type": "markdown",
      "metadata": {
        "id": "Im9Lbsdx2Bms"
      },
      "source": [
        "# Task1\n",
        "---\n",
        "\n"
      ]
    },
    {
      "cell_type": "markdown",
      "metadata": {
        "id": "QztnlkTT09hA"
      },
      "source": [
        "> **1. Clean the data and do necessary pre-processing steps.**"
      ]
    },
    {
      "cell_type": "code",
      "metadata": {
        "id": "k_lkxS5VfP_v"
      },
      "source": [
        "# functions to enable the task\n",
        "\n",
        "def preprocess(df):\n",
        "  \"\"\"\n",
        "  input: pandas dataframe with two columns, sent and label\n",
        "  description: sentence text preprocessing\n",
        "  \"\"\"\n",
        "  punctuations=r'''!()-[]{};:'\"\\,<>./?@#$%^&*_~'''\n",
        "  stop_words=['the', 'a', 'and', 'is', 'be', 'will']\n",
        "\n",
        "  sentences = df.iloc[:, 0].values\n",
        "  ret = []\n",
        "  for sent in sentences:\n",
        "    sent = re.sub(r'https?://\\S+|www\\.\\S+', '', sent)                           #removing urls\n",
        "    sent = re.sub(r'<.*?>', '', sent)                                           #removing html elements\n",
        "    sent = sent.lower()                                                         #lowering all characters\n",
        "    for ch in sent:                                                             #removing punctuations\n",
        "      if ch in punctuations:\n",
        "        sent = sent.replace(ch, '')\n",
        "    sent = ' '.join([word for word in sent.split() if word not in stop_words])  #removing stop words\n",
        "    sent = re.sub(r'\\s+', ' ', sent).strip()                                    #removing whitespaces\n",
        "    ret.append(sent)\n",
        "  ret = np.asarray(ret)\n",
        "\n",
        "  df['sent'] = ret\n",
        "  return df"
      ],
      "execution_count": 3,
      "outputs": []
    },
    {
      "cell_type": "code",
      "metadata": {
        "id": "h8e_H06_yyyY",
        "colab": {
          "base_uri": "https://localhost:8080/",
          "height": 1000
        },
        "outputId": "b9735821-3f93-457b-8a35-fb88e3858462"
      },
      "source": [
        "# calling the above functions to perform the task\n",
        "\n",
        "!gdown --id 16UVvU8YpabFMEds5vsFhmuLnQ9jEKTAW\n",
        "!unzip /content/datasets.zip &> /dev/null\n",
        "!rm -rf /content/datasets.zip &> /dev/null\n",
        "!rm -rf /content/__MACOSX &> /dev/null\n",
        "\n",
        "\n",
        "#DATASET-1\n",
        "data1 = pd.read_csv(\"/content/datasets/dataset_1.tsv\", sep=\"[\\t\\n]\", engine='python', header=None)\n",
        "data1.columns=['sent', 'label']\n",
        "data1 = data1.sample(frac=1).reset_index(drop=True) #shuffling, drop this if need to make inference on this dataset\n",
        "print(\"-----------------------------------------------------------\")\n",
        "print(\":::::::::::::::Dataset1 before preprocessing:::::::::::::::\")\n",
        "print(\"-----------------------------------------------------------\")\n",
        "display(data1)\n",
        "print(\"-----------------------------------------------------------\")\n",
        "print(\":::::::::::::::Dataset1 after preprocessing:::::::::::::::\")\n",
        "print(\"-----------------------------------------------------------\")\n",
        "data1 = preprocess(data1)\n",
        "display(data1)\n",
        "\n",
        "\n",
        "#DATASET-2\n",
        "data2_neg = pd.read_csv(\"/content/datasets/rt-polarity.neg\", sep=\"\\n\", header=None)\n",
        "data2_neg['label'] = np.zeros(shape=len(data2_neg), dtype=int)\n",
        "data2_neg.columns = ['sent', 'label']\n",
        "\n",
        "data2_pos = pd.read_csv(\"/content/datasets/rt-polarity.pos\", sep=\"\\n\", header=None)\n",
        "data2_pos['label'] = np.ones(shape=len(data2_pos), dtype=int)\n",
        "data2_pos.columns = ['sent', 'label']\n",
        "\n",
        "data2 = pd.concat([data2_neg, data2_pos], ignore_index=True)\n",
        "data2 = data2.sample(frac=1).reset_index(drop=True) #shuffling, drop this if need to make inference on this dataset\n",
        "print(\"-----------------------------------------------------------\")\n",
        "print(\":::::::::::::::Dataset2 before preprocessing:::::::::::::::\")\n",
        "print(\"-----------------------------------------------------------\")\n",
        "display(data2)\n",
        "print(\"-----------------------------------------------------------\")\n",
        "print(\":::::::::::::::Dataset2 after preprocessing:::::::::::::::\")\n",
        "print(\"-----------------------------------------------------------\")\n",
        "data2 = preprocess(data2)\n",
        "display(data2)\n"
      ],
      "execution_count": 4,
      "outputs": [
        {
          "output_type": "stream",
          "text": [
            "Downloading...\n",
            "From: https://drive.google.com/uc?id=16UVvU8YpabFMEds5vsFhmuLnQ9jEKTAW\n",
            "To: /content/datasets.zip\n",
            "\r  0% 0.00/526k [00:00<?, ?B/s]\r100% 526k/526k [00:00<00:00, 33.8MB/s]\n",
            "-----------------------------------------------------------\n",
            ":::::::::::::::Dataset1 before preprocessing:::::::::::::::\n",
            "-----------------------------------------------------------\n"
          ],
          "name": "stdout"
        },
        {
          "output_type": "display_data",
          "data": {
            "text/html": [
              "<div>\n",
              "<style scoped>\n",
              "    .dataframe tbody tr th:only-of-type {\n",
              "        vertical-align: middle;\n",
              "    }\n",
              "\n",
              "    .dataframe tbody tr th {\n",
              "        vertical-align: top;\n",
              "    }\n",
              "\n",
              "    .dataframe thead th {\n",
              "        text-align: right;\n",
              "    }\n",
              "</style>\n",
              "<table border=\"1\" class=\"dataframe\">\n",
              "  <thead>\n",
              "    <tr style=\"text-align: right;\">\n",
              "      <th></th>\n",
              "      <th>sent</th>\n",
              "      <th>label</th>\n",
              "    </tr>\n",
              "  </thead>\n",
              "  <tbody>\n",
              "    <tr>\n",
              "      <th>0</th>\n",
              "      <td>I won't spoil it, but the ending in pretty ama...</td>\n",
              "      <td>1</td>\n",
              "    </tr>\n",
              "    <tr>\n",
              "      <th>1</th>\n",
              "      <td>;) Recommend with confidence!</td>\n",
              "      <td>1</td>\n",
              "    </tr>\n",
              "    <tr>\n",
              "      <th>2</th>\n",
              "      <td>Maybe there would be a reasonable explanation ...</td>\n",
              "      <td>0</td>\n",
              "    </tr>\n",
              "    <tr>\n",
              "      <th>3</th>\n",
              "      <td>Duris has a wholesome appearance and gives a f...</td>\n",
              "      <td>1</td>\n",
              "    </tr>\n",
              "    <tr>\n",
              "      <th>4</th>\n",
              "      <td>The stories were as unbelievable as the actors.</td>\n",
              "      <td>0</td>\n",
              "    </tr>\n",
              "    <tr>\n",
              "      <th>...</th>\n",
              "      <td>...</td>\n",
              "      <td>...</td>\n",
              "    </tr>\n",
              "    <tr>\n",
              "      <th>995</th>\n",
              "      <td>I'm not sure what he was trying to do with thi...</td>\n",
              "      <td>0</td>\n",
              "    </tr>\n",
              "    <tr>\n",
              "      <th>996</th>\n",
              "      <td>You will leave the theater wanting to go out a...</td>\n",
              "      <td>1</td>\n",
              "    </tr>\n",
              "    <tr>\n",
              "      <th>997</th>\n",
              "      <td>That was nice.</td>\n",
              "      <td>1</td>\n",
              "    </tr>\n",
              "    <tr>\n",
              "      <th>998</th>\n",
              "      <td>This is actually a very smart movie.</td>\n",
              "      <td>1</td>\n",
              "    </tr>\n",
              "    <tr>\n",
              "      <th>999</th>\n",
              "      <td>Lot of holes in the plot: there's nothing abou...</td>\n",
              "      <td>0</td>\n",
              "    </tr>\n",
              "  </tbody>\n",
              "</table>\n",
              "<p>1000 rows × 2 columns</p>\n",
              "</div>"
            ],
            "text/plain": [
              "                                                  sent  label\n",
              "0    I won't spoil it, but the ending in pretty ama...      1\n",
              "1                      ;) Recommend with confidence!        1\n",
              "2    Maybe there would be a reasonable explanation ...      0\n",
              "3    Duris has a wholesome appearance and gives a f...      1\n",
              "4    The stories were as unbelievable as the actors.        0\n",
              "..                                                 ...    ...\n",
              "995  I'm not sure what he was trying to do with thi...      0\n",
              "996  You will leave the theater wanting to go out a...      1\n",
              "997                                   That was nice.        1\n",
              "998             This is actually a very smart movie.        1\n",
              "999  Lot of holes in the plot: there's nothing abou...      0\n",
              "\n",
              "[1000 rows x 2 columns]"
            ]
          },
          "metadata": {
            "tags": []
          }
        },
        {
          "output_type": "stream",
          "text": [
            "-----------------------------------------------------------\n",
            ":::::::::::::::Dataset1 after preprocessing:::::::::::::::\n",
            "-----------------------------------------------------------\n"
          ],
          "name": "stdout"
        },
        {
          "output_type": "display_data",
          "data": {
            "text/html": [
              "<div>\n",
              "<style scoped>\n",
              "    .dataframe tbody tr th:only-of-type {\n",
              "        vertical-align: middle;\n",
              "    }\n",
              "\n",
              "    .dataframe tbody tr th {\n",
              "        vertical-align: top;\n",
              "    }\n",
              "\n",
              "    .dataframe thead th {\n",
              "        text-align: right;\n",
              "    }\n",
              "</style>\n",
              "<table border=\"1\" class=\"dataframe\">\n",
              "  <thead>\n",
              "    <tr style=\"text-align: right;\">\n",
              "      <th></th>\n",
              "      <th>sent</th>\n",
              "      <th>label</th>\n",
              "    </tr>\n",
              "  </thead>\n",
              "  <tbody>\n",
              "    <tr>\n",
              "      <th>0</th>\n",
              "      <td>i wont spoil it but ending in pretty amazing</td>\n",
              "      <td>1</td>\n",
              "    </tr>\n",
              "    <tr>\n",
              "      <th>1</th>\n",
              "      <td>recommend with confidence</td>\n",
              "      <td>1</td>\n",
              "    </tr>\n",
              "    <tr>\n",
              "      <th>2</th>\n",
              "      <td>maybe there would reasonable explanation for t...</td>\n",
              "      <td>0</td>\n",
              "    </tr>\n",
              "    <tr>\n",
              "      <th>3</th>\n",
              "      <td>duris has wholesome appearance gives fine perf...</td>\n",
              "      <td>1</td>\n",
              "    </tr>\n",
              "    <tr>\n",
              "      <th>4</th>\n",
              "      <td>stories were as unbelievable as actors</td>\n",
              "      <td>0</td>\n",
              "    </tr>\n",
              "    <tr>\n",
              "      <th>...</th>\n",
              "      <td>...</td>\n",
              "      <td>...</td>\n",
              "    </tr>\n",
              "    <tr>\n",
              "      <th>995</th>\n",
              "      <td>im not sure what he was trying to do with this...</td>\n",
              "      <td>0</td>\n",
              "    </tr>\n",
              "    <tr>\n",
              "      <th>996</th>\n",
              "      <td>you leave theater wanting to go out dance unde...</td>\n",
              "      <td>1</td>\n",
              "    </tr>\n",
              "    <tr>\n",
              "      <th>997</th>\n",
              "      <td>that was nice</td>\n",
              "      <td>1</td>\n",
              "    </tr>\n",
              "    <tr>\n",
              "      <th>998</th>\n",
              "      <td>this actually very smart movie</td>\n",
              "      <td>1</td>\n",
              "    </tr>\n",
              "    <tr>\n",
              "      <th>999</th>\n",
              "      <td>lot of holes in plot theres nothing about how ...</td>\n",
              "      <td>0</td>\n",
              "    </tr>\n",
              "  </tbody>\n",
              "</table>\n",
              "<p>1000 rows × 2 columns</p>\n",
              "</div>"
            ],
            "text/plain": [
              "                                                  sent  label\n",
              "0         i wont spoil it but ending in pretty amazing      1\n",
              "1                            recommend with confidence      1\n",
              "2    maybe there would reasonable explanation for t...      0\n",
              "3    duris has wholesome appearance gives fine perf...      1\n",
              "4               stories were as unbelievable as actors      0\n",
              "..                                                 ...    ...\n",
              "995  im not sure what he was trying to do with this...      0\n",
              "996  you leave theater wanting to go out dance unde...      1\n",
              "997                                      that was nice      1\n",
              "998                     this actually very smart movie      1\n",
              "999  lot of holes in plot theres nothing about how ...      0\n",
              "\n",
              "[1000 rows x 2 columns]"
            ]
          },
          "metadata": {
            "tags": []
          }
        },
        {
          "output_type": "stream",
          "text": [
            "-----------------------------------------------------------\n",
            ":::::::::::::::Dataset2 before preprocessing:::::::::::::::\n",
            "-----------------------------------------------------------\n"
          ],
          "name": "stdout"
        },
        {
          "output_type": "display_data",
          "data": {
            "text/html": [
              "<div>\n",
              "<style scoped>\n",
              "    .dataframe tbody tr th:only-of-type {\n",
              "        vertical-align: middle;\n",
              "    }\n",
              "\n",
              "    .dataframe tbody tr th {\n",
              "        vertical-align: top;\n",
              "    }\n",
              "\n",
              "    .dataframe thead th {\n",
              "        text-align: right;\n",
              "    }\n",
              "</style>\n",
              "<table border=\"1\" class=\"dataframe\">\n",
              "  <thead>\n",
              "    <tr style=\"text-align: right;\">\n",
              "      <th></th>\n",
              "      <th>sent</th>\n",
              "      <th>label</th>\n",
              "    </tr>\n",
              "  </thead>\n",
              "  <tbody>\n",
              "    <tr>\n",
              "      <th>0</th>\n",
              "      <td>coughs and sputters on its own postmodern conc...</td>\n",
              "      <td>0</td>\n",
              "    </tr>\n",
              "    <tr>\n",
              "      <th>1</th>\n",
              "      <td>it works well enough , since the thrills pop u...</td>\n",
              "      <td>1</td>\n",
              "    </tr>\n",
              "    <tr>\n",
              "      <th>2</th>\n",
              "      <td>we never feel anything for these characters , ...</td>\n",
              "      <td>0</td>\n",
              "    </tr>\n",
              "    <tr>\n",
              "      <th>3</th>\n",
              "      <td>the film has [its] moments , but they are few ...</td>\n",
              "      <td>0</td>\n",
              "    </tr>\n",
              "    <tr>\n",
              "      <th>4</th>\n",
              "      <td>scorsese doesn't give us a character worth giv...</td>\n",
              "      <td>0</td>\n",
              "    </tr>\n",
              "    <tr>\n",
              "      <th>...</th>\n",
              "      <td>...</td>\n",
              "      <td>...</td>\n",
              "    </tr>\n",
              "    <tr>\n",
              "      <th>10657</th>\n",
              "      <td>what starts off as a satisfying kids flck beco...</td>\n",
              "      <td>0</td>\n",
              "    </tr>\n",
              "    <tr>\n",
              "      <th>10658</th>\n",
              "      <td>as an actress , madonna is one helluva singer ...</td>\n",
              "      <td>0</td>\n",
              "    </tr>\n",
              "    <tr>\n",
              "      <th>10659</th>\n",
              "      <td>ritchie's treatment of the class reversal is m...</td>\n",
              "      <td>0</td>\n",
              "    </tr>\n",
              "    <tr>\n",
              "      <th>10660</th>\n",
              "      <td>it's difficult to imagine the process that pro...</td>\n",
              "      <td>0</td>\n",
              "    </tr>\n",
              "    <tr>\n",
              "      <th>10661</th>\n",
              "      <td>may be spoofing an easy target -- those old '5...</td>\n",
              "      <td>1</td>\n",
              "    </tr>\n",
              "  </tbody>\n",
              "</table>\n",
              "<p>10662 rows × 2 columns</p>\n",
              "</div>"
            ],
            "text/plain": [
              "                                                    sent  label\n",
              "0      coughs and sputters on its own postmodern conc...      0\n",
              "1      it works well enough , since the thrills pop u...      1\n",
              "2      we never feel anything for these characters , ...      0\n",
              "3      the film has [its] moments , but they are few ...      0\n",
              "4      scorsese doesn't give us a character worth giv...      0\n",
              "...                                                  ...    ...\n",
              "10657  what starts off as a satisfying kids flck beco...      0\n",
              "10658  as an actress , madonna is one helluva singer ...      0\n",
              "10659  ritchie's treatment of the class reversal is m...      0\n",
              "10660  it's difficult to imagine the process that pro...      0\n",
              "10661  may be spoofing an easy target -- those old '5...      1\n",
              "\n",
              "[10662 rows x 2 columns]"
            ]
          },
          "metadata": {
            "tags": []
          }
        },
        {
          "output_type": "stream",
          "text": [
            "-----------------------------------------------------------\n",
            ":::::::::::::::Dataset2 after preprocessing:::::::::::::::\n",
            "-----------------------------------------------------------\n"
          ],
          "name": "stdout"
        },
        {
          "output_type": "display_data",
          "data": {
            "text/html": [
              "<div>\n",
              "<style scoped>\n",
              "    .dataframe tbody tr th:only-of-type {\n",
              "        vertical-align: middle;\n",
              "    }\n",
              "\n",
              "    .dataframe tbody tr th {\n",
              "        vertical-align: top;\n",
              "    }\n",
              "\n",
              "    .dataframe thead th {\n",
              "        text-align: right;\n",
              "    }\n",
              "</style>\n",
              "<table border=\"1\" class=\"dataframe\">\n",
              "  <thead>\n",
              "    <tr style=\"text-align: right;\">\n",
              "      <th></th>\n",
              "      <th>sent</th>\n",
              "      <th>label</th>\n",
              "    </tr>\n",
              "  </thead>\n",
              "  <tbody>\n",
              "    <tr>\n",
              "      <th>0</th>\n",
              "      <td>coughs sputters on its own postmodern conceit</td>\n",
              "      <td>0</td>\n",
              "    </tr>\n",
              "    <tr>\n",
              "      <th>1</th>\n",
              "      <td>it works well enough since thrills pop up freq...</td>\n",
              "      <td>1</td>\n",
              "    </tr>\n",
              "    <tr>\n",
              "      <th>2</th>\n",
              "      <td>we never feel anything for these characters as...</td>\n",
              "      <td>0</td>\n",
              "    </tr>\n",
              "    <tr>\n",
              "      <th>3</th>\n",
              "      <td>film has its moments but they are few far between</td>\n",
              "      <td>0</td>\n",
              "    </tr>\n",
              "    <tr>\n",
              "      <th>4</th>\n",
              "      <td>scorsese doesnt give us character worth giving...</td>\n",
              "      <td>0</td>\n",
              "    </tr>\n",
              "    <tr>\n",
              "      <th>...</th>\n",
              "      <td>...</td>\n",
              "      <td>...</td>\n",
              "    </tr>\n",
              "    <tr>\n",
              "      <th>10657</th>\n",
              "      <td>what starts off as satisfying kids flck become...</td>\n",
              "      <td>0</td>\n",
              "    </tr>\n",
              "    <tr>\n",
              "      <th>10658</th>\n",
              "      <td>as an actress madonna one helluva singer as me...</td>\n",
              "      <td>0</td>\n",
              "    </tr>\n",
              "    <tr>\n",
              "      <th>10659</th>\n",
              "      <td>ritchies treatment of class reversal majorly h...</td>\n",
              "      <td>0</td>\n",
              "    </tr>\n",
              "    <tr>\n",
              "      <th>10660</th>\n",
              "      <td>its difficult to imagine process that produced...</td>\n",
              "      <td>0</td>\n",
              "    </tr>\n",
              "    <tr>\n",
              "      <th>10661</th>\n",
              "      <td>may spoofing an easy target those old 50s gian...</td>\n",
              "      <td>1</td>\n",
              "    </tr>\n",
              "  </tbody>\n",
              "</table>\n",
              "<p>10662 rows × 2 columns</p>\n",
              "</div>"
            ],
            "text/plain": [
              "                                                    sent  label\n",
              "0          coughs sputters on its own postmodern conceit      0\n",
              "1      it works well enough since thrills pop up freq...      1\n",
              "2      we never feel anything for these characters as...      0\n",
              "3      film has its moments but they are few far between      0\n",
              "4      scorsese doesnt give us character worth giving...      0\n",
              "...                                                  ...    ...\n",
              "10657  what starts off as satisfying kids flck become...      0\n",
              "10658  as an actress madonna one helluva singer as me...      0\n",
              "10659  ritchies treatment of class reversal majorly h...      0\n",
              "10660  its difficult to imagine process that produced...      0\n",
              "10661  may spoofing an easy target those old 50s gian...      1\n",
              "\n",
              "[10662 rows x 2 columns]"
            ]
          },
          "metadata": {
            "tags": []
          }
        }
      ]
    },
    {
      "cell_type": "markdown",
      "metadata": {
        "id": "QpCBP7prSbKC"
      },
      "source": [
        "> Observations\n",
        "- Extracted the data into pandas dataframe.\n",
        "- Length of dataset1 is 1000.\n",
        "- Length of dataset2 is 10662.\n",
        "- The samples in the dataset are arranged by class. So, shuffled the dataset.\n",
        "- preprocessing:\n",
        "  - removed url elements\n",
        "  - removed html elements\n",
        "  - lowered the characters\n",
        "  - removed punctuations\n",
        "  - removed stop words('the', 'a', 'and', 'is', 'be', 'will')\n",
        "  - removed white spaces\n"
      ]
    },
    {
      "cell_type": "markdown",
      "metadata": {
        "id": "53Dg3wel1CI7"
      },
      "source": [
        "> **2. Split the dataset into training and testing sets and do all comparison using the performance on test data.**"
      ]
    },
    {
      "cell_type": "code",
      "metadata": {
        "id": "68P2-aJ94cp5"
      },
      "source": [
        "# functions to enable the task\n",
        "\n",
        "def convert_strs_to_integers(strs):\n",
        "  tokenizer = Tokenizer()\n",
        "\n",
        "  max_len = np.max([len(sent.split()) for sent in strs])                        #finding max length of sentence\n",
        "  print(\"Max Length of sentence(also length of input): \", max_len)\n",
        "\n",
        "  tokenizer.fit_on_texts(strs)                                                   #converting text to numbers\n",
        "  vocab_len = len(tokenizer.word_index)\n",
        "  print(\"Length of vocabulary: \", vocab_len)\n",
        "  seq = tokenizer.texts_to_sequences(strs)\n",
        "\n",
        "  padded_seq = pad_sequences(seq, maxlen=max_len, padding='post')               #extending the length of sequence\n",
        "                                                                                #to max length by padding\n",
        "                                                                  \n",
        "  return padded_seq, max_len, vocab_len, tokenizer"
      ],
      "execution_count": 5,
      "outputs": []
    },
    {
      "cell_type": "code",
      "metadata": {
        "id": "LyChsc2y1B8a",
        "colab": {
          "base_uri": "https://localhost:8080/"
        },
        "outputId": "81d493d7-7c82-4dc2-a61d-3c19b0e6ae13"
      },
      "source": [
        "# calling above functions to perform the task\n",
        "\n",
        "#DATASET-1\n",
        "print(\"-------------------------------------------------------------------\")\n",
        "print(\"::::::::::::::::::::::::::::::Dataset1::::::::::::::::::::::::::::::\")\n",
        "print(\"-------------------------------------------------------------------\")\n",
        "X1, INP_LEN1, VOCAB_LEN1, TOKENIZER1=convert_strs_to_integers(data1.iloc[:, 0].values)\n",
        "Y1=tf.one_hot(data1.iloc[:, 1].values, depth=2).numpy()\n",
        "TrainX1, ValX1, TrainY1, ValY1 = train_test_split(X1, Y1, test_size=0.3, random_state=seed)\n",
        "print(\"TrainX1 shape: \", TrainX1.shape, \" | ValX1 shape: \", ValX1.shape, \" | TrainY1 shape: \", TrainY1.shape, \" | ValY1 shape: \", ValY1.shape)\n",
        "\n",
        "#DATASET-2\n",
        "print(\"-------------------------------------------------------------------\")\n",
        "print(\"::::::::::::::::::::::::::::::Dataset2::::::::::::::::::::::::::::::\")\n",
        "print(\"-------------------------------------------------------------------\")\n",
        "X2, INP_LEN2, VOCAB_LEN2, TOKENIZER2=convert_strs_to_integers(data2.iloc[:, 0].values)\n",
        "Y2=tf.one_hot(data2.iloc[:, 1].values, depth=2).numpy()\n",
        "TrainX2, ValX2, TrainY2, ValY2 = train_test_split(X2, Y2, test_size=0.2, random_state=seed)\n",
        "print(\"TrainX2 shape: \", TrainX2.shape, \" | ValX2 shape: \", ValX2.shape, \" | TrainY2 shape: \", TrainY2.shape, \" | ValY2 shape: \", ValY2.shape)"
      ],
      "execution_count": 6,
      "outputs": [
        {
          "output_type": "stream",
          "text": [
            "-------------------------------------------------------------------\n",
            "::::::::::::::::::::::::::::::Dataset1::::::::::::::::::::::::::::::\n",
            "-------------------------------------------------------------------\n",
            "Max Length of sentence(also length of input):  55\n",
            "Length of vocabulary:  3167\n",
            "TrainX1 shape:  (700, 55)  | ValX1 shape:  (300, 55)  | TrainY1 shape:  (700, 2)  | ValY1 shape:  (300, 2)\n",
            "-------------------------------------------------------------------\n",
            "::::::::::::::::::::::::::::::Dataset2::::::::::::::::::::::::::::::\n",
            "-------------------------------------------------------------------\n",
            "Max Length of sentence(also length of input):  43\n",
            "Length of vocabulary:  20506\n",
            "TrainX2 shape:  (8529, 43)  | ValX2 shape:  (2133, 43)  | TrainY2 shape:  (8529, 2)  | ValY2 shape:  (2133, 2)\n"
          ],
          "name": "stdout"
        }
      ]
    },
    {
      "cell_type": "markdown",
      "metadata": {
        "id": "lLhoMoKgULi0"
      },
      "source": [
        "> observations\n",
        "- Converting the strings to integers by assigning each distinct word an integer.\n",
        "- Maximum length of input sentence is stored for further usage(it is only the input length)\n",
        "- Distinct words in the dataset is also stored for further usage(it is only the vocabulary length)\n",
        "- The labels are encoded into one hot vectors.\n",
        "- Dataset1 is smaller compared to dataset2. So, train:val split of 7:3 is used for dataset1 and 8:2 is used for dataset2\n"
      ]
    },
    {
      "cell_type": "markdown",
      "metadata": {
        "id": "T3UWXTym1ISb"
      },
      "source": [
        "> **3. Use some method to perform word embedding.**"
      ]
    },
    {
      "cell_type": "code",
      "metadata": {
        "id": "bgKLT5pHy5YK"
      },
      "source": [
        "# functions to enable the task\n",
        "\n",
        "def get_coefs(word, *arr): \n",
        "  return word, np.asarray(arr, dtype='float32')\n",
        "\n",
        "def get_embeddings_matrix(embed_path, embed_dim, tokenizer, vocab_len):\n",
        "  embeddings_index = dict(get_coefs(*o.split(\" \")) for o in open(embed_path, errors='ignore'))\n",
        "  embedding_matrix = np.zeros((vocab_len + 1, embed_dim))\n",
        "  for word, index in tokenizer.word_index.items():\n",
        "    if index > vocab_len:\n",
        "      break\n",
        "    else:\n",
        "      try:\n",
        "          embedding_matrix[index] = embeddings_index[word]\n",
        "      except:\n",
        "          continue\n",
        "  return embedding_matrix"
      ],
      "execution_count": 7,
      "outputs": []
    },
    {
      "cell_type": "code",
      "metadata": {
        "colab": {
          "base_uri": "https://localhost:8080/"
        },
        "id": "kM1o7fOVuSz6",
        "outputId": "4cce11f7-1a8c-47f6-8e61-6ad2c75d13f7"
      },
      "source": [
        "# calling above functions to perform the task\n",
        "# NOTE: This cell might take a while to run(around 5min), please DO NOR RE-RUN it!!(waste of time)\n",
        "\n",
        "# glove.6B: https://drive.google.com/file/d/17QuRawroK6tXX7p3mwZiB4zEicNauvbi/view?usp=sharing\n",
        "# glove.42B.300d: https://drive.google.com/file/d/1C4EF6dN5sE28XFm7CefcWBgzRwfF90Pz/view?usp=sharing\n",
        "# glove.840B.300d: https://drive.google.com/file/d/1Otp9Q1hL5RY0Lv1pbJzcXTt1Xew7Uc3R/view?usp=sharing\n",
        "# glove.twitter.27B: https://drive.google.com/file/d/16d15anhD8nRhorIy7RSF11RILk5AvaIY/view?usp=sharing\n",
        "\n",
        "#glove.42B.300d.txt\n",
        "!gdown --id 1C4EF6dN5sE28XFm7CefcWBgzRwfF90Pz\n",
        "!unzip /content/glove.42B.300d.zip &> /dev/null\n",
        "!rm -rf /content/glove.42B.300d.zip &> /dev/null\n",
        "\n",
        "#DATASET-1\n",
        "embed_path1 = '/content/glove.42B.300d.txt'\n",
        "EMBED_DIM1 = 300\n",
        "EMBEDDING_MATRIX1 = get_embeddings_matrix(embed_path1, EMBED_DIM1, TOKENIZER1, VOCAB_LEN1)\n",
        "print(\"Embeddings Matrix shape: \", EMBEDDING_MATRIX1.shape)\n",
        "\n",
        "#DATASET-2\n",
        "embed_path2 = '/content/glove.42B.300d.txt'\n",
        "EMBED_DIM2 = 300\n",
        "EMBEDDING_MATRIX2 = get_embeddings_matrix(embed_path2, EMBED_DIM2, TOKENIZER2, VOCAB_LEN2)\n",
        "print(\"Embeddings Matrix shape: \", EMBEDDING_MATRIX2.shape)"
      ],
      "execution_count": 8,
      "outputs": [
        {
          "output_type": "stream",
          "text": [
            "Downloading...\n",
            "From: https://drive.google.com/uc?id=1C4EF6dN5sE28XFm7CefcWBgzRwfF90Pz\n",
            "To: /content/glove.42B.300d.zip\n",
            "1.88GB [00:22, 82.2MB/s]\n",
            "Embeddings Matrix shape:  (3168, 300)\n",
            "Embeddings Matrix shape:  (20507, 300)\n"
          ],
          "name": "stdout"
        }
      ]
    },
    {
      "cell_type": "markdown",
      "metadata": {
        "id": "gYDcyJ8GWAHn"
      },
      "source": [
        "> Observations\n",
        "- Creating a pretrained embedding matrix using glove datasets.\n",
        "- As this embeddings already represents the words very well, they need not be trained further.\n",
        "- The pretrained embeddings are 300 dimensional.\n",
        "- Note: as the above cell takes some amount of time(approx 5min on GPU) please avoid rerunning it.\n"
      ]
    },
    {
      "cell_type": "markdown",
      "metadata": {
        "id": "Nc6Ar-dU1NGN"
      },
      "source": [
        "> **4. Implement RNN from scratch.**"
      ]
    },
    {
      "cell_type": "code",
      "metadata": {
        "id": "injqfstmcY43"
      },
      "source": [
        "class RNN:\n",
        "  def __init__(self, input_shape, hidden_shape, output_shape):\n",
        "    self.input_shape = input_shape\n",
        "    self.hidden_shape = hidden_shape\n",
        "    self.output_shape = output_shape\n",
        "    self.initialise()\n",
        "    self.bptt_truncate = 2\n",
        "    self.min_clip_value = -10\n",
        "    self.max_clip_value = 10\n",
        "\n",
        "  def initialise(self):\n",
        "    '''\n",
        "    U is the weight matrix for weights between input and hidden layers\n",
        "    W is the weight matrix for shared weights in the RNN layer (hidden layer)\n",
        "    V is the weight matrix for weights between hidden and output layers\n",
        "    '''\n",
        "    self.U = np.random.normal(0, 0.01, (self.hidden_shape, self.input_shape))\n",
        "    self.W = np.random.normal(0, 0.01, (self.hidden_shape, self.hidden_shape))\n",
        "    self.V = np.random.normal(0, 0.01, (self.output_shape, self.hidden_shape))\n",
        "\n",
        "  def sigmoid(self, x):\n",
        "    return np.exp(np.fmin(x, 0)) / (1 + np.exp(-np.abs(x)))\n",
        "\n",
        "  def loss_and_accuracy(self, X, Y):\n",
        "    loss = 0.0\n",
        "    acc = 0.0\n",
        "    for i in range(Y.shape[0]):\n",
        "      x, y = X[i], Y[i]\n",
        "      prev_s = np.zeros(shape=(self.hidden_shape, self.output_shape))\n",
        "      for t in range(self.input_shape):\n",
        "        new_input = np.zeros(shape=x.shape)\n",
        "        new_input[t] = x[t]\n",
        "        mulu = np.dot(self.U, new_input)\n",
        "        mulw = np.dot(self.W, prev_s)\n",
        "        add = mulw + mulu\n",
        "        s = self.sigmoid(add)\n",
        "        mulv = np.dot(self.V, s)\n",
        "        prev_s = s\n",
        "      loss_per_record = (y - mulv)**2\n",
        "      loss += loss_per_record\n",
        "      if y == round(mulv[0][0]):\n",
        "        acc+=1\n",
        "    loss = loss / float(Y.shape[0])\n",
        "    acc = acc / float(Y.shape[0])\n",
        "    return loss, acc\n",
        "\n",
        "  def forward_backward_weightsupdate(self, lr, X, Y):\n",
        "    for i in range(Y.shape[0]):\n",
        "      x, y = X[i], Y[i]\n",
        "      layers = []\n",
        "      prev_s = np.zeros(shape=(self.hidden_shape, self.output_shape))\n",
        "      dU = np.zeros(shape=self.U.shape)\n",
        "      dV = np.zeros(shape=self.V.shape)\n",
        "      dW = np.zeros(shape=self.W.shape)\n",
        "      \n",
        "      dU_t = np.zeros(shape=self.U.shape)\n",
        "      dV_t = np.zeros(shape=self.V.shape)\n",
        "      dW_t = np.zeros(shape=self.W.shape)\n",
        "      \n",
        "      dU_i = np.zeros(shape=self.U.shape)\n",
        "      dW_i = np.zeros(shape=self.W.shape)\n",
        "      \n",
        "      # forward pass\n",
        "      for t in range(self.input_shape):\n",
        "        new_input = np.zeros(shape=x.shape)\n",
        "        new_input[t] = x[t]\n",
        "        mulu = np.dot(self.U, new_input)\n",
        "        mulw = np.dot(self.W, prev_s)\n",
        "        add = mulw + mulu\n",
        "        s = self.sigmoid(add)\n",
        "        mulv = np.dot(self.V, s)\n",
        "        layers.append({'s':s, 'prev_s':prev_s})\n",
        "        prev_s = s\n",
        "\n",
        "      # derivative of pred\n",
        "      dmulv = (mulv - y)\n",
        "      \n",
        "      # backward pass\n",
        "      for t in range(self.input_shape):\n",
        "        dV_t = np.dot(dmulv, np.transpose(layers[t]['s']))\n",
        "        dsv = np.dot(np.transpose(self.V), dmulv)\n",
        "        ds = dsv\n",
        "        dadd = add * (1 - add) * ds\n",
        "        dmulw = dadd * np.ones_like(mulw)\n",
        "        dprev_s = np.dot(np.transpose(self.W), dmulw)\n",
        "        for i in range(self.input_shape-1, max(-1, self.input_shape-self.bptt_truncate-1), -1):\n",
        "          ds = dsv + dprev_s\n",
        "          dadd = add * (1 - add) * ds\n",
        "          dmulw = dadd * np.ones_like(mulw)\n",
        "          dmulu = dadd * np.ones_like(mulu)\n",
        "          dW_i = np.dot(self.W, layers[t]['prev_s'])\n",
        "          dprev_s = np.dot(np.transpose(self.W), dmulw)\n",
        "          new_input = np.zeros(shape=x.shape)\n",
        "          new_input[t] = x[t]\n",
        "          dU_i = np.dot(self.U, new_input)\n",
        "          dx = np.dot(np.transpose(self.U), dmulu)\n",
        "          dU_t += dU_i\n",
        "          dW_t += dW_i\n",
        "        dV += dV_t\n",
        "        dU += dU_t\n",
        "        dW += dW_t\n",
        "\n",
        "        if dU.max() > self.max_clip_value:\n",
        "          dU[dU > self.max_clip_value] = self.max_clip_value\n",
        "        if dV.max() > self.max_clip_value:\n",
        "          dV[dV > self.max_clip_value] = self.max_clip_value\n",
        "        if dW.max() > self.max_clip_value:\n",
        "          dW[dW > self.max_clip_value] = self.max_clip_value\n",
        "        if dU.min() < self.min_clip_value:\n",
        "          dU[dU < self.min_clip_value] = self.min_clip_value\n",
        "        if dV.min() < self.min_clip_value:\n",
        "          dV[dV < self.min_clip_value] = self.min_clip_value\n",
        "        if dW.min() < self.min_clip_value:\n",
        "          dW[dW < self.min_clip_value] = self.min_clip_value\n",
        "        \n",
        "      self.U -= lr * dU\n",
        "      self.V -= lr * dV\n",
        "      self.W -= lr * dW\n",
        "\n",
        "  def train(self, TrainX, TrainY, ValX, ValY, epochs=1, lr=0.001):\n",
        "    assert(epochs>=0)\n",
        "    for e in range(epochs):\n",
        "      self.forward_backward_weightsupdate(lr, TrainX, TrainY)\n",
        "      TL, TA = self.loss_and_accuracy(TrainX, TrainY)\n",
        "      VL, VA = self.loss_and_accuracy(ValX, ValY)\n",
        "      print(\"Epoch: %d | Train loss: %.4f | Train acc: %.4f | Val loss: %.4f | Val acc: %.4f\" % (e, TL, TA, VL, VA))"
      ],
      "execution_count": 92,
      "outputs": []
    },
    {
      "cell_type": "markdown",
      "metadata": {
        "id": "nDe3pGQT1S0a"
      },
      "source": [
        "> **5. Using necessary dense layers along with the RNN classify the movie reviews into positive or negative, note the accuracy.**"
      ]
    },
    {
      "cell_type": "code",
      "metadata": {
        "id": "jYkHgQDj1SUr",
        "colab": {
          "base_uri": "https://localhost:8080/"
        },
        "outputId": "ff375f87-af1c-423c-bc55-a866ceaab402"
      },
      "source": [
        "#DATASET-1\n",
        "rnn1 = RNN(55, 100, 1)\n",
        "rnn1.train(np.expand_dims(TrainX1, axis=2), np.argmax(TrainY1, axis=1), np.expand_dims(ValX1, axis=2), np.argmax(ValY1, axis=1), epochs=10, lr=0.001)"
      ],
      "execution_count": 93,
      "outputs": [
        {
          "output_type": "stream",
          "text": [
            "Epoch: 0 | Train loss: 0.2635 | Train acc: 0.4814 | Val loss: 0.2512 | Val acc: 0.5433\n",
            "Epoch: 1 | Train loss: 0.2531 | Train acc: 0.4814 | Val loss: 0.2481 | Val acc: 0.5433\n",
            "Epoch: 2 | Train loss: 0.2521 | Train acc: 0.4814 | Val loss: 0.2485 | Val acc: 0.5433\n",
            "Epoch: 3 | Train loss: 0.2553 | Train acc: 0.4814 | Val loss: 0.2482 | Val acc: 0.5433\n",
            "Epoch: 4 | Train loss: 0.2654 | Train acc: 0.4814 | Val loss: 0.2519 | Val acc: 0.5433\n",
            "Epoch: 5 | Train loss: 0.2562 | Train acc: 0.4814 | Val loss: 0.2483 | Val acc: 0.5433\n",
            "Epoch: 6 | Train loss: 0.2542 | Train acc: 0.4814 | Val loss: 0.2481 | Val acc: 0.5433\n",
            "Epoch: 7 | Train loss: 0.2569 | Train acc: 0.4814 | Val loss: 0.2485 | Val acc: 0.5433\n",
            "Epoch: 8 | Train loss: 0.3373 | Train acc: 0.4814 | Val loss: 0.3028 | Val acc: 0.5433\n",
            "Epoch: 9 | Train loss: 0.2577 | Train acc: 0.4814 | Val loss: 0.2486 | Val acc: 0.5433\n"
          ],
          "name": "stdout"
        }
      ]
    },
    {
      "cell_type": "code",
      "metadata": {
        "colab": {
          "base_uri": "https://localhost:8080/"
        },
        "id": "8wVPkAaCdqk2",
        "outputId": "56d27607-61e2-4d58-8a19-250aa4ff2e4f"
      },
      "source": [
        "#DATASET-1\n",
        "rnn2 = RNN(43, 100, 1)\n",
        "rnn2.train(np.expand_dims(TrainX2, axis=2), np.argmax(TrainY2, axis=1), np.expand_dims(ValX2, axis=2), np.argmax(ValY2, axis=1), epochs=3, lr=0.0001)"
      ],
      "execution_count": 119,
      "outputs": [
        {
          "output_type": "stream",
          "text": [
            "Epoch: 0 | Train loss: 0.2502 | Train acc: 0.5015 | Val loss: 0.2504 | Val acc: 0.4941\n",
            "Epoch: 1 | Train loss: 0.2502 | Train acc: 0.5015 | Val loss: 0.2505 | Val acc: 0.4941\n",
            "Epoch: 2 | Train loss: 0.2502 | Train acc: 0.5015 | Val loss: 0.2505 | Val acc: 0.4941\n"
          ],
          "name": "stdout"
        }
      ]
    },
    {
      "cell_type": "markdown",
      "metadata": {
        "id": "nEw5cjLzcC5Z"
      },
      "source": [
        "> Observation\n",
        "- From scratch rnn implementation has single rnn layer.\n",
        "- input shape is `55` for dataset1 and `43` for dataset2, which is the length of input vectors of each dataset.\n",
        "- hidden shape is `192` i.e. embeddings dimension is `192`x`192`\n",
        "- output shape is `1`, sigmoid activation output.\n",
        "- From scratch rnn on second dataset is taking too much time to run, so trained for lesser number of epochs.\n",
        "\n"
      ]
    },
    {
      "cell_type": "markdown",
      "metadata": {
        "id": "_Lkiknds1c1p"
      },
      "source": [
        "> **6. Implement inbuilt RNN in tensorflow and add the same dense layers as above, compare the accuracy with above model. Do a reasoning for the changes if any.**\n"
      ]
    },
    {
      "cell_type": "code",
      "metadata": {
        "id": "hVLAzeKc1dlF",
        "colab": {
          "base_uri": "https://localhost:8080/"
        },
        "outputId": "023d8efd-493e-4c96-aaf6-46a37c3a89d0"
      },
      "source": [
        "#DATASET-1\n",
        "input = tf.keras.Input(shape=(INP_LEN1,), name='input')\n",
        "embed = tf.keras.layers.Embedding(VOCAB_LEN1+1, EMBED_DIM1, weights=[EMBEDDING_MATRIX1], trainable=False, name='embed')(input)\n",
        "rnn1 = tf.keras.layers.SimpleRNN(192, return_sequences=True, dropout=0.3, name='rnn1')(embed)\n",
        "pool = tf.keras.layers.MaxPool1D(name='pool')(rnn1)\n",
        "rnn2 = tf.keras.layers.SimpleRNN(128, dropout=0.2, name='rnn2')(pool)\n",
        "dense1 = tf.keras.layers.Dense(84, activation='relu', name='dense1')(rnn2)\n",
        "drop1 = tf.keras.layers.Dropout(0.2, name='drop1')(dense1)\n",
        "norm1 = tf.keras.layers.BatchNormalization(name='norm1')(drop1)\n",
        "output = tf.keras.layers.Dense(2, activation='softmax', name='output')(norm1)\n",
        "\n",
        "model1 = tf.keras.models.Model(inputs=input, outputs=output, name='model1')\n",
        "model1.summary()\n",
        "\n",
        "#DATASET-2\n",
        "input = tf.keras.Input(shape=(INP_LEN2,), name='input')\n",
        "embed = tf.keras.layers.Embedding(VOCAB_LEN2+1, EMBED_DIM2, weights=[EMBEDDING_MATRIX2], trainable=False, name='embed')(input)\n",
        "rnn1 = tf.keras.layers.SimpleRNN(192, return_sequences=True, dropout=0.3, name='rnn1')(embed)\n",
        "pool = tf.keras.layers.MaxPool1D(name='pool')(rnn1)\n",
        "rnn2 = tf.keras.layers.SimpleRNN(128, dropout=0.2, name='rnn2')(pool)\n",
        "dense1 = tf.keras.layers.Dense(84, activation='relu', name='dense1')(rnn2)\n",
        "drop1 = tf.keras.layers.Dropout(0.2, name='drop1')(dense1)\n",
        "norm1 = tf.keras.layers.BatchNormalization(name='norm1')(drop1)\n",
        "output = tf.keras.layers.Dense(2, activation='softmax', name='output')(norm1)\n",
        "\n",
        "model2 = tf.keras.models.Model(inputs=input, outputs=output, name='model2')\n",
        "model2.summary()"
      ],
      "execution_count": 31,
      "outputs": [
        {
          "output_type": "stream",
          "text": [
            "Model: \"model1\"\n",
            "_________________________________________________________________\n",
            "Layer (type)                 Output Shape              Param #   \n",
            "=================================================================\n",
            "input (InputLayer)           [(None, 55)]              0         \n",
            "_________________________________________________________________\n",
            "embed (Embedding)            (None, 55, 300)           950400    \n",
            "_________________________________________________________________\n",
            "rnn1 (SimpleRNN)             (None, 55, 192)           94656     \n",
            "_________________________________________________________________\n",
            "pool (MaxPooling1D)          (None, 27, 192)           0         \n",
            "_________________________________________________________________\n",
            "rnn2 (SimpleRNN)             (None, 128)               41088     \n",
            "_________________________________________________________________\n",
            "dense1 (Dense)               (None, 84)                10836     \n",
            "_________________________________________________________________\n",
            "drop1 (Dropout)              (None, 84)                0         \n",
            "_________________________________________________________________\n",
            "norm1 (BatchNormalization)   (None, 84)                336       \n",
            "_________________________________________________________________\n",
            "output (Dense)               (None, 2)                 170       \n",
            "=================================================================\n",
            "Total params: 1,097,486\n",
            "Trainable params: 146,918\n",
            "Non-trainable params: 950,568\n",
            "_________________________________________________________________\n",
            "Model: \"model2\"\n",
            "_________________________________________________________________\n",
            "Layer (type)                 Output Shape              Param #   \n",
            "=================================================================\n",
            "input (InputLayer)           [(None, 43)]              0         \n",
            "_________________________________________________________________\n",
            "embed (Embedding)            (None, 43, 300)           6152100   \n",
            "_________________________________________________________________\n",
            "rnn1 (SimpleRNN)             (None, 43, 192)           94656     \n",
            "_________________________________________________________________\n",
            "pool (MaxPooling1D)          (None, 21, 192)           0         \n",
            "_________________________________________________________________\n",
            "rnn2 (SimpleRNN)             (None, 128)               41088     \n",
            "_________________________________________________________________\n",
            "dense1 (Dense)               (None, 84)                10836     \n",
            "_________________________________________________________________\n",
            "drop1 (Dropout)              (None, 84)                0         \n",
            "_________________________________________________________________\n",
            "norm1 (BatchNormalization)   (None, 84)                336       \n",
            "_________________________________________________________________\n",
            "output (Dense)               (None, 2)                 170       \n",
            "=================================================================\n",
            "Total params: 6,299,186\n",
            "Trainable params: 146,918\n",
            "Non-trainable params: 6,152,268\n",
            "_________________________________________________________________\n"
          ],
          "name": "stdout"
        }
      ]
    },
    {
      "cell_type": "code",
      "metadata": {
        "id": "kAbUoVF85BeN"
      },
      "source": [
        "#CONFIG - FOR DATASET-1\n",
        "LR1 = 0.0001\n",
        "LOSS1 = tf.keras.losses.CategoricalCrossentropy()\n",
        "OPTIMIZER1 = tf.keras.optimizers.Adam(learning_rate=LR1)\n",
        "BATCH_SIZE1=16\n",
        "EPOCHS1=100\n",
        "METRICS1 = ['acc']\n",
        "CALLBACKS1 = [tf.keras.callbacks.ReduceLROnPlateau(monitor='val_loss', factor=0.5, patience=5, min_lr=0.00000001, cooldown=1, verbose=1)]"
      ],
      "execution_count": null,
      "outputs": []
    },
    {
      "cell_type": "code",
      "metadata": {
        "colab": {
          "base_uri": "https://localhost:8080/"
        },
        "id": "gAiPuSvQ5D4Z",
        "outputId": "1adc1d7f-5235-4fb5-d4d6-4a17e330999a"
      },
      "source": [
        "#DATASET-1\n",
        "model1.compile(loss=LOSS1, optimizer=OPTIMIZER1, metrics=METRICS1)\n",
        "model1.fit(TrainX1, TrainY1, validation_data=(ValX1, ValY1),\n",
        "          batch_size=BATCH_SIZE1,\n",
        "          epochs=EPOCHS1,\n",
        "          callbacks=CALLBACKS1,\n",
        "          shuffle=True)"
      ],
      "execution_count": null,
      "outputs": [
        {
          "output_type": "stream",
          "text": [
            "Epoch 1/100\n",
            "44/44 [==============================] - 5s 80ms/step - loss: 1.0046 - acc: 0.5094 - val_loss: 0.6996 - val_acc: 0.5400\n",
            "Epoch 2/100\n",
            "44/44 [==============================] - 3s 74ms/step - loss: 0.8856 - acc: 0.5379 - val_loss: 0.6866 - val_acc: 0.5533\n",
            "Epoch 3/100\n",
            "44/44 [==============================] - 3s 71ms/step - loss: 0.8699 - acc: 0.5558 - val_loss: 0.7041 - val_acc: 0.5233\n",
            "Epoch 4/100\n",
            "44/44 [==============================] - 3s 68ms/step - loss: 0.7959 - acc: 0.5798 - val_loss: 0.6662 - val_acc: 0.5867\n",
            "Epoch 5/100\n",
            "44/44 [==============================] - 3s 72ms/step - loss: 0.8258 - acc: 0.5653 - val_loss: 0.7046 - val_acc: 0.6100\n",
            "Epoch 6/100\n",
            "44/44 [==============================] - 3s 72ms/step - loss: 0.7091 - acc: 0.6298 - val_loss: 0.7162 - val_acc: 0.6000\n",
            "Epoch 7/100\n",
            "44/44 [==============================] - 3s 73ms/step - loss: 0.6815 - acc: 0.6289 - val_loss: 0.6520 - val_acc: 0.6600\n",
            "Epoch 8/100\n",
            "44/44 [==============================] - 3s 73ms/step - loss: 0.6321 - acc: 0.7086 - val_loss: 0.6681 - val_acc: 0.6400\n",
            "Epoch 9/100\n",
            "44/44 [==============================] - 3s 75ms/step - loss: 0.6413 - acc: 0.6800 - val_loss: 0.6441 - val_acc: 0.6733\n",
            "Epoch 10/100\n",
            "44/44 [==============================] - 3s 73ms/step - loss: 0.6400 - acc: 0.6732 - val_loss: 0.6352 - val_acc: 0.6633\n",
            "Epoch 11/100\n",
            "44/44 [==============================] - 3s 73ms/step - loss: 0.5685 - acc: 0.7102 - val_loss: 0.7319 - val_acc: 0.6667\n",
            "Epoch 12/100\n",
            "44/44 [==============================] - 3s 73ms/step - loss: 0.5273 - acc: 0.7198 - val_loss: 0.6398 - val_acc: 0.6967\n",
            "Epoch 13/100\n",
            "44/44 [==============================] - 3s 73ms/step - loss: 0.5768 - acc: 0.7355 - val_loss: 0.6185 - val_acc: 0.7267\n",
            "Epoch 14/100\n",
            "44/44 [==============================] - 3s 73ms/step - loss: 0.5086 - acc: 0.7652 - val_loss: 0.7081 - val_acc: 0.7467\n",
            "Epoch 15/100\n",
            "44/44 [==============================] - 3s 74ms/step - loss: 0.5069 - acc: 0.7758 - val_loss: 0.5842 - val_acc: 0.7133\n",
            "Epoch 16/100\n",
            "44/44 [==============================] - 3s 71ms/step - loss: 0.4533 - acc: 0.7794 - val_loss: 0.6364 - val_acc: 0.7200\n",
            "Epoch 17/100\n",
            "44/44 [==============================] - 3s 72ms/step - loss: 0.4387 - acc: 0.8112 - val_loss: 0.5987 - val_acc: 0.7533\n",
            "Epoch 18/100\n",
            "44/44 [==============================] - 3s 73ms/step - loss: 0.5107 - acc: 0.7604 - val_loss: 0.7417 - val_acc: 0.6800\n",
            "Epoch 19/100\n",
            "44/44 [==============================] - 3s 74ms/step - loss: 0.5105 - acc: 0.7665 - val_loss: 0.5999 - val_acc: 0.7533\n",
            "Epoch 20/100\n",
            "44/44 [==============================] - 3s 72ms/step - loss: 0.4786 - acc: 0.7924 - val_loss: 0.5920 - val_acc: 0.7667\n",
            "\n",
            "Epoch 00020: ReduceLROnPlateau reducing learning rate to 4.999999873689376e-05.\n",
            "Epoch 21/100\n",
            "44/44 [==============================] - 3s 72ms/step - loss: 0.4248 - acc: 0.8124 - val_loss: 0.5688 - val_acc: 0.7533\n",
            "Epoch 22/100\n",
            "44/44 [==============================] - 3s 73ms/step - loss: 0.3836 - acc: 0.8300 - val_loss: 0.5786 - val_acc: 0.7600\n",
            "Epoch 23/100\n",
            "44/44 [==============================] - 3s 69ms/step - loss: 0.3820 - acc: 0.8286 - val_loss: 0.5629 - val_acc: 0.7733\n",
            "Epoch 24/100\n",
            "44/44 [==============================] - 3s 74ms/step - loss: 0.3443 - acc: 0.8620 - val_loss: 0.5810 - val_acc: 0.7433\n",
            "Epoch 25/100\n",
            "44/44 [==============================] - 3s 72ms/step - loss: 0.3857 - acc: 0.8351 - val_loss: 0.6023 - val_acc: 0.7600\n",
            "Epoch 26/100\n",
            "44/44 [==============================] - 3s 72ms/step - loss: 0.3178 - acc: 0.8686 - val_loss: 0.6441 - val_acc: 0.7633\n",
            "Epoch 27/100\n",
            "44/44 [==============================] - 3s 75ms/step - loss: 0.3535 - acc: 0.8438 - val_loss: 0.5980 - val_acc: 0.7500\n",
            "Epoch 28/100\n",
            "44/44 [==============================] - 3s 74ms/step - loss: 0.3451 - acc: 0.8579 - val_loss: 0.5933 - val_acc: 0.7467\n",
            "\n",
            "Epoch 00028: ReduceLROnPlateau reducing learning rate to 2.499999936844688e-05.\n",
            "Epoch 29/100\n",
            "44/44 [==============================] - 3s 74ms/step - loss: 0.3489 - acc: 0.8505 - val_loss: 0.5764 - val_acc: 0.7433\n",
            "Epoch 30/100\n",
            "44/44 [==============================] - 3s 72ms/step - loss: 0.3017 - acc: 0.8681 - val_loss: 0.6033 - val_acc: 0.7433\n",
            "Epoch 31/100\n",
            "44/44 [==============================] - 3s 73ms/step - loss: 0.3488 - acc: 0.8381 - val_loss: 0.6326 - val_acc: 0.7433\n",
            "Epoch 32/100\n",
            "44/44 [==============================] - 3s 76ms/step - loss: 0.3254 - acc: 0.8471 - val_loss: 0.6166 - val_acc: 0.7533\n",
            "Epoch 33/100\n",
            "44/44 [==============================] - 3s 71ms/step - loss: 0.3016 - acc: 0.8747 - val_loss: 0.6446 - val_acc: 0.7600\n",
            "\n",
            "Epoch 00033: ReduceLROnPlateau reducing learning rate to 1.249999968422344e-05.\n",
            "Epoch 34/100\n",
            "44/44 [==============================] - 3s 71ms/step - loss: 0.3354 - acc: 0.8683 - val_loss: 0.6529 - val_acc: 0.7600\n",
            "Epoch 35/100\n",
            "44/44 [==============================] - 3s 72ms/step - loss: 0.3499 - acc: 0.8571 - val_loss: 0.6344 - val_acc: 0.7667\n",
            "Epoch 36/100\n",
            "44/44 [==============================] - 3s 74ms/step - loss: 0.3152 - acc: 0.8687 - val_loss: 0.6607 - val_acc: 0.7567\n",
            "Epoch 37/100\n",
            "44/44 [==============================] - 3s 73ms/step - loss: 0.3757 - acc: 0.8386 - val_loss: 0.6451 - val_acc: 0.7633\n",
            "Epoch 38/100\n",
            "44/44 [==============================] - 3s 73ms/step - loss: 0.3071 - acc: 0.8663 - val_loss: 0.6587 - val_acc: 0.7567\n",
            "\n",
            "Epoch 00038: ReduceLROnPlateau reducing learning rate to 6.24999984211172e-06.\n",
            "Epoch 39/100\n",
            "44/44 [==============================] - 3s 74ms/step - loss: 0.2846 - acc: 0.8775 - val_loss: 0.6464 - val_acc: 0.7567\n",
            "Epoch 40/100\n",
            "44/44 [==============================] - 3s 79ms/step - loss: 0.2812 - acc: 0.8995 - val_loss: 0.6338 - val_acc: 0.7633\n",
            "Epoch 41/100\n",
            "44/44 [==============================] - 3s 71ms/step - loss: 0.3284 - acc: 0.8676 - val_loss: 0.6270 - val_acc: 0.7533\n",
            "Epoch 42/100\n",
            "44/44 [==============================] - 3s 74ms/step - loss: 0.3147 - acc: 0.8672 - val_loss: 0.6254 - val_acc: 0.7533\n",
            "Epoch 43/100\n",
            "44/44 [==============================] - 3s 71ms/step - loss: 0.2677 - acc: 0.9009 - val_loss: 0.6360 - val_acc: 0.7500\n",
            "\n",
            "Epoch 00043: ReduceLROnPlateau reducing learning rate to 3.12499992105586e-06.\n",
            "Epoch 44/100\n",
            "44/44 [==============================] - 3s 73ms/step - loss: 0.3252 - acc: 0.8671 - val_loss: 0.6399 - val_acc: 0.7567\n",
            "Epoch 45/100\n",
            "44/44 [==============================] - 3s 73ms/step - loss: 0.2878 - acc: 0.8952 - val_loss: 0.6353 - val_acc: 0.7567\n",
            "Epoch 46/100\n",
            "44/44 [==============================] - 3s 74ms/step - loss: 0.2760 - acc: 0.8900 - val_loss: 0.6365 - val_acc: 0.7567\n",
            "Epoch 47/100\n",
            "44/44 [==============================] - 3s 75ms/step - loss: 0.2851 - acc: 0.8857 - val_loss: 0.6333 - val_acc: 0.7567\n",
            "Epoch 48/100\n",
            "44/44 [==============================] - 3s 72ms/step - loss: 0.3051 - acc: 0.8579 - val_loss: 0.6263 - val_acc: 0.7533\n",
            "\n",
            "Epoch 00048: ReduceLROnPlateau reducing learning rate to 1.56249996052793e-06.\n",
            "Epoch 49/100\n",
            "44/44 [==============================] - 3s 71ms/step - loss: 0.2619 - acc: 0.8889 - val_loss: 0.6344 - val_acc: 0.7533\n",
            "Epoch 50/100\n",
            "44/44 [==============================] - 3s 75ms/step - loss: 0.3282 - acc: 0.8755 - val_loss: 0.6357 - val_acc: 0.7567\n",
            "Epoch 51/100\n",
            "44/44 [==============================] - 3s 73ms/step - loss: 0.3162 - acc: 0.8758 - val_loss: 0.6296 - val_acc: 0.7500\n",
            "Epoch 52/100\n",
            "44/44 [==============================] - 3s 74ms/step - loss: 0.2619 - acc: 0.8960 - val_loss: 0.6312 - val_acc: 0.7533\n",
            "Epoch 53/100\n",
            "44/44 [==============================] - 3s 74ms/step - loss: 0.3134 - acc: 0.8771 - val_loss: 0.6342 - val_acc: 0.7567\n",
            "\n",
            "Epoch 00053: ReduceLROnPlateau reducing learning rate to 7.81249980263965e-07.\n",
            "Epoch 54/100\n",
            "44/44 [==============================] - 3s 73ms/step - loss: 0.2936 - acc: 0.8859 - val_loss: 0.6372 - val_acc: 0.7533\n",
            "Epoch 55/100\n",
            "44/44 [==============================] - 3s 73ms/step - loss: 0.3196 - acc: 0.8672 - val_loss: 0.6352 - val_acc: 0.7533\n",
            "Epoch 56/100\n",
            "44/44 [==============================] - 3s 69ms/step - loss: 0.2580 - acc: 0.9144 - val_loss: 0.6329 - val_acc: 0.7533\n",
            "Epoch 57/100\n",
            "44/44 [==============================] - 3s 74ms/step - loss: 0.3124 - acc: 0.8738 - val_loss: 0.6351 - val_acc: 0.7533\n",
            "Epoch 58/100\n",
            "44/44 [==============================] - 3s 73ms/step - loss: 0.2712 - acc: 0.8855 - val_loss: 0.6348 - val_acc: 0.7533\n",
            "\n",
            "Epoch 00058: ReduceLROnPlateau reducing learning rate to 3.906249901319825e-07.\n",
            "Epoch 59/100\n",
            "44/44 [==============================] - 3s 72ms/step - loss: 0.3311 - acc: 0.8366 - val_loss: 0.6315 - val_acc: 0.7533\n",
            "Epoch 60/100\n",
            "44/44 [==============================] - 3s 72ms/step - loss: 0.3204 - acc: 0.8488 - val_loss: 0.6379 - val_acc: 0.7500\n",
            "Epoch 61/100\n",
            "44/44 [==============================] - 3s 75ms/step - loss: 0.2813 - acc: 0.8952 - val_loss: 0.6404 - val_acc: 0.7500\n",
            "Epoch 62/100\n",
            "44/44 [==============================] - 3s 70ms/step - loss: 0.2555 - acc: 0.8884 - val_loss: 0.6390 - val_acc: 0.7500\n",
            "Epoch 63/100\n",
            "44/44 [==============================] - 3s 69ms/step - loss: 0.2928 - acc: 0.8826 - val_loss: 0.6350 - val_acc: 0.7533\n",
            "\n",
            "Epoch 00063: ReduceLROnPlateau reducing learning rate to 1.9531249506599124e-07.\n",
            "Epoch 64/100\n",
            "44/44 [==============================] - 3s 71ms/step - loss: 0.2950 - acc: 0.8703 - val_loss: 0.6358 - val_acc: 0.7533\n",
            "Epoch 65/100\n",
            "44/44 [==============================] - 3s 74ms/step - loss: 0.2966 - acc: 0.8855 - val_loss: 0.6371 - val_acc: 0.7500\n",
            "Epoch 66/100\n",
            "44/44 [==============================] - 3s 72ms/step - loss: 0.2436 - acc: 0.8895 - val_loss: 0.6365 - val_acc: 0.7500\n",
            "Epoch 67/100\n",
            "44/44 [==============================] - 3s 71ms/step - loss: 0.2957 - acc: 0.8725 - val_loss: 0.6367 - val_acc: 0.7533\n",
            "Epoch 68/100\n",
            "44/44 [==============================] - 3s 73ms/step - loss: 0.2881 - acc: 0.8835 - val_loss: 0.6374 - val_acc: 0.7533\n",
            "\n",
            "Epoch 00068: ReduceLROnPlateau reducing learning rate to 9.765624753299562e-08.\n",
            "Epoch 69/100\n",
            "44/44 [==============================] - 3s 72ms/step - loss: 0.2983 - acc: 0.8831 - val_loss: 0.6334 - val_acc: 0.7533\n",
            "Epoch 70/100\n",
            "44/44 [==============================] - 3s 70ms/step - loss: 0.3775 - acc: 0.8527 - val_loss: 0.6357 - val_acc: 0.7500\n",
            "Epoch 71/100\n",
            "44/44 [==============================] - 3s 74ms/step - loss: 0.3122 - acc: 0.8703 - val_loss: 0.6377 - val_acc: 0.7533\n",
            "Epoch 72/100\n",
            "44/44 [==============================] - 3s 77ms/step - loss: 0.3111 - acc: 0.8594 - val_loss: 0.6345 - val_acc: 0.7533\n",
            "Epoch 73/100\n",
            "44/44 [==============================] - 3s 77ms/step - loss: 0.2822 - acc: 0.8843 - val_loss: 0.6379 - val_acc: 0.7567\n",
            "\n",
            "Epoch 00073: ReduceLROnPlateau reducing learning rate to 4.882812376649781e-08.\n",
            "Epoch 74/100\n",
            "44/44 [==============================] - 3s 75ms/step - loss: 0.2807 - acc: 0.8918 - val_loss: 0.6395 - val_acc: 0.7500\n",
            "Epoch 75/100\n",
            "44/44 [==============================] - 3s 77ms/step - loss: 0.3136 - acc: 0.8689 - val_loss: 0.6376 - val_acc: 0.7600\n",
            "Epoch 76/100\n",
            "44/44 [==============================] - 3s 75ms/step - loss: 0.2932 - acc: 0.8751 - val_loss: 0.6350 - val_acc: 0.7567\n",
            "Epoch 77/100\n",
            "44/44 [==============================] - 3s 73ms/step - loss: 0.2455 - acc: 0.8894 - val_loss: 0.6346 - val_acc: 0.7533\n",
            "Epoch 78/100\n",
            "44/44 [==============================] - 3s 74ms/step - loss: 0.2585 - acc: 0.8784 - val_loss: 0.6367 - val_acc: 0.7533\n",
            "\n",
            "Epoch 00078: ReduceLROnPlateau reducing learning rate to 2.4414061883248905e-08.\n",
            "Epoch 79/100\n",
            "44/44 [==============================] - 3s 73ms/step - loss: 0.2908 - acc: 0.8679 - val_loss: 0.6362 - val_acc: 0.7500\n",
            "Epoch 80/100\n",
            "44/44 [==============================] - 3s 73ms/step - loss: 0.2841 - acc: 0.8807 - val_loss: 0.6340 - val_acc: 0.7567\n",
            "Epoch 81/100\n",
            "44/44 [==============================] - 3s 75ms/step - loss: 0.2996 - acc: 0.8727 - val_loss: 0.6322 - val_acc: 0.7567\n",
            "Epoch 82/100\n",
            "44/44 [==============================] - 3s 73ms/step - loss: 0.2449 - acc: 0.8973 - val_loss: 0.6336 - val_acc: 0.7567\n",
            "Epoch 83/100\n",
            "44/44 [==============================] - 3s 72ms/step - loss: 0.3140 - acc: 0.8521 - val_loss: 0.6357 - val_acc: 0.7567\n",
            "\n",
            "Epoch 00083: ReduceLROnPlateau reducing learning rate to 1.2207030941624453e-08.\n",
            "Epoch 84/100\n",
            "44/44 [==============================] - 3s 78ms/step - loss: 0.2656 - acc: 0.8919 - val_loss: 0.6342 - val_acc: 0.7567\n",
            "Epoch 85/100\n",
            "44/44 [==============================] - 3s 73ms/step - loss: 0.2962 - acc: 0.8609 - val_loss: 0.6363 - val_acc: 0.7533\n",
            "Epoch 86/100\n",
            "44/44 [==============================] - 3s 75ms/step - loss: 0.2681 - acc: 0.8970 - val_loss: 0.6370 - val_acc: 0.7533\n",
            "Epoch 87/100\n",
            "44/44 [==============================] - 3s 73ms/step - loss: 0.2675 - acc: 0.8977 - val_loss: 0.6325 - val_acc: 0.7533\n",
            "Epoch 88/100\n",
            "44/44 [==============================] - 3s 73ms/step - loss: 0.2678 - acc: 0.8755 - val_loss: 0.6337 - val_acc: 0.7533\n",
            "\n",
            "Epoch 00088: ReduceLROnPlateau reducing learning rate to 1e-08.\n",
            "Epoch 89/100\n",
            "44/44 [==============================] - 3s 72ms/step - loss: 0.3097 - acc: 0.8643 - val_loss: 0.6354 - val_acc: 0.7500\n",
            "Epoch 90/100\n",
            "44/44 [==============================] - 3s 78ms/step - loss: 0.2913 - acc: 0.8905 - val_loss: 0.6372 - val_acc: 0.7500\n",
            "Epoch 91/100\n",
            "44/44 [==============================] - 3s 77ms/step - loss: 0.2982 - acc: 0.8778 - val_loss: 0.6356 - val_acc: 0.7500\n",
            "Epoch 92/100\n",
            "44/44 [==============================] - 3s 74ms/step - loss: 0.3450 - acc: 0.8508 - val_loss: 0.6389 - val_acc: 0.7533\n",
            "Epoch 93/100\n",
            "44/44 [==============================] - 3s 75ms/step - loss: 0.3018 - acc: 0.8693 - val_loss: 0.6416 - val_acc: 0.7500\n",
            "Epoch 94/100\n",
            "44/44 [==============================] - 3s 76ms/step - loss: 0.2767 - acc: 0.8850 - val_loss: 0.6393 - val_acc: 0.7500\n",
            "Epoch 95/100\n",
            "44/44 [==============================] - 3s 74ms/step - loss: 0.2780 - acc: 0.8908 - val_loss: 0.6411 - val_acc: 0.7467\n",
            "Epoch 96/100\n",
            "44/44 [==============================] - 4s 80ms/step - loss: 0.2584 - acc: 0.8940 - val_loss: 0.6408 - val_acc: 0.7533\n",
            "Epoch 97/100\n",
            "44/44 [==============================] - 4s 80ms/step - loss: 0.2589 - acc: 0.8837 - val_loss: 0.6371 - val_acc: 0.7500\n",
            "Epoch 98/100\n",
            "44/44 [==============================] - 3s 79ms/step - loss: 0.3282 - acc: 0.8638 - val_loss: 0.6387 - val_acc: 0.7533\n",
            "Epoch 99/100\n",
            "44/44 [==============================] - 3s 79ms/step - loss: 0.3065 - acc: 0.8556 - val_loss: 0.6381 - val_acc: 0.7500\n",
            "Epoch 100/100\n",
            "44/44 [==============================] - 3s 75ms/step - loss: 0.2564 - acc: 0.8958 - val_loss: 0.6357 - val_acc: 0.7500\n"
          ],
          "name": "stdout"
        },
        {
          "output_type": "execute_result",
          "data": {
            "text/plain": [
              "<tensorflow.python.keras.callbacks.History at 0x7f6cd7183c10>"
            ]
          },
          "metadata": {
            "tags": []
          },
          "execution_count": 230
        }
      ]
    },
    {
      "cell_type": "code",
      "metadata": {
        "colab": {
          "base_uri": "https://localhost:8080/",
          "height": 295
        },
        "id": "FIUz092Ue3Tq",
        "outputId": "b1750a94-b887-4592-dd0a-ea8b12b1222d"
      },
      "source": [
        "# plotting FOR DATASET-1\n",
        "plt.plot(list(model1.history.history.values())[0])\n",
        "plt.plot(list(model1.history.history.values())[1])\n",
        "plt.plot(list(model1.history.history.values())[2])\n",
        "plt.plot(list(model1.history.history.values())[3])\n",
        "plt.title('model1 accuracy-loss plot')\n",
        "plt.ylabel('accuracy/loss')\n",
        "plt.xlabel('epochs')\n",
        "plt.legend(['train loss', 'train accuracy', 'val loss', 'val accuracy'])\n",
        "plt.show()"
      ],
      "execution_count": null,
      "outputs": [
        {
          "output_type": "display_data",
          "data": {
            "image/png": "[encoded data removed]",
            "text/plain": [
              "<Figure size 432x288 with 1 Axes>"
            ]
          },
          "metadata": {
            "tags": [],
            "needs_background": "light"
          }
        }
      ]
    },
    {
      "cell_type": "code",
      "metadata": {
        "id": "mbsuevoQlucn"
      },
      "source": [
        "#CONFIG FOR DATASET-2\n",
        "LR2 = 0.0001\n",
        "LOSS2 = tf.keras.losses.CategoricalCrossentropy()\n",
        "OPTIMIZER2 = tf.keras.optimizers.Adam(learning_rate=LR2)\n",
        "BATCH_SIZE2=32\n",
        "EPOCHS2=50\n",
        "METRICS2 = ['acc']\n",
        "CALLBACKS2 = [tf.keras.callbacks.ReduceLROnPlateau(monitor='val_loss', factor=0.5, patience=5, min_lr=0.00000001, cooldown=1, verbose=1)]"
      ],
      "execution_count": 32,
      "outputs": []
    },
    {
      "cell_type": "code",
      "metadata": {
        "colab": {
          "base_uri": "https://localhost:8080/"
        },
        "id": "DlEjXkCYl2GF",
        "outputId": "4fd60a24-29b0-4077-ef0f-ae55f6b7b9a5"
      },
      "source": [
        "#DATASET-2\n",
        "model2.compile(loss=LOSS2, optimizer=OPTIMIZER2, metrics=METRICS2)\n",
        "model2.fit(TrainX2, TrainY2, validation_data=(ValX2, ValY2),\n",
        "          batch_size=BATCH_SIZE2,\n",
        "          epochs=EPOCHS2,\n",
        "          callbacks=CALLBACKS2,\n",
        "          shuffle=True)"
      ],
      "execution_count": 33,
      "outputs": [
        {
          "output_type": "stream",
          "text": [
            "Epoch 1/50\n",
            "267/267 [==============================] - 26s 91ms/step - loss: 0.9361 - acc: 0.5047 - val_loss: 0.6978 - val_acc: 0.5466\n",
            "Epoch 2/50\n",
            "267/267 [==============================] - 24s 90ms/step - loss: 0.7615 - acc: 0.5720 - val_loss: 0.6535 - val_acc: 0.6460\n",
            "Epoch 3/50\n",
            "267/267 [==============================] - 23s 87ms/step - loss: 0.6836 - acc: 0.6301 - val_loss: 0.5776 - val_acc: 0.6981\n",
            "Epoch 4/50\n",
            "267/267 [==============================] - 23s 88ms/step - loss: 0.6568 - acc: 0.6405 - val_loss: 0.5617 - val_acc: 0.7126\n",
            "Epoch 5/50\n",
            "267/267 [==============================] - 24s 89ms/step - loss: 0.6162 - acc: 0.6784 - val_loss: 0.6225 - val_acc: 0.7384\n",
            "Epoch 6/50\n",
            "267/267 [==============================] - 24s 89ms/step - loss: 0.5861 - acc: 0.7010 - val_loss: 0.5393 - val_acc: 0.7450\n",
            "Epoch 7/50\n",
            "267/267 [==============================] - 24s 90ms/step - loss: 0.5647 - acc: 0.7165 - val_loss: 0.6835 - val_acc: 0.7267\n",
            "Epoch 8/50\n",
            "267/267 [==============================] - 23s 87ms/step - loss: 0.5477 - acc: 0.7272 - val_loss: 0.8955 - val_acc: 0.6671\n",
            "Epoch 9/50\n",
            "267/267 [==============================] - 24s 89ms/step - loss: 0.7045 - acc: 0.5703 - val_loss: 0.7203 - val_acc: 0.5012\n",
            "Epoch 10/50\n",
            "267/267 [==============================] - 24s 88ms/step - loss: 0.7145 - acc: 0.5017 - val_loss: 0.6921 - val_acc: 0.5007\n",
            "Epoch 11/50\n",
            "267/267 [==============================] - 24s 88ms/step - loss: 0.6913 - acc: 0.5496 - val_loss: 0.9493 - val_acc: 0.5002\n",
            "\n",
            "Epoch 00011: ReduceLROnPlateau reducing learning rate to 4.999999873689376e-05.\n",
            "Epoch 12/50\n",
            "267/267 [==============================] - 24s 89ms/step - loss: 0.6479 - acc: 0.6320 - val_loss: 0.7877 - val_acc: 0.5832\n",
            "Epoch 13/50\n",
            "267/267 [==============================] - 24s 91ms/step - loss: 0.6043 - acc: 0.6778 - val_loss: 0.5521 - val_acc: 0.7276\n",
            "Epoch 14/50\n",
            "267/267 [==============================] - 24s 89ms/step - loss: 0.5634 - acc: 0.7180 - val_loss: 0.5231 - val_acc: 0.7417\n",
            "Epoch 15/50\n",
            "267/267 [==============================] - 24s 90ms/step - loss: 0.5458 - acc: 0.7324 - val_loss: 0.5623 - val_acc: 0.7506\n",
            "Epoch 16/50\n",
            "267/267 [==============================] - 24s 89ms/step - loss: 0.5395 - acc: 0.7323 - val_loss: 0.5291 - val_acc: 0.7520\n",
            "Epoch 17/50\n",
            "267/267 [==============================] - 24s 88ms/step - loss: 0.5087 - acc: 0.7593 - val_loss: 0.5054 - val_acc: 0.7511\n",
            "Epoch 18/50\n",
            "267/267 [==============================] - 24s 90ms/step - loss: 0.5025 - acc: 0.7497 - val_loss: 0.5218 - val_acc: 0.7393\n",
            "Epoch 19/50\n",
            "267/267 [==============================] - 24s 88ms/step - loss: 0.5035 - acc: 0.7706 - val_loss: 0.7879 - val_acc: 0.6742\n",
            "Epoch 20/50\n",
            "267/267 [==============================] - 24s 89ms/step - loss: 0.5000 - acc: 0.7560 - val_loss: 0.5055 - val_acc: 0.7515\n",
            "Epoch 21/50\n",
            "267/267 [==============================] - 24s 90ms/step - loss: 0.4948 - acc: 0.7726 - val_loss: 0.5550 - val_acc: 0.7271\n",
            "Epoch 22/50\n",
            "267/267 [==============================] - 24s 88ms/step - loss: 0.4911 - acc: 0.7680 - val_loss: 0.6033 - val_acc: 0.6943\n",
            "\n",
            "Epoch 00022: ReduceLROnPlateau reducing learning rate to 2.499999936844688e-05.\n",
            "Epoch 23/50\n",
            "267/267 [==============================] - 24s 89ms/step - loss: 0.4978 - acc: 0.7606 - val_loss: 0.5239 - val_acc: 0.7398\n",
            "Epoch 24/50\n",
            "267/267 [==============================] - 24s 89ms/step - loss: 0.4853 - acc: 0.7736 - val_loss: 0.6340 - val_acc: 0.7412\n",
            "Epoch 25/50\n",
            "267/267 [==============================] - 24s 88ms/step - loss: 0.4907 - acc: 0.7707 - val_loss: 0.5116 - val_acc: 0.7506\n",
            "Epoch 26/50\n",
            "267/267 [==============================] - 23s 88ms/step - loss: 0.4906 - acc: 0.7687 - val_loss: 0.5093 - val_acc: 0.7496\n",
            "Epoch 27/50\n",
            "267/267 [==============================] - 24s 89ms/step - loss: 0.4916 - acc: 0.7707 - val_loss: 0.5196 - val_acc: 0.7356\n",
            "\n",
            "Epoch 00027: ReduceLROnPlateau reducing learning rate to 1.249999968422344e-05.\n",
            "Epoch 28/50\n",
            "267/267 [==============================] - 24s 89ms/step - loss: 0.4896 - acc: 0.7563 - val_loss: 0.4969 - val_acc: 0.7590\n",
            "Epoch 29/50\n",
            "267/267 [==============================] - 24s 89ms/step - loss: 0.4835 - acc: 0.7625 - val_loss: 0.4961 - val_acc: 0.7567\n",
            "Epoch 30/50\n",
            "267/267 [==============================] - 24s 89ms/step - loss: 0.4959 - acc: 0.7573 - val_loss: 0.4956 - val_acc: 0.7529\n",
            "Epoch 31/50\n",
            "267/267 [==============================] - 24s 90ms/step - loss: 0.4836 - acc: 0.7602 - val_loss: 0.5041 - val_acc: 0.7548\n",
            "Epoch 32/50\n",
            "267/267 [==============================] - 24s 89ms/step - loss: 0.4836 - acc: 0.7718 - val_loss: 0.5138 - val_acc: 0.7464\n",
            "Epoch 33/50\n",
            "267/267 [==============================] - 24s 90ms/step - loss: 0.4851 - acc: 0.7712 - val_loss: 0.5067 - val_acc: 0.7543\n",
            "Epoch 34/50\n",
            "267/267 [==============================] - 24s 89ms/step - loss: 0.4829 - acc: 0.7681 - val_loss: 0.5041 - val_acc: 0.7520\n",
            "Epoch 35/50\n",
            "267/267 [==============================] - 24s 89ms/step - loss: 0.4685 - acc: 0.7722 - val_loss: 0.4942 - val_acc: 0.7590\n",
            "Epoch 36/50\n",
            "267/267 [==============================] - 23s 87ms/step - loss: 0.4756 - acc: 0.7747 - val_loss: 0.5014 - val_acc: 0.7534\n",
            "Epoch 37/50\n",
            "267/267 [==============================] - 24s 89ms/step - loss: 0.4785 - acc: 0.7752 - val_loss: 0.4925 - val_acc: 0.7567\n",
            "Epoch 38/50\n",
            "267/267 [==============================] - 23s 88ms/step - loss: 0.4821 - acc: 0.7679 - val_loss: 0.5005 - val_acc: 0.7586\n",
            "Epoch 39/50\n",
            "267/267 [==============================] - 24s 88ms/step - loss: 0.4692 - acc: 0.7720 - val_loss: 0.5103 - val_acc: 0.7492\n",
            "Epoch 40/50\n",
            "267/267 [==============================] - 24s 89ms/step - loss: 0.4864 - acc: 0.7678 - val_loss: 0.4894 - val_acc: 0.7557\n",
            "Epoch 41/50\n",
            "267/267 [==============================] - 24s 90ms/step - loss: 0.4779 - acc: 0.7629 - val_loss: 0.5305 - val_acc: 0.7454\n",
            "Epoch 42/50\n",
            "267/267 [==============================] - 24s 89ms/step - loss: 0.4745 - acc: 0.7640 - val_loss: 0.4955 - val_acc: 0.7539\n",
            "Epoch 43/50\n",
            "267/267 [==============================] - 24s 89ms/step - loss: 0.4758 - acc: 0.7702 - val_loss: 0.4982 - val_acc: 0.7586\n",
            "Epoch 44/50\n",
            "267/267 [==============================] - 24s 89ms/step - loss: 0.4750 - acc: 0.7676 - val_loss: 0.4998 - val_acc: 0.7557\n",
            "Epoch 45/50\n",
            "267/267 [==============================] - 24s 89ms/step - loss: 0.4706 - acc: 0.7669 - val_loss: 0.5195 - val_acc: 0.7389\n",
            "\n",
            "Epoch 00045: ReduceLROnPlateau reducing learning rate to 6.24999984211172e-06.\n",
            "Epoch 46/50\n",
            "267/267 [==============================] - 23s 88ms/step - loss: 0.4802 - acc: 0.7626 - val_loss: 0.4982 - val_acc: 0.7586\n",
            "Epoch 47/50\n",
            "267/267 [==============================] - 24s 89ms/step - loss: 0.4643 - acc: 0.7835 - val_loss: 0.4882 - val_acc: 0.7642\n",
            "Epoch 48/50\n",
            "267/267 [==============================] - 24s 88ms/step - loss: 0.4727 - acc: 0.7718 - val_loss: 0.4988 - val_acc: 0.7553\n",
            "Epoch 49/50\n",
            "267/267 [==============================] - 24s 90ms/step - loss: 0.4892 - acc: 0.7596 - val_loss: 0.4990 - val_acc: 0.7515\n",
            "Epoch 50/50\n",
            "267/267 [==============================] - 24s 89ms/step - loss: 0.4787 - acc: 0.7721 - val_loss: 0.4980 - val_acc: 0.7557\n"
          ],
          "name": "stdout"
        },
        {
          "output_type": "execute_result",
          "data": {
            "text/plain": [
              "<tensorflow.python.keras.callbacks.History at 0x7f35b74e5850>"
            ]
          },
          "metadata": {
            "tags": []
          },
          "execution_count": 33
        }
      ]
    },
    {
      "cell_type": "code",
      "metadata": {
        "colab": {
          "base_uri": "https://localhost:8080/",
          "height": 295
        },
        "id": "JgG8WWGmmM5j",
        "outputId": "da56972c-27d5-4cc0-fb25-51e8f650bf8d"
      },
      "source": [
        "# plotting\n",
        "plt.plot(list(model2.history.history.values())[0])\n",
        "plt.plot(list(model2.history.history.values())[1])\n",
        "plt.plot(list(model2.history.history.values())[2])\n",
        "plt.plot(list(model2.history.history.values())[3])\n",
        "plt.title('model2 accuracy-loss plot')\n",
        "plt.ylabel('accuracy/loss')\n",
        "plt.xlabel('epochs')\n",
        "plt.legend(['train loss', 'train accuracy', 'val loss', 'val accuracy'])\n",
        "plt.show()"
      ],
      "execution_count": 40,
      "outputs": [
        {
          "output_type": "display_data",
          "data": {
            "image/png": "[encoded data removed]",
            "text/plain": [
              "<Figure size 432x288 with 1 Axes>"
            ]
          },
          "metadata": {
            "tags": [],
            "needs_background": "light"
          }
        }
      ]
    },
    {
      "cell_type": "markdown",
      "metadata": {
        "id": "ovVwa-ALfEKt"
      },
      "source": [
        "> Observations\n",
        "- Using simple RNN from tensorflow has significantly improved the performance from from scratch RNN\n",
        "- From scratch RNN has only one RNN layer and no pretrained embedding layer and no dense layers. This caused the model to have less performance compared to tensorflow implementation of RNN model\n",
        "- simple RNN performed well on both train and val dataset with `89%` train accuracy and `75%` val accuracy for dataset-1\n",
        "- simple RNN performed well on both train and val dataset with `77%` train accuracy and `75%` val accuracy. As our main aim is val accuracy, model is still better on dataset-2\n",
        "- The architecture of the entire model is decided based on many experimentations.\n",
        "- Same architecture is followed for LSTM and GRU model for dataset1 and dataset2\n",
        "- Architecture is as follows\n",
        "Input -> Embedding -> SimpleRNN -> SimpleRNN -> MaxPool1D -> Dense -> Dropout -> BatchNormalization -> Output\n",
        "- The units in the layers are precisely choosen after a ton of experimentations on the model."
      ]
    },
    {
      "cell_type": "markdown",
      "metadata": {
        "id": "6x44O_Nj1iDP"
      },
      "source": [
        "> **7. Implement inbuilt LSTM in tensorflow and add the same layers as above.**"
      ]
    },
    {
      "cell_type": "code",
      "metadata": {
        "colab": {
          "base_uri": "https://localhost:8080/"
        },
        "id": "v3SY0CCtpiCD",
        "outputId": "c0d9ddb5-eb51-466d-9438-764d94daac09"
      },
      "source": [
        "#DATASET-1\n",
        "input = tf.keras.Input(shape=(INP_LEN1,), name='input')\n",
        "embed = tf.keras.layers.Embedding(VOCAB_LEN1+1, EMBED_DIM1, weights=[EMBEDDING_MATRIX1], trainable=False, name='embed')(input)\n",
        "lstm1 = tf.keras.layers.LSTM(192, return_sequences=True, dropout=0.3, name='lstm1')(embed)\n",
        "pool = tf.keras.layers.MaxPool1D(name='pool')(lstm1)\n",
        "lstm2 = tf.keras.layers.LSTM(128, dropout=0.2, name='lstm2')(pool)\n",
        "dense1 = tf.keras.layers.Dense(84, activation='relu', name='dense1')(lstm2)\n",
        "drop1 = tf.keras.layers.Dropout(0.2, name='drop1')(dense1)\n",
        "norm1 = tf.keras.layers.BatchNormalization(name='norm1')(drop1)\n",
        "output = tf.keras.layers.Dense(2, activation='softmax', name='output')(norm1)\n",
        "\n",
        "model3 = tf.keras.models.Model(inputs=input, outputs=output, name='model3')\n",
        "model3.summary()\n",
        "\n",
        "#DATASET-2\n",
        "input = tf.keras.Input(shape=(INP_LEN2,), name='input')\n",
        "embed = tf.keras.layers.Embedding(VOCAB_LEN2+1, EMBED_DIM2, weights=[EMBEDDING_MATRIX2], trainable=False, name='embed')(input)\n",
        "lstm1 = tf.keras.layers.LSTM(192, return_sequences=True, dropout=0.3, name='lstm1')(embed)\n",
        "pool = tf.keras.layers.MaxPool1D(name='pool')(lstm1)\n",
        "lstm2 = tf.keras.layers.LSTM(128, dropout=0.2, name='lstm2')(pool)\n",
        "dense1 = tf.keras.layers.Dense(84, activation='relu', name='dense1')(lstm2)\n",
        "drop1 = tf.keras.layers.Dropout(0.2, name='drop1')(dense1)\n",
        "norm1 = tf.keras.layers.BatchNormalization(name='norm1')(drop1)\n",
        "output = tf.keras.layers.Dense(2, activation='softmax', name='output')(norm1)\n",
        "\n",
        "model4 = tf.keras.models.Model(inputs=input, outputs=output, name='model4')\n",
        "model4.summary()"
      ],
      "execution_count": 34,
      "outputs": [
        {
          "output_type": "stream",
          "text": [
            "Model: \"model3\"\n",
            "_________________________________________________________________\n",
            "Layer (type)                 Output Shape              Param #   \n",
            "=================================================================\n",
            "input (InputLayer)           [(None, 55)]              0         \n",
            "_________________________________________________________________\n",
            "embed (Embedding)            (None, 55, 300)           950400    \n",
            "_________________________________________________________________\n",
            "lstm1 (LSTM)                 (None, 55, 192)           378624    \n",
            "_________________________________________________________________\n",
            "pool (MaxPooling1D)          (None, 27, 192)           0         \n",
            "_________________________________________________________________\n",
            "lstm2 (LSTM)                 (None, 128)               164352    \n",
            "_________________________________________________________________\n",
            "dense1 (Dense)               (None, 84)                10836     \n",
            "_________________________________________________________________\n",
            "drop1 (Dropout)              (None, 84)                0         \n",
            "_________________________________________________________________\n",
            "norm1 (BatchNormalization)   (None, 84)                336       \n",
            "_________________________________________________________________\n",
            "output (Dense)               (None, 2)                 170       \n",
            "=================================================================\n",
            "Total params: 1,504,718\n",
            "Trainable params: 554,150\n",
            "Non-trainable params: 950,568\n",
            "_________________________________________________________________\n",
            "Model: \"model4\"\n",
            "_________________________________________________________________\n",
            "Layer (type)                 Output Shape              Param #   \n",
            "=================================================================\n",
            "input (InputLayer)           [(None, 43)]              0         \n",
            "_________________________________________________________________\n",
            "embed (Embedding)            (None, 43, 300)           6152100   \n",
            "_________________________________________________________________\n",
            "lstm1 (LSTM)                 (None, 43, 192)           378624    \n",
            "_________________________________________________________________\n",
            "pool (MaxPooling1D)          (None, 21, 192)           0         \n",
            "_________________________________________________________________\n",
            "lstm2 (LSTM)                 (None, 128)               164352    \n",
            "_________________________________________________________________\n",
            "dense1 (Dense)               (None, 84)                10836     \n",
            "_________________________________________________________________\n",
            "drop1 (Dropout)              (None, 84)                0         \n",
            "_________________________________________________________________\n",
            "norm1 (BatchNormalization)   (None, 84)                336       \n",
            "_________________________________________________________________\n",
            "output (Dense)               (None, 2)                 170       \n",
            "=================================================================\n",
            "Total params: 6,706,418\n",
            "Trainable params: 554,150\n",
            "Non-trainable params: 6,152,268\n",
            "_________________________________________________________________\n"
          ],
          "name": "stdout"
        }
      ]
    },
    {
      "cell_type": "code",
      "metadata": {
        "id": "w5WhQv2_DVPe"
      },
      "source": [
        "#CONFIG FOR DATASET-1\n",
        "LR3 = 0.0001\n",
        "LOSS3 = tf.keras.losses.CategoricalCrossentropy()\n",
        "OPTIMIZER3 = tf.keras.optimizers.Adam(learning_rate=LR3)\n",
        "BATCH_SIZE3=16\n",
        "EPOCHS3=100\n",
        "METRICS3 = ['acc']\n",
        "CALLBACKS3 = [tf.keras.callbacks.ReduceLROnPlateau(monitor='val_loss', factor=0.5, patience=5, min_lr=0.00000001, cooldown=1, verbose=1)]"
      ],
      "execution_count": null,
      "outputs": []
    },
    {
      "cell_type": "code",
      "metadata": {
        "colab": {
          "base_uri": "https://localhost:8080/"
        },
        "id": "AQxLf4_NDcXw",
        "outputId": "a5a298c5-1955-4e95-efe1-63cfb2afc782"
      },
      "source": [
        "#DATASET-1\n",
        "model3.compile(loss=LOSS3, optimizer=OPTIMIZER3, metrics=METRICS3)\n",
        "model3.fit(TrainX1, TrainY1, validation_data=(ValX1, ValY1),\n",
        "          batch_size=BATCH_SIZE3,\n",
        "          epochs=EPOCHS3,\n",
        "          callbacks=CALLBACKS3,\n",
        "          shuffle=True)"
      ],
      "execution_count": null,
      "outputs": [
        {
          "output_type": "stream",
          "text": [
            "Epoch 1/100\n",
            "44/44 [==============================] - 4s 27ms/step - loss: 0.7036 - acc: 0.5648 - val_loss: 0.6925 - val_acc: 0.4633\n",
            "Epoch 2/100\n",
            "44/44 [==============================] - 0s 11ms/step - loss: 0.6595 - acc: 0.6473 - val_loss: 0.6868 - val_acc: 0.5100\n",
            "Epoch 3/100\n",
            "44/44 [==============================] - 0s 11ms/step - loss: 0.5522 - acc: 0.7647 - val_loss: 0.6647 - val_acc: 0.6300\n",
            "Epoch 4/100\n",
            "44/44 [==============================] - 0s 11ms/step - loss: 0.4794 - acc: 0.7822 - val_loss: 0.6307 - val_acc: 0.8033\n",
            "Epoch 5/100\n",
            "44/44 [==============================] - 0s 11ms/step - loss: 0.4402 - acc: 0.7938 - val_loss: 0.6105 - val_acc: 0.8000\n",
            "Epoch 6/100\n",
            "44/44 [==============================] - 0s 11ms/step - loss: 0.3429 - acc: 0.8505 - val_loss: 0.5819 - val_acc: 0.7733\n",
            "Epoch 7/100\n",
            "44/44 [==============================] - 0s 11ms/step - loss: 0.3753 - acc: 0.8590 - val_loss: 0.5085 - val_acc: 0.8367\n",
            "Epoch 8/100\n",
            "44/44 [==============================] - 0s 11ms/step - loss: 0.3328 - acc: 0.8464 - val_loss: 0.4731 - val_acc: 0.8200\n",
            "Epoch 9/100\n",
            "44/44 [==============================] - 0s 11ms/step - loss: 0.2989 - acc: 0.8733 - val_loss: 0.4759 - val_acc: 0.7733\n",
            "Epoch 10/100\n",
            "44/44 [==============================] - 0s 11ms/step - loss: 0.3053 - acc: 0.8944 - val_loss: 0.4133 - val_acc: 0.8300\n",
            "Epoch 11/100\n",
            "44/44 [==============================] - 0s 11ms/step - loss: 0.2708 - acc: 0.8891 - val_loss: 0.4369 - val_acc: 0.7967\n",
            "Epoch 12/100\n",
            "44/44 [==============================] - 0s 11ms/step - loss: 0.2894 - acc: 0.8935 - val_loss: 0.3775 - val_acc: 0.8433\n",
            "Epoch 13/100\n",
            "44/44 [==============================] - 0s 11ms/step - loss: 0.2691 - acc: 0.8997 - val_loss: 0.3776 - val_acc: 0.8167\n",
            "Epoch 14/100\n",
            "44/44 [==============================] - 0s 11ms/step - loss: 0.3215 - acc: 0.8684 - val_loss: 0.4060 - val_acc: 0.8300\n",
            "Epoch 15/100\n",
            "44/44 [==============================] - 0s 11ms/step - loss: 0.2698 - acc: 0.8866 - val_loss: 0.4653 - val_acc: 0.8267\n",
            "Epoch 16/100\n",
            "44/44 [==============================] - 0s 11ms/step - loss: 0.2666 - acc: 0.8857 - val_loss: 0.4376 - val_acc: 0.8233\n",
            "Epoch 17/100\n",
            "44/44 [==============================] - 0s 11ms/step - loss: 0.2546 - acc: 0.9042 - val_loss: 0.4269 - val_acc: 0.8200\n",
            "\n",
            "Epoch 00017: ReduceLROnPlateau reducing learning rate to 4.999999873689376e-05.\n",
            "Epoch 18/100\n",
            "44/44 [==============================] - 0s 11ms/step - loss: 0.2896 - acc: 0.8890 - val_loss: 0.3794 - val_acc: 0.8300\n",
            "Epoch 19/100\n",
            "44/44 [==============================] - 0s 11ms/step - loss: 0.2795 - acc: 0.8909 - val_loss: 0.5142 - val_acc: 0.8033\n",
            "Epoch 20/100\n",
            "44/44 [==============================] - 0s 11ms/step - loss: 0.2519 - acc: 0.8994 - val_loss: 0.5267 - val_acc: 0.8000\n",
            "Epoch 21/100\n",
            "44/44 [==============================] - 0s 11ms/step - loss: 0.2189 - acc: 0.9370 - val_loss: 0.6779 - val_acc: 0.7767\n",
            "Epoch 22/100\n",
            "44/44 [==============================] - 0s 11ms/step - loss: 0.2098 - acc: 0.9180 - val_loss: 0.4648 - val_acc: 0.8300\n",
            "\n",
            "Epoch 00022: ReduceLROnPlateau reducing learning rate to 2.499999936844688e-05.\n",
            "Epoch 23/100\n",
            "44/44 [==============================] - 0s 11ms/step - loss: 0.2023 - acc: 0.9220 - val_loss: 0.6027 - val_acc: 0.8067\n",
            "Epoch 24/100\n",
            "44/44 [==============================] - 0s 11ms/step - loss: 0.2021 - acc: 0.9245 - val_loss: 0.5518 - val_acc: 0.8200\n",
            "Epoch 25/100\n",
            "44/44 [==============================] - 0s 11ms/step - loss: 0.2360 - acc: 0.9117 - val_loss: 0.5140 - val_acc: 0.8233\n",
            "Epoch 26/100\n",
            "44/44 [==============================] - 0s 11ms/step - loss: 0.1650 - acc: 0.9465 - val_loss: 0.4383 - val_acc: 0.8267\n",
            "Epoch 27/100\n",
            "44/44 [==============================] - 0s 11ms/step - loss: 0.2438 - acc: 0.9030 - val_loss: 0.5090 - val_acc: 0.8300\n",
            "\n",
            "Epoch 00027: ReduceLROnPlateau reducing learning rate to 1.249999968422344e-05.\n",
            "Epoch 28/100\n",
            "44/44 [==============================] - 1s 11ms/step - loss: 0.2058 - acc: 0.9283 - val_loss: 0.4572 - val_acc: 0.8333\n",
            "Epoch 29/100\n",
            "44/44 [==============================] - 0s 11ms/step - loss: 0.1751 - acc: 0.9414 - val_loss: 0.4760 - val_acc: 0.8333\n",
            "Epoch 30/100\n",
            "44/44 [==============================] - 0s 11ms/step - loss: 0.2497 - acc: 0.8987 - val_loss: 0.4647 - val_acc: 0.8367\n",
            "Epoch 31/100\n",
            "44/44 [==============================] - 0s 11ms/step - loss: 0.1754 - acc: 0.9420 - val_loss: 0.4337 - val_acc: 0.8333\n",
            "Epoch 32/100\n",
            "44/44 [==============================] - 0s 11ms/step - loss: 0.2032 - acc: 0.9268 - val_loss: 0.5395 - val_acc: 0.8267\n",
            "\n",
            "Epoch 00032: ReduceLROnPlateau reducing learning rate to 6.24999984211172e-06.\n",
            "Epoch 33/100\n",
            "44/44 [==============================] - 0s 11ms/step - loss: 0.2086 - acc: 0.9227 - val_loss: 0.4724 - val_acc: 0.8333\n",
            "Epoch 34/100\n",
            "44/44 [==============================] - 0s 11ms/step - loss: 0.2315 - acc: 0.9415 - val_loss: 0.4848 - val_acc: 0.8300\n",
            "Epoch 35/100\n",
            "44/44 [==============================] - 0s 11ms/step - loss: 0.1654 - acc: 0.9407 - val_loss: 0.4754 - val_acc: 0.8400\n",
            "Epoch 36/100\n",
            "44/44 [==============================] - 0s 11ms/step - loss: 0.2078 - acc: 0.9333 - val_loss: 0.4826 - val_acc: 0.8300\n",
            "Epoch 37/100\n",
            "44/44 [==============================] - 0s 11ms/step - loss: 0.2250 - acc: 0.9170 - val_loss: 0.4676 - val_acc: 0.8367\n",
            "\n",
            "Epoch 00037: ReduceLROnPlateau reducing learning rate to 3.12499992105586e-06.\n",
            "Epoch 38/100\n",
            "44/44 [==============================] - 0s 11ms/step - loss: 0.2150 - acc: 0.9170 - val_loss: 0.4698 - val_acc: 0.8367\n",
            "Epoch 39/100\n",
            "44/44 [==============================] - 0s 11ms/step - loss: 0.1817 - acc: 0.9373 - val_loss: 0.4841 - val_acc: 0.8267\n",
            "Epoch 40/100\n",
            "44/44 [==============================] - 0s 11ms/step - loss: 0.1868 - acc: 0.9294 - val_loss: 0.4870 - val_acc: 0.8267\n",
            "Epoch 41/100\n",
            "44/44 [==============================] - 0s 11ms/step - loss: 0.1809 - acc: 0.9401 - val_loss: 0.5166 - val_acc: 0.8267\n",
            "Epoch 42/100\n",
            "44/44 [==============================] - 1s 11ms/step - loss: 0.1669 - acc: 0.9400 - val_loss: 0.4709 - val_acc: 0.8367\n",
            "\n",
            "Epoch 00042: ReduceLROnPlateau reducing learning rate to 1.56249996052793e-06.\n",
            "Epoch 43/100\n",
            "44/44 [==============================] - 0s 11ms/step - loss: 0.1717 - acc: 0.9388 - val_loss: 0.4825 - val_acc: 0.8333\n",
            "Epoch 44/100\n",
            "44/44 [==============================] - 1s 11ms/step - loss: 0.2164 - acc: 0.9078 - val_loss: 0.4923 - val_acc: 0.8267\n",
            "Epoch 45/100\n",
            "44/44 [==============================] - 0s 11ms/step - loss: 0.1725 - acc: 0.9417 - val_loss: 0.4780 - val_acc: 0.8333\n",
            "Epoch 46/100\n",
            "44/44 [==============================] - 0s 11ms/step - loss: 0.1677 - acc: 0.9382 - val_loss: 0.4850 - val_acc: 0.8333\n",
            "Epoch 47/100\n",
            "44/44 [==============================] - 0s 11ms/step - loss: 0.1537 - acc: 0.9406 - val_loss: 0.4812 - val_acc: 0.8333\n",
            "\n",
            "Epoch 00047: ReduceLROnPlateau reducing learning rate to 7.81249980263965e-07.\n",
            "Epoch 48/100\n",
            "44/44 [==============================] - 0s 11ms/step - loss: 0.1721 - acc: 0.9392 - val_loss: 0.4794 - val_acc: 0.8333\n",
            "Epoch 49/100\n",
            "44/44 [==============================] - 0s 11ms/step - loss: 0.1570 - acc: 0.9442 - val_loss: 0.4751 - val_acc: 0.8333\n",
            "Epoch 50/100\n",
            "44/44 [==============================] - 0s 11ms/step - loss: 0.1791 - acc: 0.9340 - val_loss: 0.4746 - val_acc: 0.8367\n",
            "Epoch 51/100\n",
            "44/44 [==============================] - 0s 11ms/step - loss: 0.2006 - acc: 0.9250 - val_loss: 0.4791 - val_acc: 0.8333\n",
            "Epoch 52/100\n",
            "44/44 [==============================] - 0s 11ms/step - loss: 0.1976 - acc: 0.9376 - val_loss: 0.4831 - val_acc: 0.8333\n",
            "\n",
            "Epoch 00052: ReduceLROnPlateau reducing learning rate to 3.906249901319825e-07.\n",
            "Epoch 53/100\n",
            "44/44 [==============================] - 1s 12ms/step - loss: 0.1882 - acc: 0.9270 - val_loss: 0.4827 - val_acc: 0.8333\n",
            "Epoch 54/100\n",
            "44/44 [==============================] - 0s 11ms/step - loss: 0.2307 - acc: 0.9180 - val_loss: 0.4822 - val_acc: 0.8333\n",
            "Epoch 55/100\n",
            "44/44 [==============================] - 0s 11ms/step - loss: 0.1874 - acc: 0.9447 - val_loss: 0.4871 - val_acc: 0.8333\n",
            "Epoch 56/100\n",
            "44/44 [==============================] - 0s 11ms/step - loss: 0.2444 - acc: 0.9235 - val_loss: 0.4861 - val_acc: 0.8300\n",
            "Epoch 57/100\n",
            "44/44 [==============================] - 0s 11ms/step - loss: 0.2035 - acc: 0.9367 - val_loss: 0.4888 - val_acc: 0.8300\n",
            "\n",
            "Epoch 00057: ReduceLROnPlateau reducing learning rate to 1.9531249506599124e-07.\n",
            "Epoch 58/100\n",
            "44/44 [==============================] - 0s 11ms/step - loss: 0.2065 - acc: 0.9297 - val_loss: 0.4880 - val_acc: 0.8300\n",
            "Epoch 59/100\n",
            "44/44 [==============================] - 1s 12ms/step - loss: 0.1435 - acc: 0.9536 - val_loss: 0.4834 - val_acc: 0.8300\n",
            "Epoch 60/100\n",
            "44/44 [==============================] - 1s 12ms/step - loss: 0.1857 - acc: 0.9306 - val_loss: 0.4827 - val_acc: 0.8300\n",
            "Epoch 61/100\n",
            "44/44 [==============================] - 0s 11ms/step - loss: 0.1834 - acc: 0.9439 - val_loss: 0.4840 - val_acc: 0.8300\n",
            "Epoch 62/100\n",
            "44/44 [==============================] - 0s 11ms/step - loss: 0.1858 - acc: 0.9309 - val_loss: 0.4844 - val_acc: 0.8300\n",
            "\n",
            "Epoch 00062: ReduceLROnPlateau reducing learning rate to 9.765624753299562e-08.\n",
            "Epoch 63/100\n",
            "44/44 [==============================] - 0s 11ms/step - loss: 0.1745 - acc: 0.9532 - val_loss: 0.4841 - val_acc: 0.8300\n",
            "Epoch 64/100\n",
            "44/44 [==============================] - 0s 11ms/step - loss: 0.1885 - acc: 0.9416 - val_loss: 0.4833 - val_acc: 0.8300\n",
            "Epoch 65/100\n",
            "44/44 [==============================] - 0s 11ms/step - loss: 0.1681 - acc: 0.9321 - val_loss: 0.4828 - val_acc: 0.8300\n",
            "Epoch 66/100\n",
            "44/44 [==============================] - 0s 11ms/step - loss: 0.1735 - acc: 0.9460 - val_loss: 0.4848 - val_acc: 0.8300\n",
            "Epoch 67/100\n",
            "44/44 [==============================] - 1s 12ms/step - loss: 0.1780 - acc: 0.9450 - val_loss: 0.4835 - val_acc: 0.8300\n",
            "\n",
            "Epoch 00067: ReduceLROnPlateau reducing learning rate to 4.882812376649781e-08.\n",
            "Epoch 68/100\n",
            "44/44 [==============================] - 1s 11ms/step - loss: 0.1493 - acc: 0.9601 - val_loss: 0.4851 - val_acc: 0.8300\n",
            "Epoch 69/100\n",
            "44/44 [==============================] - 1s 12ms/step - loss: 0.1967 - acc: 0.9434 - val_loss: 0.4863 - val_acc: 0.8300\n",
            "Epoch 70/100\n",
            "44/44 [==============================] - 0s 11ms/step - loss: 0.2113 - acc: 0.9272 - val_loss: 0.4848 - val_acc: 0.8300\n",
            "Epoch 71/100\n",
            "44/44 [==============================] - 0s 11ms/step - loss: 0.1768 - acc: 0.9416 - val_loss: 0.4851 - val_acc: 0.8333\n",
            "Epoch 72/100\n",
            "44/44 [==============================] - 0s 11ms/step - loss: 0.1769 - acc: 0.9350 - val_loss: 0.4838 - val_acc: 0.8333\n",
            "\n",
            "Epoch 00072: ReduceLROnPlateau reducing learning rate to 2.4414061883248905e-08.\n",
            "Epoch 73/100\n",
            "44/44 [==============================] - 0s 11ms/step - loss: 0.1940 - acc: 0.9380 - val_loss: 0.4845 - val_acc: 0.8300\n",
            "Epoch 74/100\n",
            "44/44 [==============================] - 0s 11ms/step - loss: 0.1733 - acc: 0.9452 - val_loss: 0.4847 - val_acc: 0.8300\n",
            "Epoch 75/100\n",
            "44/44 [==============================] - 0s 11ms/step - loss: 0.1772 - acc: 0.9346 - val_loss: 0.4825 - val_acc: 0.8333\n",
            "Epoch 76/100\n",
            "44/44 [==============================] - 0s 11ms/step - loss: 0.1570 - acc: 0.9503 - val_loss: 0.4835 - val_acc: 0.8333\n",
            "Epoch 77/100\n",
            "44/44 [==============================] - 0s 11ms/step - loss: 0.1348 - acc: 0.9553 - val_loss: 0.4825 - val_acc: 0.8333\n",
            "\n",
            "Epoch 00077: ReduceLROnPlateau reducing learning rate to 1.2207030941624453e-08.\n",
            "Epoch 78/100\n",
            "44/44 [==============================] - 0s 11ms/step - loss: 0.1790 - acc: 0.9445 - val_loss: 0.4869 - val_acc: 0.8300\n",
            "Epoch 79/100\n",
            "44/44 [==============================] - 0s 11ms/step - loss: 0.1926 - acc: 0.9330 - val_loss: 0.4855 - val_acc: 0.8300\n",
            "Epoch 80/100\n",
            "44/44 [==============================] - 0s 11ms/step - loss: 0.1679 - acc: 0.9474 - val_loss: 0.4835 - val_acc: 0.8300\n",
            "Epoch 81/100\n",
            "44/44 [==============================] - 0s 11ms/step - loss: 0.1772 - acc: 0.9431 - val_loss: 0.4851 - val_acc: 0.8300\n",
            "Epoch 82/100\n",
            "44/44 [==============================] - 0s 11ms/step - loss: 0.1670 - acc: 0.9484 - val_loss: 0.4855 - val_acc: 0.8300\n",
            "\n",
            "Epoch 00082: ReduceLROnPlateau reducing learning rate to 1e-08.\n",
            "Epoch 83/100\n",
            "44/44 [==============================] - 0s 11ms/step - loss: 0.1917 - acc: 0.9447 - val_loss: 0.4854 - val_acc: 0.8300\n",
            "Epoch 84/100\n",
            "44/44 [==============================] - 0s 11ms/step - loss: 0.1813 - acc: 0.9504 - val_loss: 0.4863 - val_acc: 0.8300\n",
            "Epoch 85/100\n",
            "44/44 [==============================] - 0s 11ms/step - loss: 0.1923 - acc: 0.9336 - val_loss: 0.4859 - val_acc: 0.8300\n",
            "Epoch 86/100\n",
            "44/44 [==============================] - 0s 11ms/step - loss: 0.1447 - acc: 0.9598 - val_loss: 0.4840 - val_acc: 0.8333\n",
            "Epoch 87/100\n",
            "44/44 [==============================] - 1s 11ms/step - loss: 0.1790 - acc: 0.9418 - val_loss: 0.4844 - val_acc: 0.8333\n",
            "Epoch 88/100\n",
            "44/44 [==============================] - 0s 11ms/step - loss: 0.2251 - acc: 0.9261 - val_loss: 0.4846 - val_acc: 0.8300\n",
            "Epoch 89/100\n",
            "44/44 [==============================] - 0s 11ms/step - loss: 0.1601 - acc: 0.9433 - val_loss: 0.4827 - val_acc: 0.8300\n",
            "Epoch 90/100\n",
            "44/44 [==============================] - 0s 11ms/step - loss: 0.1722 - acc: 0.9498 - val_loss: 0.4848 - val_acc: 0.8300\n",
            "Epoch 91/100\n",
            "44/44 [==============================] - 0s 11ms/step - loss: 0.1741 - acc: 0.9405 - val_loss: 0.4838 - val_acc: 0.8300\n",
            "Epoch 92/100\n",
            "44/44 [==============================] - 0s 11ms/step - loss: 0.2043 - acc: 0.9190 - val_loss: 0.4829 - val_acc: 0.8333\n",
            "Epoch 93/100\n",
            "44/44 [==============================] - 0s 11ms/step - loss: 0.1682 - acc: 0.9486 - val_loss: 0.4817 - val_acc: 0.8300\n",
            "Epoch 94/100\n",
            "44/44 [==============================] - 1s 12ms/step - loss: 0.1619 - acc: 0.9414 - val_loss: 0.4847 - val_acc: 0.8300\n",
            "Epoch 95/100\n",
            "44/44 [==============================] - 0s 11ms/step - loss: 0.1529 - acc: 0.9396 - val_loss: 0.4823 - val_acc: 0.8333\n",
            "Epoch 96/100\n",
            "44/44 [==============================] - 0s 11ms/step - loss: 0.1543 - acc: 0.9540 - val_loss: 0.4841 - val_acc: 0.8300\n",
            "Epoch 97/100\n",
            "44/44 [==============================] - 0s 11ms/step - loss: 0.1753 - acc: 0.9398 - val_loss: 0.4850 - val_acc: 0.8300\n",
            "Epoch 98/100\n",
            "44/44 [==============================] - 1s 12ms/step - loss: 0.1653 - acc: 0.9507 - val_loss: 0.4850 - val_acc: 0.8300\n",
            "Epoch 99/100\n",
            "44/44 [==============================] - 0s 11ms/step - loss: 0.1559 - acc: 0.9587 - val_loss: 0.4845 - val_acc: 0.8300\n",
            "Epoch 100/100\n",
            "44/44 [==============================] - 0s 11ms/step - loss: 0.1962 - acc: 0.9292 - val_loss: 0.4849 - val_acc: 0.8300\n"
          ],
          "name": "stdout"
        },
        {
          "output_type": "execute_result",
          "data": {
            "text/plain": [
              "<tensorflow.python.keras.callbacks.History at 0x7f6cd716eed0>"
            ]
          },
          "metadata": {
            "tags": []
          },
          "execution_count": 234
        }
      ]
    },
    {
      "cell_type": "code",
      "metadata": {
        "colab": {
          "base_uri": "https://localhost:8080/",
          "height": 295
        },
        "id": "RnTMR5l0kSU8",
        "outputId": "8df195f0-d47e-432c-aade-d9f92a4f065e"
      },
      "source": [
        "# plotting FOR DATASET-1\n",
        "plt.plot(list(model3.history.history.values())[0])\n",
        "plt.plot(list(model3.history.history.values())[1])\n",
        "plt.plot(list(model3.history.history.values())[2])\n",
        "plt.plot(list(model3.history.history.values())[3])\n",
        "plt.title('model3 accuracy-loss plot')\n",
        "plt.ylabel('accuracy/loss')\n",
        "plt.xlabel('epochs')\n",
        "plt.legend(['train loss', 'train accuracy', 'val loss', 'val accuracy'])\n",
        "plt.show()"
      ],
      "execution_count": null,
      "outputs": [
        {
          "output_type": "display_data",
          "data": {
            "image/png": "[encoded data removed]",
            "text/plain": [
              "<Figure size 432x288 with 1 Axes>"
            ]
          },
          "metadata": {
            "tags": [],
            "needs_background": "light"
          }
        }
      ]
    },
    {
      "cell_type": "code",
      "metadata": {
        "id": "zvXqTfL-mc_A"
      },
      "source": [
        "#CONFIG FOR DATASET-2\n",
        "LR4 = 0.0001\n",
        "LOSS4 = tf.keras.losses.CategoricalCrossentropy()\n",
        "OPTIMIZER4 = tf.keras.optimizers.Adam(learning_rate=LR4)\n",
        "BATCH_SIZE4=32\n",
        "EPOCHS4=50\n",
        "METRICS4 = ['acc']\n",
        "CALLBACKS4 = [tf.keras.callbacks.ReduceLROnPlateau(monitor='val_loss', factor=0.5, patience=5, min_lr=0.00000001, cooldown=1, verbose=1)]"
      ],
      "execution_count": 35,
      "outputs": []
    },
    {
      "cell_type": "code",
      "metadata": {
        "colab": {
          "base_uri": "https://localhost:8080/"
        },
        "id": "g5qjLABYml6K",
        "outputId": "3bdd50a4-139e-4a76-9aea-95485de4311a"
      },
      "source": [
        "#DATASET-2\n",
        "model4.compile(loss=LOSS4, optimizer=OPTIMIZER4, metrics=METRICS4)\n",
        "model4.fit(TrainX2, TrainY2, validation_data=(ValX2, ValY2),\n",
        "          batch_size=BATCH_SIZE4,\n",
        "          epochs=EPOCHS4,\n",
        "          callbacks=CALLBACKS4,\n",
        "          shuffle=True)"
      ],
      "execution_count": 36,
      "outputs": [
        {
          "output_type": "stream",
          "text": [
            "Epoch 1/50\n",
            "267/267 [==============================] - 12s 29ms/step - loss: 0.6643 - acc: 0.6012 - val_loss: 0.6418 - val_acc: 0.6737\n",
            "Epoch 2/50\n",
            "267/267 [==============================] - 7s 26ms/step - loss: 0.5225 - acc: 0.7392 - val_loss: 0.5476 - val_acc: 0.7440\n",
            "Epoch 3/50\n",
            "267/267 [==============================] - 7s 26ms/step - loss: 0.5026 - acc: 0.7562 - val_loss: 0.5302 - val_acc: 0.7271\n",
            "Epoch 4/50\n",
            "267/267 [==============================] - 7s 26ms/step - loss: 0.4943 - acc: 0.7526 - val_loss: 0.4918 - val_acc: 0.7647\n",
            "Epoch 5/50\n",
            "267/267 [==============================] - 7s 26ms/step - loss: 0.4853 - acc: 0.7611 - val_loss: 0.5031 - val_acc: 0.7670\n",
            "Epoch 6/50\n",
            "267/267 [==============================] - 7s 26ms/step - loss: 0.4675 - acc: 0.7695 - val_loss: 0.4849 - val_acc: 0.7600\n",
            "Epoch 7/50\n",
            "267/267 [==============================] - 7s 26ms/step - loss: 0.4522 - acc: 0.7855 - val_loss: 0.5384 - val_acc: 0.7632\n",
            "Epoch 8/50\n",
            "267/267 [==============================] - 7s 26ms/step - loss: 0.4658 - acc: 0.7668 - val_loss: 0.5956 - val_acc: 0.6943\n",
            "Epoch 9/50\n",
            "267/267 [==============================] - 7s 26ms/step - loss: 0.4500 - acc: 0.7824 - val_loss: 0.4800 - val_acc: 0.7726\n",
            "Epoch 10/50\n",
            "267/267 [==============================] - 7s 26ms/step - loss: 0.4406 - acc: 0.7865 - val_loss: 0.5674 - val_acc: 0.7206\n",
            "Epoch 11/50\n",
            "267/267 [==============================] - 7s 26ms/step - loss: 0.4369 - acc: 0.7880 - val_loss: 0.5324 - val_acc: 0.7515\n",
            "Epoch 12/50\n",
            "267/267 [==============================] - 7s 26ms/step - loss: 0.4140 - acc: 0.8007 - val_loss: 0.4787 - val_acc: 0.7768\n",
            "Epoch 13/50\n",
            "267/267 [==============================] - 7s 26ms/step - loss: 0.4198 - acc: 0.7991 - val_loss: 0.4803 - val_acc: 0.7787\n",
            "Epoch 14/50\n",
            "267/267 [==============================] - 7s 26ms/step - loss: 0.4052 - acc: 0.8127 - val_loss: 0.5717 - val_acc: 0.7323\n",
            "Epoch 15/50\n",
            "267/267 [==============================] - 7s 26ms/step - loss: 0.4016 - acc: 0.8150 - val_loss: 0.4777 - val_acc: 0.7679\n",
            "Epoch 16/50\n",
            "267/267 [==============================] - 7s 26ms/step - loss: 0.3975 - acc: 0.8124 - val_loss: 0.5360 - val_acc: 0.7586\n",
            "Epoch 17/50\n",
            "267/267 [==============================] - 7s 26ms/step - loss: 0.3745 - acc: 0.8250 - val_loss: 0.5827 - val_acc: 0.7412\n",
            "Epoch 18/50\n",
            "267/267 [==============================] - 7s 26ms/step - loss: 0.3698 - acc: 0.8325 - val_loss: 0.5015 - val_acc: 0.7759\n",
            "Epoch 19/50\n",
            "267/267 [==============================] - 7s 26ms/step - loss: 0.3517 - acc: 0.8442 - val_loss: 0.5301 - val_acc: 0.7684\n",
            "Epoch 20/50\n",
            "267/267 [==============================] - 7s 26ms/step - loss: 0.3470 - acc: 0.8429 - val_loss: 0.4808 - val_acc: 0.7829\n",
            "\n",
            "Epoch 00020: ReduceLROnPlateau reducing learning rate to 4.999999873689376e-05.\n",
            "Epoch 21/50\n",
            "267/267 [==============================] - 7s 26ms/step - loss: 0.3168 - acc: 0.8636 - val_loss: 0.5218 - val_acc: 0.7745\n",
            "Epoch 22/50\n",
            "267/267 [==============================] - 7s 26ms/step - loss: 0.3096 - acc: 0.8630 - val_loss: 0.5225 - val_acc: 0.7862\n",
            "Epoch 23/50\n",
            "267/267 [==============================] - 7s 26ms/step - loss: 0.3038 - acc: 0.8677 - val_loss: 0.5268 - val_acc: 0.7881\n",
            "Epoch 24/50\n",
            "267/267 [==============================] - 7s 26ms/step - loss: 0.3026 - acc: 0.8696 - val_loss: 0.5315 - val_acc: 0.7693\n",
            "Epoch 25/50\n",
            "267/267 [==============================] - 7s 26ms/step - loss: 0.2962 - acc: 0.8676 - val_loss: 0.5383 - val_acc: 0.7745\n",
            "\n",
            "Epoch 00025: ReduceLROnPlateau reducing learning rate to 2.499999936844688e-05.\n",
            "Epoch 26/50\n",
            "267/267 [==============================] - 7s 26ms/step - loss: 0.2714 - acc: 0.8844 - val_loss: 0.5643 - val_acc: 0.7740\n",
            "Epoch 27/50\n",
            "267/267 [==============================] - 7s 26ms/step - loss: 0.2571 - acc: 0.8864 - val_loss: 0.5247 - val_acc: 0.7834\n",
            "Epoch 28/50\n",
            "267/267 [==============================] - 7s 26ms/step - loss: 0.2539 - acc: 0.8919 - val_loss: 0.5372 - val_acc: 0.7942\n",
            "Epoch 29/50\n",
            "267/267 [==============================] - 7s 26ms/step - loss: 0.2562 - acc: 0.8910 - val_loss: 0.5392 - val_acc: 0.7872\n",
            "Epoch 30/50\n",
            "267/267 [==============================] - 7s 26ms/step - loss: 0.2673 - acc: 0.8861 - val_loss: 0.5325 - val_acc: 0.7918\n",
            "\n",
            "Epoch 00030: ReduceLROnPlateau reducing learning rate to 1.249999968422344e-05.\n",
            "Epoch 31/50\n",
            "267/267 [==============================] - 7s 26ms/step - loss: 0.2454 - acc: 0.8952 - val_loss: 0.5551 - val_acc: 0.7872\n",
            "Epoch 32/50\n",
            "267/267 [==============================] - 7s 26ms/step - loss: 0.2343 - acc: 0.8976 - val_loss: 0.5358 - val_acc: 0.7829\n",
            "Epoch 33/50\n",
            "267/267 [==============================] - 7s 27ms/step - loss: 0.2390 - acc: 0.9004 - val_loss: 0.5784 - val_acc: 0.7773\n",
            "Epoch 34/50\n",
            "267/267 [==============================] - 7s 26ms/step - loss: 0.2421 - acc: 0.8996 - val_loss: 0.5801 - val_acc: 0.7839\n",
            "Epoch 35/50\n",
            "267/267 [==============================] - 7s 26ms/step - loss: 0.2320 - acc: 0.9057 - val_loss: 0.5720 - val_acc: 0.7815\n",
            "\n",
            "Epoch 00035: ReduceLROnPlateau reducing learning rate to 6.24999984211172e-06.\n",
            "Epoch 36/50\n",
            "267/267 [==============================] - 7s 26ms/step - loss: 0.2159 - acc: 0.9087 - val_loss: 0.5684 - val_acc: 0.7881\n",
            "Epoch 37/50\n",
            "267/267 [==============================] - 7s 26ms/step - loss: 0.2246 - acc: 0.9095 - val_loss: 0.5569 - val_acc: 0.7932\n",
            "Epoch 38/50\n",
            "267/267 [==============================] - 7s 26ms/step - loss: 0.2280 - acc: 0.9049 - val_loss: 0.5777 - val_acc: 0.7843\n",
            "Epoch 39/50\n",
            "267/267 [==============================] - 7s 26ms/step - loss: 0.2138 - acc: 0.9118 - val_loss: 0.5596 - val_acc: 0.7904\n",
            "Epoch 40/50\n",
            "267/267 [==============================] - 7s 26ms/step - loss: 0.2249 - acc: 0.9018 - val_loss: 0.6162 - val_acc: 0.7698\n",
            "\n",
            "Epoch 00040: ReduceLROnPlateau reducing learning rate to 3.12499992105586e-06.\n",
            "Epoch 41/50\n",
            "267/267 [==============================] - 7s 26ms/step - loss: 0.2089 - acc: 0.9133 - val_loss: 0.5771 - val_acc: 0.7867\n",
            "Epoch 42/50\n",
            "267/267 [==============================] - 7s 26ms/step - loss: 0.2220 - acc: 0.9062 - val_loss: 0.5914 - val_acc: 0.7834\n",
            "Epoch 43/50\n",
            "267/267 [==============================] - 7s 26ms/step - loss: 0.2160 - acc: 0.9090 - val_loss: 0.5474 - val_acc: 0.7918\n",
            "Epoch 44/50\n",
            "267/267 [==============================] - 7s 26ms/step - loss: 0.2303 - acc: 0.9064 - val_loss: 0.5729 - val_acc: 0.7872\n",
            "Epoch 45/50\n",
            "267/267 [==============================] - 7s 26ms/step - loss: 0.2315 - acc: 0.9052 - val_loss: 0.5872 - val_acc: 0.7820\n",
            "\n",
            "Epoch 00045: ReduceLROnPlateau reducing learning rate to 1.56249996052793e-06.\n",
            "Epoch 46/50\n",
            "267/267 [==============================] - 7s 26ms/step - loss: 0.2173 - acc: 0.9136 - val_loss: 0.5689 - val_acc: 0.7886\n",
            "Epoch 47/50\n",
            "267/267 [==============================] - 7s 26ms/step - loss: 0.2118 - acc: 0.9098 - val_loss: 0.5581 - val_acc: 0.7961\n",
            "Epoch 48/50\n",
            "267/267 [==============================] - 7s 26ms/step - loss: 0.2101 - acc: 0.9189 - val_loss: 0.5774 - val_acc: 0.7848\n",
            "Epoch 49/50\n",
            "267/267 [==============================] - 7s 26ms/step - loss: 0.2348 - acc: 0.9039 - val_loss: 0.5740 - val_acc: 0.7843\n",
            "Epoch 50/50\n",
            "267/267 [==============================] - 7s 26ms/step - loss: 0.2276 - acc: 0.9081 - val_loss: 0.5769 - val_acc: 0.7834\n",
            "\n",
            "Epoch 00050: ReduceLROnPlateau reducing learning rate to 7.81249980263965e-07.\n"
          ],
          "name": "stdout"
        },
        {
          "output_type": "execute_result",
          "data": {
            "text/plain": [
              "<tensorflow.python.keras.callbacks.History at 0x7f35b4979c90>"
            ]
          },
          "metadata": {
            "tags": []
          },
          "execution_count": 36
        }
      ]
    },
    {
      "cell_type": "code",
      "metadata": {
        "colab": {
          "base_uri": "https://localhost:8080/",
          "height": 295
        },
        "id": "v1BNs3RJmsI7",
        "outputId": "f8fb40f1-7a26-4474-a414-9f636e0657bd"
      },
      "source": [
        "# plotting FOR DATASET-2\n",
        "plt.plot(list(model4.history.history.values())[0])\n",
        "plt.plot(list(model4.history.history.values())[1])\n",
        "plt.plot(list(model4.history.history.values())[2])\n",
        "plt.plot(list(model4.history.history.values())[3])\n",
        "plt.title('model4 accuracy-loss plot')\n",
        "plt.ylabel('accuracy/loss')\n",
        "plt.xlabel('epochs')\n",
        "plt.legend(['train loss', 'train accuracy', 'val loss', 'val accuracy'])\n",
        "plt.show()"
      ],
      "execution_count": 41,
      "outputs": [
        {
          "output_type": "display_data",
          "data": {
            "image/png": "[encoded data removed]",
            "text/plain": [
              "<Figure size 432x288 with 1 Axes>"
            ]
          },
          "metadata": {
            "tags": [],
            "needs_background": "light"
          }
        }
      ]
    },
    {
      "cell_type": "markdown",
      "metadata": {
        "id": "tgzXSJhPgyU1"
      },
      "source": [
        "> Observations\n",
        "- LSTM is better compared to simple RNN layer\n",
        "- LSTM performed well on both train and val dataset with `92%` train accuracy and `83%` val accuracy for dataset-1\n",
        "- LSTM performed well on both train and val dataset with `90%` train accuracy and `78%` val accuracy for dataset-2\n",
        "- Same architecture is followed for GRU model for dataset1 and dataset2\n",
        "- Architecture is as follows\n",
        "Input -> Embedding -> LSTM -> LSTM -> MaxPool1D -> Dense -> Dropout -> BatchNormalization -> Output"
      ]
    },
    {
      "cell_type": "markdown",
      "metadata": {
        "id": "33IV9sU01laF"
      },
      "source": [
        "> **8. Implement inbuilt GRU in tensorflow and add the same layers as above.**"
      ]
    },
    {
      "cell_type": "code",
      "metadata": {
        "id": "sfpqqr1N1lN3",
        "colab": {
          "base_uri": "https://localhost:8080/"
        },
        "outputId": "925a5553-8d14-4d18-dbd6-a2b9da4bf4ab"
      },
      "source": [
        "#DATASET-1\n",
        "input = tf.keras.Input(shape=(INP_LEN1,), name='input')\n",
        "embed = tf.keras.layers.Embedding(VOCAB_LEN1+1, EMBED_DIM1, weights=[EMBEDDING_MATRIX1], trainable=False, name='embed')(input)\n",
        "gru1 = tf.keras.layers.GRU(192, return_sequences=True, dropout=0.3, name='gru1')(embed)\n",
        "pool = tf.keras.layers.MaxPool1D(name='pool')(gru1)\n",
        "gru2 = tf.keras.layers.GRU(128, dropout=0.2, name='gru2')(pool)\n",
        "dense1 = tf.keras.layers.Dense(84, activation='relu', name='dense1')(gru2)\n",
        "drop1 = tf.keras.layers.Dropout(0.2, name='drop1')(dense1)\n",
        "norm1 = tf.keras.layers.BatchNormalization(name='norm1')(drop1)\n",
        "output = tf.keras.layers.Dense(2, activation='softmax', name='output')(norm1)\n",
        "\n",
        "model5 = tf.keras.models.Model(inputs=input, outputs=output, name='model5')\n",
        "model5.summary()\n",
        "\n",
        "#DATASET-2\n",
        "input = tf.keras.Input(shape=(INP_LEN2,), name='input')\n",
        "embed = tf.keras.layers.Embedding(VOCAB_LEN2+1, EMBED_DIM2, weights=[EMBEDDING_MATRIX2], trainable=False, name='embed')(input)\n",
        "gru1 = tf.keras.layers.GRU(192, return_sequences=True, dropout=0.3, name='gru1')(embed)\n",
        "pool = tf.keras.layers.MaxPool1D(name='pool')(gru1)\n",
        "gru2 = tf.keras.layers.GRU(128, dropout=0.2, name='gru2')(pool)\n",
        "dense1 = tf.keras.layers.Dense(84, activation='relu', name='dense1')(gru2)\n",
        "drop1 = tf.keras.layers.Dropout(0.2, name='drop1')(dense1)\n",
        "norm1 = tf.keras.layers.BatchNormalization(name='norm1')(drop1)\n",
        "output = tf.keras.layers.Dense(2, activation='softmax', name='output')(norm1)\n",
        "\n",
        "model6 = tf.keras.models.Model(inputs=input, outputs=output, name='model6')\n",
        "model6.summary()"
      ],
      "execution_count": 37,
      "outputs": [
        {
          "output_type": "stream",
          "text": [
            "Model: \"model5\"\n",
            "_________________________________________________________________\n",
            "Layer (type)                 Output Shape              Param #   \n",
            "=================================================================\n",
            "input (InputLayer)           [(None, 55)]              0         \n",
            "_________________________________________________________________\n",
            "embed (Embedding)            (None, 55, 300)           950400    \n",
            "_________________________________________________________________\n",
            "gru1 (GRU)                   (None, 55, 192)           284544    \n",
            "_________________________________________________________________\n",
            "pool (MaxPooling1D)          (None, 27, 192)           0         \n",
            "_________________________________________________________________\n",
            "gru2 (GRU)                   (None, 128)               123648    \n",
            "_________________________________________________________________\n",
            "dense1 (Dense)               (None, 84)                10836     \n",
            "_________________________________________________________________\n",
            "drop1 (Dropout)              (None, 84)                0         \n",
            "_________________________________________________________________\n",
            "norm1 (BatchNormalization)   (None, 84)                336       \n",
            "_________________________________________________________________\n",
            "output (Dense)               (None, 2)                 170       \n",
            "=================================================================\n",
            "Total params: 1,369,934\n",
            "Trainable params: 419,366\n",
            "Non-trainable params: 950,568\n",
            "_________________________________________________________________\n",
            "Model: \"model6\"\n",
            "_________________________________________________________________\n",
            "Layer (type)                 Output Shape              Param #   \n",
            "=================================================================\n",
            "input (InputLayer)           [(None, 43)]              0         \n",
            "_________________________________________________________________\n",
            "embed (Embedding)            (None, 43, 300)           6152100   \n",
            "_________________________________________________________________\n",
            "gru1 (GRU)                   (None, 43, 192)           284544    \n",
            "_________________________________________________________________\n",
            "pool (MaxPooling1D)          (None, 21, 192)           0         \n",
            "_________________________________________________________________\n",
            "gru2 (GRU)                   (None, 128)               123648    \n",
            "_________________________________________________________________\n",
            "dense1 (Dense)               (None, 84)                10836     \n",
            "_________________________________________________________________\n",
            "drop1 (Dropout)              (None, 84)                0         \n",
            "_________________________________________________________________\n",
            "norm1 (BatchNormalization)   (None, 84)                336       \n",
            "_________________________________________________________________\n",
            "output (Dense)               (None, 2)                 170       \n",
            "=================================================================\n",
            "Total params: 6,571,634\n",
            "Trainable params: 419,366\n",
            "Non-trainable params: 6,152,268\n",
            "_________________________________________________________________\n"
          ],
          "name": "stdout"
        }
      ]
    },
    {
      "cell_type": "code",
      "metadata": {
        "id": "XITnSlM7JRSe"
      },
      "source": [
        "#CONFIG\n",
        "LR5 = 0.003\n",
        "LOSS5 = tf.keras.losses.CategoricalCrossentropy()\n",
        "OPTIMIZER5 = tf.keras.optimizers.Adam(learning_rate=LR5)\n",
        "BATCH_SIZE5=16\n",
        "EPOCHS5=100\n",
        "METRICS5 = ['acc']\n",
        "CALLBACKS5 = [tf.keras.callbacks.ReduceLROnPlateau(monitor='val_loss', factor=0.5, patience=5, min_lr=0.00000001, cooldown=1, verbose=1)]"
      ],
      "execution_count": null,
      "outputs": []
    },
    {
      "cell_type": "code",
      "metadata": {
        "colab": {
          "base_uri": "https://localhost:8080/"
        },
        "id": "LdHE350iJhGY",
        "outputId": "78e87484-71a7-4265-88b0-ca50b8f23bf9"
      },
      "source": [
        "model5.compile(loss=LOSS5, optimizer=OPTIMIZER5, metrics=METRICS5)\n",
        "model5.fit(TrainX1, TrainY1, validation_data=(ValX1, ValY1),\n",
        "          batch_size=BATCH_SIZE5,\n",
        "          epochs=EPOCHS5,\n",
        "          callbacks=CALLBACKS5,\n",
        "          shuffle=True)"
      ],
      "execution_count": null,
      "outputs": [
        {
          "output_type": "stream",
          "text": [
            "Epoch 1/100\n",
            "44/44 [==============================] - 4s 25ms/step - loss: 0.7596 - acc: 0.4551 - val_loss: 0.9241 - val_acc: 0.4567\n",
            "Epoch 2/100\n",
            "44/44 [==============================] - 0s 10ms/step - loss: 0.7457 - acc: 0.4842 - val_loss: 0.9168 - val_acc: 0.4567\n",
            "Epoch 3/100\n",
            "44/44 [==============================] - 0s 10ms/step - loss: 0.5997 - acc: 0.6728 - val_loss: 0.4907 - val_acc: 0.8167\n",
            "Epoch 4/100\n",
            "44/44 [==============================] - 0s 10ms/step - loss: 0.3961 - acc: 0.8495 - val_loss: 0.3562 - val_acc: 0.8300\n",
            "Epoch 5/100\n",
            "44/44 [==============================] - 0s 10ms/step - loss: 0.3358 - acc: 0.8383 - val_loss: 0.4114 - val_acc: 0.8600\n",
            "Epoch 6/100\n",
            "44/44 [==============================] - 0s 10ms/step - loss: 0.2046 - acc: 0.9181 - val_loss: 0.3781 - val_acc: 0.8700\n",
            "Epoch 7/100\n",
            "44/44 [==============================] - 0s 10ms/step - loss: 0.1887 - acc: 0.9313 - val_loss: 0.7676 - val_acc: 0.7400\n",
            "Epoch 8/100\n",
            "44/44 [==============================] - 0s 10ms/step - loss: 0.1800 - acc: 0.9361 - val_loss: 0.5020 - val_acc: 0.8367\n",
            "Epoch 9/100\n",
            "44/44 [==============================] - 0s 10ms/step - loss: 0.1766 - acc: 0.9369 - val_loss: 0.4369 - val_acc: 0.8700\n",
            "\n",
            "Epoch 00009: ReduceLROnPlateau reducing learning rate to 0.001500000013038516.\n",
            "Epoch 10/100\n",
            "44/44 [==============================] - 0s 10ms/step - loss: 0.1192 - acc: 0.9643 - val_loss: 0.5731 - val_acc: 0.8500\n",
            "Epoch 11/100\n",
            "44/44 [==============================] - 0s 10ms/step - loss: 0.0766 - acc: 0.9686 - val_loss: 0.5327 - val_acc: 0.8467\n",
            "Epoch 12/100\n",
            "44/44 [==============================] - 0s 10ms/step - loss: 0.0814 - acc: 0.9748 - val_loss: 0.5665 - val_acc: 0.8500\n",
            "Epoch 13/100\n",
            "44/44 [==============================] - 0s 10ms/step - loss: 0.0881 - acc: 0.9822 - val_loss: 0.5653 - val_acc: 0.8367\n",
            "Epoch 14/100\n",
            "44/44 [==============================] - 0s 10ms/step - loss: 0.0297 - acc: 0.9962 - val_loss: 0.7319 - val_acc: 0.8600\n",
            "\n",
            "Epoch 00014: ReduceLROnPlateau reducing learning rate to 0.000750000006519258.\n",
            "Epoch 15/100\n",
            "44/44 [==============================] - 0s 10ms/step - loss: 0.0533 - acc: 0.9909 - val_loss: 0.7337 - val_acc: 0.8500\n",
            "Epoch 16/100\n",
            "44/44 [==============================] - 0s 10ms/step - loss: 0.0482 - acc: 0.9824 - val_loss: 0.8595 - val_acc: 0.8167\n",
            "Epoch 17/100\n",
            "44/44 [==============================] - 0s 10ms/step - loss: 0.0342 - acc: 0.9904 - val_loss: 0.8604 - val_acc: 0.8300\n",
            "Epoch 18/100\n",
            "44/44 [==============================] - 0s 10ms/step - loss: 0.0415 - acc: 0.9868 - val_loss: 0.8193 - val_acc: 0.8367\n",
            "Epoch 19/100\n",
            "44/44 [==============================] - 0s 10ms/step - loss: 0.0535 - acc: 0.9887 - val_loss: 0.7331 - val_acc: 0.8533\n",
            "\n",
            "Epoch 00019: ReduceLROnPlateau reducing learning rate to 0.000375000003259629.\n",
            "Epoch 20/100\n",
            "44/44 [==============================] - 0s 10ms/step - loss: 0.0264 - acc: 0.9918 - val_loss: 0.7219 - val_acc: 0.8433\n",
            "Epoch 21/100\n",
            "44/44 [==============================] - 0s 10ms/step - loss: 0.0302 - acc: 0.9927 - val_loss: 0.7120 - val_acc: 0.8567\n",
            "Epoch 22/100\n",
            "44/44 [==============================] - 0s 10ms/step - loss: 0.0349 - acc: 0.9877 - val_loss: 0.7478 - val_acc: 0.8467\n",
            "Epoch 23/100\n",
            "44/44 [==============================] - 0s 10ms/step - loss: 0.0125 - acc: 0.9990 - val_loss: 0.7840 - val_acc: 0.8433\n",
            "Epoch 24/100\n",
            "44/44 [==============================] - 0s 10ms/step - loss: 0.0260 - acc: 0.9960 - val_loss: 0.7232 - val_acc: 0.8500\n",
            "\n",
            "Epoch 00024: ReduceLROnPlateau reducing learning rate to 0.0001875000016298145.\n",
            "Epoch 25/100\n",
            "44/44 [==============================] - 0s 10ms/step - loss: 0.0226 - acc: 0.9907 - val_loss: 0.7379 - val_acc: 0.8567\n",
            "Epoch 26/100\n",
            "44/44 [==============================] - 0s 10ms/step - loss: 0.0138 - acc: 0.9964 - val_loss: 0.7626 - val_acc: 0.8533\n",
            "Epoch 27/100\n",
            "44/44 [==============================] - 0s 10ms/step - loss: 0.0120 - acc: 0.9980 - val_loss: 0.7971 - val_acc: 0.8467\n",
            "Epoch 28/100\n",
            "44/44 [==============================] - 0s 10ms/step - loss: 0.0097 - acc: 0.9994 - val_loss: 0.7563 - val_acc: 0.8600\n",
            "Epoch 29/100\n",
            "44/44 [==============================] - 0s 10ms/step - loss: 0.0109 - acc: 0.9961 - val_loss: 0.7742 - val_acc: 0.8400\n",
            "\n",
            "Epoch 00029: ReduceLROnPlateau reducing learning rate to 9.375000081490725e-05.\n",
            "Epoch 30/100\n",
            "44/44 [==============================] - 0s 10ms/step - loss: 0.0204 - acc: 0.9952 - val_loss: 0.7613 - val_acc: 0.8533\n",
            "Epoch 31/100\n",
            "44/44 [==============================] - 0s 10ms/step - loss: 0.0071 - acc: 0.9978 - val_loss: 0.7637 - val_acc: 0.8500\n",
            "Epoch 32/100\n",
            "44/44 [==============================] - 0s 10ms/step - loss: 0.0162 - acc: 0.9965 - val_loss: 0.7616 - val_acc: 0.8500\n",
            "Epoch 33/100\n",
            "44/44 [==============================] - 0s 10ms/step - loss: 0.0081 - acc: 0.9980 - val_loss: 0.7795 - val_acc: 0.8533\n",
            "Epoch 34/100\n",
            "44/44 [==============================] - 0s 10ms/step - loss: 0.0575 - acc: 0.9873 - val_loss: 0.7985 - val_acc: 0.8500\n",
            "\n",
            "Epoch 00034: ReduceLROnPlateau reducing learning rate to 4.6875000407453626e-05.\n",
            "Epoch 35/100\n",
            "44/44 [==============================] - 0s 10ms/step - loss: 0.0087 - acc: 0.9984 - val_loss: 0.8103 - val_acc: 0.8467\n",
            "Epoch 36/100\n",
            "44/44 [==============================] - 0s 10ms/step - loss: 0.0096 - acc: 0.9982 - val_loss: 0.7999 - val_acc: 0.8467\n",
            "Epoch 37/100\n",
            "44/44 [==============================] - 0s 10ms/step - loss: 0.0212 - acc: 0.9962 - val_loss: 0.7852 - val_acc: 0.8500\n",
            "Epoch 38/100\n",
            "44/44 [==============================] - 0s 10ms/step - loss: 0.0126 - acc: 0.9965 - val_loss: 0.8028 - val_acc: 0.8467\n",
            "Epoch 39/100\n",
            "44/44 [==============================] - 0s 10ms/step - loss: 0.0130 - acc: 0.9954 - val_loss: 0.8052 - val_acc: 0.8467\n",
            "\n",
            "Epoch 00039: ReduceLROnPlateau reducing learning rate to 2.3437500203726813e-05.\n",
            "Epoch 40/100\n",
            "44/44 [==============================] - 0s 10ms/step - loss: 0.0079 - acc: 0.9979 - val_loss: 0.8048 - val_acc: 0.8467\n",
            "Epoch 41/100\n",
            "44/44 [==============================] - 0s 10ms/step - loss: 0.0052 - acc: 1.0000 - val_loss: 0.8047 - val_acc: 0.8467\n",
            "Epoch 42/100\n",
            "44/44 [==============================] - 0s 10ms/step - loss: 0.0155 - acc: 0.9991 - val_loss: 0.8025 - val_acc: 0.8467\n",
            "Epoch 43/100\n",
            "44/44 [==============================] - 0s 10ms/step - loss: 0.0072 - acc: 0.9999 - val_loss: 0.8022 - val_acc: 0.8467\n",
            "Epoch 44/100\n",
            "44/44 [==============================] - 0s 10ms/step - loss: 0.0318 - acc: 0.9938 - val_loss: 0.7908 - val_acc: 0.8533\n",
            "\n",
            "Epoch 00044: ReduceLROnPlateau reducing learning rate to 1.1718750101863407e-05.\n",
            "Epoch 45/100\n",
            "44/44 [==============================] - 0s 10ms/step - loss: 0.0117 - acc: 0.9966 - val_loss: 0.7877 - val_acc: 0.8533\n",
            "Epoch 46/100\n",
            "44/44 [==============================] - 0s 10ms/step - loss: 0.0076 - acc: 0.9978 - val_loss: 0.7847 - val_acc: 0.8567\n",
            "Epoch 47/100\n",
            "44/44 [==============================] - 0s 10ms/step - loss: 0.0039 - acc: 1.0000 - val_loss: 0.7870 - val_acc: 0.8567\n",
            "Epoch 48/100\n",
            "44/44 [==============================] - 0s 10ms/step - loss: 0.0061 - acc: 0.9996 - val_loss: 0.7855 - val_acc: 0.8567\n",
            "Epoch 49/100\n",
            "44/44 [==============================] - 0s 10ms/step - loss: 0.0176 - acc: 0.9964 - val_loss: 0.7800 - val_acc: 0.8567\n",
            "\n",
            "Epoch 00049: ReduceLROnPlateau reducing learning rate to 5.859375050931703e-06.\n",
            "Epoch 50/100\n",
            "44/44 [==============================] - 0s 10ms/step - loss: 0.0086 - acc: 0.9998 - val_loss: 0.7843 - val_acc: 0.8567\n",
            "Epoch 51/100\n",
            "44/44 [==============================] - 0s 10ms/step - loss: 0.0238 - acc: 0.9973 - val_loss: 0.7845 - val_acc: 0.8567\n",
            "Epoch 52/100\n",
            "44/44 [==============================] - 0s 10ms/step - loss: 0.0178 - acc: 0.9966 - val_loss: 0.7897 - val_acc: 0.8567\n",
            "Epoch 53/100\n",
            "44/44 [==============================] - 0s 10ms/step - loss: 0.0051 - acc: 1.0000 - val_loss: 0.7900 - val_acc: 0.8567\n",
            "Epoch 54/100\n",
            "44/44 [==============================] - 0s 10ms/step - loss: 0.0106 - acc: 0.9970 - val_loss: 0.7913 - val_acc: 0.8567\n",
            "\n",
            "Epoch 00054: ReduceLROnPlateau reducing learning rate to 2.9296875254658516e-06.\n",
            "Epoch 55/100\n",
            "44/44 [==============================] - 0s 10ms/step - loss: 0.0155 - acc: 0.9950 - val_loss: 0.7928 - val_acc: 0.8567\n",
            "Epoch 56/100\n",
            "44/44 [==============================] - 0s 10ms/step - loss: 0.0372 - acc: 0.9930 - val_loss: 0.7899 - val_acc: 0.8567\n",
            "Epoch 57/100\n",
            "44/44 [==============================] - 0s 10ms/step - loss: 0.0207 - acc: 0.9892 - val_loss: 0.7871 - val_acc: 0.8600\n",
            "Epoch 58/100\n",
            "44/44 [==============================] - 0s 10ms/step - loss: 0.0062 - acc: 1.0000 - val_loss: 0.7880 - val_acc: 0.8600\n",
            "Epoch 59/100\n",
            "44/44 [==============================] - 0s 11ms/step - loss: 0.0079 - acc: 0.9986 - val_loss: 0.7849 - val_acc: 0.8600\n",
            "\n",
            "Epoch 00059: ReduceLROnPlateau reducing learning rate to 1.4648437627329258e-06.\n",
            "Epoch 60/100\n",
            "44/44 [==============================] - 0s 11ms/step - loss: 0.0107 - acc: 0.9961 - val_loss: 0.7882 - val_acc: 0.8600\n",
            "Epoch 61/100\n",
            "44/44 [==============================] - 0s 10ms/step - loss: 0.0093 - acc: 0.9971 - val_loss: 0.7897 - val_acc: 0.8600\n",
            "Epoch 62/100\n",
            "44/44 [==============================] - 0s 10ms/step - loss: 0.0154 - acc: 0.9923 - val_loss: 0.7886 - val_acc: 0.8600\n",
            "Epoch 63/100\n",
            "44/44 [==============================] - 0s 10ms/step - loss: 0.0086 - acc: 1.0000 - val_loss: 0.7861 - val_acc: 0.8600\n",
            "Epoch 64/100\n",
            "44/44 [==============================] - 0s 10ms/step - loss: 0.0224 - acc: 0.9948 - val_loss: 0.7876 - val_acc: 0.8600\n",
            "\n",
            "Epoch 00064: ReduceLROnPlateau reducing learning rate to 7.324218813664629e-07.\n",
            "Epoch 65/100\n",
            "44/44 [==============================] - 0s 10ms/step - loss: 0.0072 - acc: 0.9990 - val_loss: 0.7854 - val_acc: 0.8600\n",
            "Epoch 66/100\n",
            "44/44 [==============================] - 0s 10ms/step - loss: 0.0232 - acc: 0.9962 - val_loss: 0.7870 - val_acc: 0.8600\n",
            "Epoch 67/100\n",
            "44/44 [==============================] - 0s 10ms/step - loss: 0.0262 - acc: 0.9917 - val_loss: 0.7860 - val_acc: 0.8600\n",
            "Epoch 68/100\n",
            "44/44 [==============================] - 0s 11ms/step - loss: 0.0103 - acc: 0.9975 - val_loss: 0.7861 - val_acc: 0.8600\n",
            "Epoch 69/100\n",
            "44/44 [==============================] - 0s 11ms/step - loss: 0.0071 - acc: 1.0000 - val_loss: 0.7863 - val_acc: 0.8600\n",
            "\n",
            "Epoch 00069: ReduceLROnPlateau reducing learning rate to 3.6621094068323146e-07.\n",
            "Epoch 70/100\n",
            "44/44 [==============================] - 0s 11ms/step - loss: 0.0101 - acc: 0.9978 - val_loss: 0.7879 - val_acc: 0.8600\n",
            "Epoch 71/100\n",
            "44/44 [==============================] - 0s 11ms/step - loss: 0.0103 - acc: 0.9962 - val_loss: 0.7882 - val_acc: 0.8600\n",
            "Epoch 72/100\n",
            "44/44 [==============================] - 0s 10ms/step - loss: 0.0138 - acc: 0.9958 - val_loss: 0.7867 - val_acc: 0.8600\n",
            "Epoch 73/100\n",
            "44/44 [==============================] - 0s 10ms/step - loss: 0.0119 - acc: 0.9980 - val_loss: 0.7873 - val_acc: 0.8600\n",
            "Epoch 74/100\n",
            "44/44 [==============================] - 0s 10ms/step - loss: 0.0083 - acc: 0.9993 - val_loss: 0.7855 - val_acc: 0.8600\n",
            "\n",
            "Epoch 00074: ReduceLROnPlateau reducing learning rate to 1.8310547034161573e-07.\n",
            "Epoch 75/100\n",
            "44/44 [==============================] - 0s 10ms/step - loss: 0.0129 - acc: 0.9988 - val_loss: 0.7857 - val_acc: 0.8567\n",
            "Epoch 76/100\n",
            "44/44 [==============================] - 0s 10ms/step - loss: 0.0062 - acc: 0.9999 - val_loss: 0.7852 - val_acc: 0.8567\n",
            "Epoch 77/100\n",
            "44/44 [==============================] - 0s 10ms/step - loss: 0.0065 - acc: 1.0000 - val_loss: 0.7865 - val_acc: 0.8567\n",
            "Epoch 78/100\n",
            "44/44 [==============================] - 0s 10ms/step - loss: 0.0120 - acc: 0.9958 - val_loss: 0.7878 - val_acc: 0.8600\n",
            "Epoch 79/100\n",
            "44/44 [==============================] - 0s 10ms/step - loss: 0.0073 - acc: 0.9990 - val_loss: 0.7873 - val_acc: 0.8600\n",
            "\n",
            "Epoch 00079: ReduceLROnPlateau reducing learning rate to 9.155273517080786e-08.\n",
            "Epoch 80/100\n",
            "44/44 [==============================] - 0s 10ms/step - loss: 0.0120 - acc: 0.9908 - val_loss: 0.7847 - val_acc: 0.8600\n",
            "Epoch 81/100\n",
            "44/44 [==============================] - 0s 10ms/step - loss: 0.0034 - acc: 1.0000 - val_loss: 0.7829 - val_acc: 0.8600\n",
            "Epoch 82/100\n",
            "44/44 [==============================] - 0s 10ms/step - loss: 0.0050 - acc: 0.9996 - val_loss: 0.7824 - val_acc: 0.8567\n",
            "Epoch 83/100\n",
            "44/44 [==============================] - 0s 10ms/step - loss: 0.0110 - acc: 0.9978 - val_loss: 0.7831 - val_acc: 0.8567\n",
            "Epoch 84/100\n",
            "44/44 [==============================] - 0s 11ms/step - loss: 0.0070 - acc: 1.0000 - val_loss: 0.7841 - val_acc: 0.8567\n",
            "\n",
            "Epoch 00084: ReduceLROnPlateau reducing learning rate to 4.577636758540393e-08.\n",
            "Epoch 85/100\n",
            "44/44 [==============================] - 0s 11ms/step - loss: 0.0037 - acc: 1.0000 - val_loss: 0.7838 - val_acc: 0.8567\n",
            "Epoch 86/100\n",
            "44/44 [==============================] - 1s 12ms/step - loss: 0.0048 - acc: 0.9993 - val_loss: 0.7846 - val_acc: 0.8567\n",
            "Epoch 87/100\n",
            "44/44 [==============================] - 0s 11ms/step - loss: 0.0103 - acc: 0.9991 - val_loss: 0.7879 - val_acc: 0.8567\n",
            "Epoch 88/100\n",
            "44/44 [==============================] - 1s 12ms/step - loss: 0.0066 - acc: 0.9982 - val_loss: 0.7875 - val_acc: 0.8600\n",
            "Epoch 89/100\n",
            "44/44 [==============================] - 0s 11ms/step - loss: 0.0075 - acc: 0.9995 - val_loss: 0.7859 - val_acc: 0.8567\n",
            "\n",
            "Epoch 00089: ReduceLROnPlateau reducing learning rate to 2.2888183792701966e-08.\n",
            "Epoch 90/100\n",
            "44/44 [==============================] - 1s 12ms/step - loss: 0.0068 - acc: 0.9996 - val_loss: 0.7864 - val_acc: 0.8567\n",
            "Epoch 91/100\n",
            "44/44 [==============================] - 1s 11ms/step - loss: 0.0062 - acc: 0.9999 - val_loss: 0.7847 - val_acc: 0.8567\n",
            "Epoch 92/100\n",
            "44/44 [==============================] - 0s 11ms/step - loss: 0.0178 - acc: 0.9917 - val_loss: 0.7841 - val_acc: 0.8567\n",
            "Epoch 93/100\n",
            "44/44 [==============================] - 1s 12ms/step - loss: 0.0173 - acc: 0.9973 - val_loss: 0.7860 - val_acc: 0.8567\n",
            "Epoch 94/100\n",
            "44/44 [==============================] - 0s 11ms/step - loss: 0.0047 - acc: 0.9999 - val_loss: 0.7869 - val_acc: 0.8567\n",
            "\n",
            "Epoch 00094: ReduceLROnPlateau reducing learning rate to 1.1444091896350983e-08.\n",
            "Epoch 95/100\n",
            "44/44 [==============================] - 1s 11ms/step - loss: 0.0120 - acc: 0.9978 - val_loss: 0.7857 - val_acc: 0.8600\n",
            "Epoch 96/100\n",
            "44/44 [==============================] - 1s 11ms/step - loss: 0.0454 - acc: 0.9926 - val_loss: 0.7850 - val_acc: 0.8600\n",
            "Epoch 97/100\n",
            "44/44 [==============================] - 0s 11ms/step - loss: 0.0228 - acc: 0.9953 - val_loss: 0.7849 - val_acc: 0.8600\n",
            "Epoch 98/100\n",
            "44/44 [==============================] - 1s 12ms/step - loss: 0.0077 - acc: 0.9976 - val_loss: 0.7850 - val_acc: 0.8600\n",
            "Epoch 99/100\n",
            "44/44 [==============================] - 0s 10ms/step - loss: 0.0186 - acc: 0.9964 - val_loss: 0.7862 - val_acc: 0.8567\n",
            "\n",
            "Epoch 00099: ReduceLROnPlateau reducing learning rate to 1e-08.\n",
            "Epoch 100/100\n",
            "44/44 [==============================] - 0s 10ms/step - loss: 0.0035 - acc: 1.0000 - val_loss: 0.7857 - val_acc: 0.8600\n"
          ],
          "name": "stdout"
        },
        {
          "output_type": "execute_result",
          "data": {
            "text/plain": [
              "<tensorflow.python.keras.callbacks.History at 0x7f6ce07d98d0>"
            ]
          },
          "metadata": {
            "tags": []
          },
          "execution_count": 287
        }
      ]
    },
    {
      "cell_type": "code",
      "metadata": {
        "colab": {
          "base_uri": "https://localhost:8080/",
          "height": 295
        },
        "id": "z-xHxMbpqNP3",
        "outputId": "bfc3c534-b1e8-47d4-fed6-b0a479931d93"
      },
      "source": [
        "# plotting\n",
        "plt.plot(list(model5.history.history.values())[0])\n",
        "plt.plot(list(model5.history.history.values())[1])\n",
        "plt.plot(list(model5.history.history.values())[2])\n",
        "plt.plot(list(model5.history.history.values())[3])\n",
        "plt.title('model5 accuracy-loss plot')\n",
        "plt.ylabel('accuracy/loss')\n",
        "plt.xlabel('epochs')\n",
        "plt.legend(['train loss', 'train accuracy', 'val loss', 'val accuracy'])\n",
        "plt.show()"
      ],
      "execution_count": null,
      "outputs": [
        {
          "output_type": "display_data",
          "data": {
            "image/png": "[encoded data removed]",
            "text/plain": [
              "<Figure size 432x288 with 1 Axes>"
            ]
          },
          "metadata": {
            "tags": [],
            "needs_background": "light"
          }
        }
      ]
    },
    {
      "cell_type": "code",
      "metadata": {
        "id": "HVGi18phm2mP"
      },
      "source": [
        "#CONFIG\n",
        "LR6 = 0.0001\n",
        "LOSS6 = tf.keras.losses.CategoricalCrossentropy()\n",
        "OPTIMIZER6 = tf.keras.optimizers.Adam(learning_rate=LR6)\n",
        "BATCH_SIZE6=32\n",
        "EPOCHS6=50\n",
        "METRICS6 = ['acc']\n",
        "CALLBACKS6 = [tf.keras.callbacks.ReduceLROnPlateau(monitor='val_loss', factor=0.5, patience=5, min_lr=0.00000001, cooldown=1, verbose=1)]"
      ],
      "execution_count": 42,
      "outputs": []
    },
    {
      "cell_type": "code",
      "metadata": {
        "colab": {
          "base_uri": "https://localhost:8080/"
        },
        "id": "FHHR-L9sm9Ab",
        "outputId": "ff6d7669-085e-40f9-c346-72a5937469c1"
      },
      "source": [
        "model6.compile(loss=LOSS6, optimizer=OPTIMIZER6, metrics=METRICS6)\n",
        "model6.fit(TrainX2, TrainY2, validation_data=(ValX2, ValY2),\n",
        "          batch_size=BATCH_SIZE6,\n",
        "          epochs=EPOCHS6,\n",
        "          callbacks=CALLBACKS6,\n",
        "          shuffle=True)"
      ],
      "execution_count": 45,
      "outputs": [
        {
          "output_type": "stream",
          "text": [
            "Epoch 1/50\n",
            "267/267 [==============================] - 12s 31ms/step - loss: 0.7011 - acc: 0.5075 - val_loss: 0.6912 - val_acc: 0.6137\n",
            "Epoch 2/50\n",
            "267/267 [==============================] - 7s 28ms/step - loss: 0.6837 - acc: 0.5624 - val_loss: 0.6479 - val_acc: 0.5945\n",
            "Epoch 3/50\n",
            "267/267 [==============================] - 7s 28ms/step - loss: 0.5780 - acc: 0.7078 - val_loss: 0.5373 - val_acc: 0.7407\n",
            "Epoch 4/50\n",
            "267/267 [==============================] - 7s 28ms/step - loss: 0.5240 - acc: 0.7360 - val_loss: 0.5302 - val_acc: 0.7384\n",
            "Epoch 5/50\n",
            "267/267 [==============================] - 8s 28ms/step - loss: 0.5041 - acc: 0.7537 - val_loss: 0.5093 - val_acc: 0.7557\n",
            "Epoch 6/50\n",
            "267/267 [==============================] - 7s 28ms/step - loss: 0.4808 - acc: 0.7711 - val_loss: 0.4916 - val_acc: 0.7562\n",
            "Epoch 7/50\n",
            "267/267 [==============================] - 7s 28ms/step - loss: 0.4703 - acc: 0.7733 - val_loss: 0.5354 - val_acc: 0.7403\n",
            "Epoch 8/50\n",
            "267/267 [==============================] - 8s 28ms/step - loss: 0.4710 - acc: 0.7727 - val_loss: 0.5145 - val_acc: 0.7431\n",
            "Epoch 9/50\n",
            "267/267 [==============================] - 8s 28ms/step - loss: 0.4703 - acc: 0.7737 - val_loss: 0.4854 - val_acc: 0.7722\n",
            "Epoch 10/50\n",
            "267/267 [==============================] - 8s 28ms/step - loss: 0.4499 - acc: 0.7853 - val_loss: 0.5221 - val_acc: 0.7417\n",
            "Epoch 11/50\n",
            "267/267 [==============================] - 7s 28ms/step - loss: 0.4540 - acc: 0.7881 - val_loss: 0.4756 - val_acc: 0.7736\n",
            "Epoch 12/50\n",
            "267/267 [==============================] - 7s 28ms/step - loss: 0.4408 - acc: 0.7944 - val_loss: 0.4894 - val_acc: 0.7750\n",
            "Epoch 13/50\n",
            "267/267 [==============================] - 7s 28ms/step - loss: 0.4438 - acc: 0.7950 - val_loss: 0.5034 - val_acc: 0.7543\n",
            "Epoch 14/50\n",
            "267/267 [==============================] - 7s 28ms/step - loss: 0.4320 - acc: 0.7982 - val_loss: 0.5220 - val_acc: 0.7445\n",
            "Epoch 15/50\n",
            "267/267 [==============================] - 7s 28ms/step - loss: 0.4219 - acc: 0.7994 - val_loss: 0.4692 - val_acc: 0.7881\n",
            "Epoch 16/50\n",
            "267/267 [==============================] - 7s 28ms/step - loss: 0.4263 - acc: 0.8038 - val_loss: 0.4701 - val_acc: 0.7806\n",
            "Epoch 17/50\n",
            "267/267 [==============================] - 8s 28ms/step - loss: 0.4151 - acc: 0.8024 - val_loss: 0.4654 - val_acc: 0.7881\n",
            "Epoch 18/50\n",
            "267/267 [==============================] - 7s 28ms/step - loss: 0.4088 - acc: 0.8078 - val_loss: 0.4700 - val_acc: 0.7886\n",
            "Epoch 19/50\n",
            "267/267 [==============================] - 8s 28ms/step - loss: 0.3958 - acc: 0.8180 - val_loss: 0.4707 - val_acc: 0.7759\n",
            "Epoch 20/50\n",
            "267/267 [==============================] - 7s 28ms/step - loss: 0.3742 - acc: 0.8219 - val_loss: 0.4809 - val_acc: 0.7867\n",
            "Epoch 21/50\n",
            "267/267 [==============================] - 7s 28ms/step - loss: 0.3729 - acc: 0.8350 - val_loss: 0.4580 - val_acc: 0.7914\n",
            "Epoch 22/50\n",
            "267/267 [==============================] - 7s 28ms/step - loss: 0.3695 - acc: 0.8310 - val_loss: 0.4693 - val_acc: 0.7881\n",
            "Epoch 23/50\n",
            "267/267 [==============================] - 7s 28ms/step - loss: 0.3652 - acc: 0.8404 - val_loss: 0.4735 - val_acc: 0.7843\n",
            "Epoch 24/50\n",
            "267/267 [==============================] - 7s 28ms/step - loss: 0.3447 - acc: 0.8451 - val_loss: 0.4884 - val_acc: 0.7745\n",
            "Epoch 25/50\n",
            "267/267 [==============================] - 7s 28ms/step - loss: 0.3403 - acc: 0.8524 - val_loss: 0.4933 - val_acc: 0.7801\n",
            "Epoch 26/50\n",
            "267/267 [==============================] - 7s 28ms/step - loss: 0.3267 - acc: 0.8514 - val_loss: 0.4809 - val_acc: 0.7970\n",
            "\n",
            "Epoch 00026: ReduceLROnPlateau reducing learning rate to 4.999999873689376e-05.\n",
            "Epoch 27/50\n",
            "267/267 [==============================] - 7s 28ms/step - loss: 0.3015 - acc: 0.8756 - val_loss: 0.4891 - val_acc: 0.7942\n",
            "Epoch 28/50\n",
            "267/267 [==============================] - 7s 28ms/step - loss: 0.2918 - acc: 0.8672 - val_loss: 0.5069 - val_acc: 0.7782\n",
            "Epoch 29/50\n",
            "267/267 [==============================] - 7s 28ms/step - loss: 0.2933 - acc: 0.8762 - val_loss: 0.4807 - val_acc: 0.7951\n",
            "Epoch 30/50\n",
            "267/267 [==============================] - 7s 28ms/step - loss: 0.2937 - acc: 0.8691 - val_loss: 0.5569 - val_acc: 0.7731\n",
            "Epoch 31/50\n",
            "267/267 [==============================] - 8s 28ms/step - loss: 0.2842 - acc: 0.8791 - val_loss: 0.5052 - val_acc: 0.7900\n",
            "\n",
            "Epoch 00031: ReduceLROnPlateau reducing learning rate to 2.499999936844688e-05.\n",
            "Epoch 32/50\n",
            "267/267 [==============================] - 8s 28ms/step - loss: 0.2657 - acc: 0.8896 - val_loss: 0.5236 - val_acc: 0.7961\n",
            "Epoch 33/50\n",
            "267/267 [==============================] - 7s 28ms/step - loss: 0.2735 - acc: 0.8809 - val_loss: 0.5812 - val_acc: 0.7553\n",
            "Epoch 34/50\n",
            "267/267 [==============================] - 8s 28ms/step - loss: 0.2656 - acc: 0.8928 - val_loss: 0.6368 - val_acc: 0.7473\n",
            "Epoch 35/50\n",
            "267/267 [==============================] - 8s 28ms/step - loss: 0.2525 - acc: 0.8927 - val_loss: 0.5022 - val_acc: 0.7932\n",
            "Epoch 36/50\n",
            "267/267 [==============================] - 7s 28ms/step - loss: 0.2557 - acc: 0.8914 - val_loss: 0.5302 - val_acc: 0.7829\n",
            "\n",
            "Epoch 00036: ReduceLROnPlateau reducing learning rate to 1.249999968422344e-05.\n",
            "Epoch 37/50\n",
            "267/267 [==============================] - 7s 28ms/step - loss: 0.2509 - acc: 0.8963 - val_loss: 0.5134 - val_acc: 0.7965\n",
            "Epoch 38/50\n",
            "267/267 [==============================] - 7s 27ms/step - loss: 0.2401 - acc: 0.8989 - val_loss: 0.5277 - val_acc: 0.7909\n",
            "Epoch 39/50\n",
            "267/267 [==============================] - 7s 28ms/step - loss: 0.2389 - acc: 0.8990 - val_loss: 0.5338 - val_acc: 0.7872\n",
            "Epoch 40/50\n",
            "267/267 [==============================] - 7s 28ms/step - loss: 0.2483 - acc: 0.8956 - val_loss: 0.5713 - val_acc: 0.7726\n",
            "Epoch 41/50\n",
            "267/267 [==============================] - 8s 29ms/step - loss: 0.2361 - acc: 0.9024 - val_loss: 0.5661 - val_acc: 0.7745\n",
            "\n",
            "Epoch 00041: ReduceLROnPlateau reducing learning rate to 6.24999984211172e-06.\n",
            "Epoch 42/50\n",
            "267/267 [==============================] - 8s 28ms/step - loss: 0.2416 - acc: 0.8962 - val_loss: 0.5804 - val_acc: 0.7712\n",
            "Epoch 43/50\n",
            "267/267 [==============================] - 8s 28ms/step - loss: 0.2414 - acc: 0.9049 - val_loss: 0.5197 - val_acc: 0.7998\n",
            "Epoch 44/50\n",
            "267/267 [==============================] - 8s 28ms/step - loss: 0.2415 - acc: 0.8929 - val_loss: 0.5441 - val_acc: 0.7867\n",
            "Epoch 45/50\n",
            "267/267 [==============================] - 8s 28ms/step - loss: 0.2450 - acc: 0.9001 - val_loss: 0.5404 - val_acc: 0.7872\n",
            "Epoch 46/50\n",
            "267/267 [==============================] - 8s 29ms/step - loss: 0.2361 - acc: 0.9024 - val_loss: 0.5210 - val_acc: 0.7914\n",
            "\n",
            "Epoch 00046: ReduceLROnPlateau reducing learning rate to 3.12499992105586e-06.\n",
            "Epoch 47/50\n",
            "267/267 [==============================] - 8s 28ms/step - loss: 0.2237 - acc: 0.9090 - val_loss: 0.5283 - val_acc: 0.7923\n",
            "Epoch 48/50\n",
            "267/267 [==============================] - 8s 28ms/step - loss: 0.2370 - acc: 0.9027 - val_loss: 0.5380 - val_acc: 0.7881\n",
            "Epoch 49/50\n",
            "267/267 [==============================] - 8s 28ms/step - loss: 0.2508 - acc: 0.8975 - val_loss: 0.5371 - val_acc: 0.7876\n",
            "Epoch 50/50\n",
            "267/267 [==============================] - 8s 28ms/step - loss: 0.2356 - acc: 0.8976 - val_loss: 0.5364 - val_acc: 0.7890\n"
          ],
          "name": "stdout"
        },
        {
          "output_type": "execute_result",
          "data": {
            "text/plain": [
              "<tensorflow.python.keras.callbacks.History at 0x7f35b3a15710>"
            ]
          },
          "metadata": {
            "tags": []
          },
          "execution_count": 45
        }
      ]
    },
    {
      "cell_type": "code",
      "metadata": {
        "colab": {
          "base_uri": "https://localhost:8080/",
          "height": 295
        },
        "id": "dwxqomNWnDp5",
        "outputId": "b7d70111-3a47-4261-c3be-e940f243c722"
      },
      "source": [
        "# plotting\n",
        "plt.plot(list(model6.history.history.values())[0])\n",
        "plt.plot(list(model6.history.history.values())[1])\n",
        "plt.plot(list(model6.history.history.values())[2])\n",
        "plt.plot(list(model6.history.history.values())[3])\n",
        "plt.title('model6 accuracy-loss plot')\n",
        "plt.ylabel('accuracy/loss')\n",
        "plt.xlabel('epochs')\n",
        "plt.legend(['train loss', 'train accuracy', 'val loss', 'val accuracy'])\n",
        "plt.show()"
      ],
      "execution_count": 46,
      "outputs": [
        {
          "output_type": "display_data",
          "data": {
            "image/png": "[encoded data removed]",
            "text/plain": [
              "<Figure size 432x288 with 1 Axes>"
            ]
          },
          "metadata": {
            "tags": [],
            "needs_background": "light"
          }
        }
      ]
    },
    {
      "cell_type": "markdown",
      "metadata": {
        "id": "aM88Y2L-iK62"
      },
      "source": [
        "> Observations\n",
        "- GRU is better compared to LSTM layer\n",
        "- GRU performed well on both train and val dataset with `100%` train accuracy and `86%` val accuracy for dataset-1\n",
        "- LSTM performed well on both train and val dataset with `89%` train accuracy and `78%` val accuracy for dataset-2\n",
        "- Architecture is as follows\n",
        "Input -> Embedding -> GRU -> GRU -> MaxPool1D -> Dense -> Dropout -> BatchNormalization -> Output"
      ]
    },
    {
      "cell_type": "markdown",
      "metadata": {
        "id": "muid1CHJ1oXP"
      },
      "source": [
        "> **9. Compare accuracy for the above models and do a reasoning.**"
      ]
    },
    {
      "cell_type": "markdown",
      "metadata": {
        "id": "xS7NTvF1n4cU"
      },
      "source": [
        "### Dataset 1\n",
        "| model name | Train loss | Train acc | Val loss | Val acc\n",
        "|------------|------------|----------------|----------|--------\n",
        "| `model1(RNN)` | `0.2564` | `0.8958` | `0.6357` | `0.7500`\n",
        "| `model3(LSTM)` | `0.1962` | `0.9292` | `0.4849` | `0.8300`\n",
        "| `model5(GRU)` | `0.0035` | `1.0000` | `0.7857` | `0.8600`\n",
        "\n",
        "### Dataset 2\n",
        "| model name | Train loss | Train acc | Val loss | Val acc\n",
        "|------------|------------|----------------|----------|--------\n",
        "| `model2(RNN)` | `0.4787` | `0.7721` | `0.4980` | `0.7557`\n",
        "| `model4(LSTM)` | `0.2276` | `0.9081` | `0.5769` | `0.7834`\n",
        "| `model5(GRU)` | `0.2356` | `0.8976` | `0.5364` | `0.7890`"
      ]
    },
    {
      "cell_type": "markdown",
      "metadata": {
        "id": "hAt_GXYV2Fk4"
      },
      "source": [
        "# Task2\n",
        "---\n",
        "\n"
      ]
    },
    {
      "cell_type": "markdown",
      "metadata": {
        "id": "wbJO3ona2J4i"
      },
      "source": [
        "> **1. Combine the above two datasets to form a larger one.**"
      ]
    },
    {
      "cell_type": "code",
      "metadata": {
        "id": "RwTQlVcyx851"
      },
      "source": [
        "# functions to enable the task\n",
        "def preprocess(df):\n",
        "  \"\"\"\n",
        "  input: pandas dataframe with two columns, sent and label\n",
        "  description: sentence text preprocessing\n",
        "  \"\"\"\n",
        "  punctuations=r'''!()-[]{};:'\"\\,<>./?@#$%^&*_~'''\n",
        "  stop_words=['the', 'a', 'and', 'is', 'be', 'will']\n",
        "\n",
        "  sentences = df.iloc[:, 0].values\n",
        "  ret = []\n",
        "  for sent in sentences:\n",
        "    sent = re.sub(r'https?://\\S+|www\\.\\S+', '', sent)                           #removing urls\n",
        "    sent = re.sub(r'<.*?>', '', sent)                                           #removing html elements\n",
        "    sent = sent.lower()                                                         #lowering all characters\n",
        "    for ch in sent:                                                             #removing punctuations\n",
        "      if ch in punctuations:\n",
        "        sent = sent.replace(ch, '')\n",
        "    sent = ' '.join([word for word in sent.split() if word not in stop_words])  #removing stop words\n",
        "    sent = re.sub(r'\\s+', ' ', sent).strip()                                    #removing whitespaces\n",
        "    ret.append(sent)\n",
        "  ret = np.asarray(ret)\n",
        "\n",
        "  df['sent'] = ret\n",
        "  return df\n",
        "\n",
        "# functions to enable the task\n",
        "def convert_strs_to_integers(strs):\n",
        "  tokenizer = Tokenizer()\n",
        "\n",
        "  max_len = np.max([len(sent.split()) for sent in strs])                        #finding max length of sentence\n",
        "  print(\"Max Length of sentence(also length of input): \", max_len)\n",
        "\n",
        "  tokenizer.fit_on_texts(strs)                                                   #converting text to numbers\n",
        "  vocab_len = len(tokenizer.word_index)\n",
        "  print(\"Length of vocabulary: \", vocab_len)\n",
        "  seq = tokenizer.texts_to_sequences(strs)\n",
        "\n",
        "  padded_seq = pad_sequences(seq, maxlen=max_len, padding='post')               #extending the length of sequence\n",
        "                                                                                #to max length by padding\n",
        "                                                                  \n",
        "  return padded_seq, max_len, vocab_len, tokenizer"
      ],
      "execution_count": 47,
      "outputs": []
    },
    {
      "cell_type": "code",
      "metadata": {
        "id": "mjgFCKrU2IRo",
        "colab": {
          "base_uri": "https://localhost:8080/",
          "height": 534
        },
        "outputId": "677f6560-5954-420e-eab6-e8909972395d"
      },
      "source": [
        "data = pd.concat([data1, data2], ignore_index=True)\n",
        "data = data.sample(frac=1).reset_index(drop=True)\n",
        "data = preprocess(data)\n",
        "display(data)\n",
        "\n",
        "print(\"----------------------------------------------------------------------------\")\n",
        "print(\"::::::::::::::::::::::::::::::Combined Dataset::::::::::::::::::::::::::::::\")\n",
        "print(\"----------------------------------------------------------------------------\")\n",
        "X, INP_LEN, VOCAB_LEN, TOKENIZER=convert_strs_to_integers(data.iloc[:, 0].values)\n",
        "Y=tf.one_hot(data.iloc[:, 1].values, depth=2).numpy()\n",
        "TrainX, ValX, TrainY, ValY = train_test_split(X, Y, test_size=0.3, random_state=seed)\n",
        "print(\"TrainX shape: \", TrainX.shape, \" | ValX shape: \", ValX.shape, \" | TrainY shape: \", TrainY.shape, \" | ValY shape: \", ValY.shape)"
      ],
      "execution_count": 48,
      "outputs": [
        {
          "output_type": "display_data",
          "data": {
            "text/html": [
              "<div>\n",
              "<style scoped>\n",
              "    .dataframe tbody tr th:only-of-type {\n",
              "        vertical-align: middle;\n",
              "    }\n",
              "\n",
              "    .dataframe tbody tr th {\n",
              "        vertical-align: top;\n",
              "    }\n",
              "\n",
              "    .dataframe thead th {\n",
              "        text-align: right;\n",
              "    }\n",
              "</style>\n",
              "<table border=\"1\" class=\"dataframe\">\n",
              "  <thead>\n",
              "    <tr style=\"text-align: right;\">\n",
              "      <th></th>\n",
              "      <th>sent</th>\n",
              "      <th>label</th>\n",
              "    </tr>\n",
              "  </thead>\n",
              "  <tbody>\n",
              "    <tr>\n",
              "      <th>0</th>\n",
              "      <td>if you can get past fantastical aspects harsh ...</td>\n",
              "      <td>1</td>\n",
              "    </tr>\n",
              "    <tr>\n",
              "      <th>1</th>\n",
              "      <td>somehow manages to escape shackles of its own ...</td>\n",
              "      <td>1</td>\n",
              "    </tr>\n",
              "    <tr>\n",
              "      <th>2</th>\n",
              "      <td>cumulative effect of watching this 65minute tr...</td>\n",
              "      <td>0</td>\n",
              "    </tr>\n",
              "    <tr>\n",
              "      <th>3</th>\n",
              "      <td>but buying into sham truths routine indie film...</td>\n",
              "      <td>0</td>\n",
              "    </tr>\n",
              "    <tr>\n",
              "      <th>4</th>\n",
              "      <td>just about best straightup oldschool horror fi...</td>\n",
              "      <td>1</td>\n",
              "    </tr>\n",
              "    <tr>\n",
              "      <th>...</th>\n",
              "      <td>...</td>\n",
              "      <td>...</td>\n",
              "    </tr>\n",
              "    <tr>\n",
              "      <th>11657</th>\n",
              "      <td>this case of pregnant premise being wasted by ...</td>\n",
              "      <td>0</td>\n",
              "    </tr>\n",
              "    <tr>\n",
              "      <th>11658</th>\n",
              "      <td>davis has energy but she doesnt bother to make...</td>\n",
              "      <td>0</td>\n",
              "    </tr>\n",
              "    <tr>\n",
              "      <th>11659</th>\n",
              "      <td>story gives ample opportunity for largescale a...</td>\n",
              "      <td>1</td>\n",
              "    </tr>\n",
              "    <tr>\n",
              "      <th>11660</th>\n",
              "      <td>for its 100 minutes running time youll wait in...</td>\n",
              "      <td>0</td>\n",
              "    </tr>\n",
              "    <tr>\n",
              "      <th>11661</th>\n",
              "      <td>always destined to measured against anthony as...</td>\n",
              "      <td>0</td>\n",
              "    </tr>\n",
              "  </tbody>\n",
              "</table>\n",
              "<p>11662 rows × 2 columns</p>\n",
              "</div>"
            ],
            "text/plain": [
              "                                                    sent  label\n",
              "0      if you can get past fantastical aspects harsh ...      1\n",
              "1      somehow manages to escape shackles of its own ...      1\n",
              "2      cumulative effect of watching this 65minute tr...      0\n",
              "3      but buying into sham truths routine indie film...      0\n",
              "4      just about best straightup oldschool horror fi...      1\n",
              "...                                                  ...    ...\n",
              "11657  this case of pregnant premise being wasted by ...      0\n",
              "11658  davis has energy but she doesnt bother to make...      0\n",
              "11659  story gives ample opportunity for largescale a...      1\n",
              "11660  for its 100 minutes running time youll wait in...      0\n",
              "11661  always destined to measured against anthony as...      0\n",
              "\n",
              "[11662 rows x 2 columns]"
            ]
          },
          "metadata": {
            "tags": []
          }
        },
        {
          "output_type": "stream",
          "text": [
            "----------------------------------------------------------------------------\n",
            "::::::::::::::::::::::::::::::Combined Dataset::::::::::::::::::::::::::::::\n",
            "----------------------------------------------------------------------------\n",
            "Max Length of sentence(also length of input):  55\n",
            "Length of vocabulary:  21156\n",
            "TrainX shape:  (8163, 55)  | ValX shape:  (3499, 55)  | TrainY shape:  (8163, 2)  | ValY shape:  (3499, 2)\n"
          ],
          "name": "stdout"
        }
      ]
    },
    {
      "cell_type": "markdown",
      "metadata": {
        "id": "5PKQErUclDuq"
      },
      "source": [
        "> Observations\n",
        "- Merged both the datasets into one, length of the combined dataset is `21156`.\n",
        "- Same preprocessing as done in the case of dataset1 and dataset2 is performed."
      ]
    },
    {
      "cell_type": "markdown",
      "metadata": {
        "id": "bO2lkDZD2L7D"
      },
      "source": [
        "> **2. Implement RNN, LSTM and GRU from tensorflow and tabulate the results.**"
      ]
    },
    {
      "cell_type": "code",
      "metadata": {
        "id": "eqW68SFUyuOP"
      },
      "source": [
        "# functions to enable the task\n",
        "def get_coefs(word, *arr): \n",
        "  return word, np.asarray(arr, dtype='float32')\n",
        "\n",
        "def get_embeddings_matrix(embed_path, embed_dim, tokenizer, vocab_len):\n",
        "  embeddings_index = dict(get_coefs(*o.split(\" \")) for o in open(embed_path, errors='ignore'))\n",
        "  embedding_matrix = np.zeros((vocab_len + 1, embed_dim))\n",
        "  for word, index in tokenizer.word_index.items():\n",
        "    if index > vocab_len:\n",
        "      break\n",
        "    else:\n",
        "      try:\n",
        "          embedding_matrix[index] = embeddings_index[word]\n",
        "      except:\n",
        "          continue\n",
        "  return embedding_matrix"
      ],
      "execution_count": 49,
      "outputs": []
    },
    {
      "cell_type": "code",
      "metadata": {
        "colab": {
          "base_uri": "https://localhost:8080/"
        },
        "id": "cqh8Cl_LyyWX",
        "outputId": "91a398ae-765a-4323-ba1d-b97e1601fa00"
      },
      "source": [
        "# calling above functions to perform the task\n",
        "# NOTE: This cell might take a while to run(around 5min), please DO NOR RE-RUN it!!(waste of time)\n",
        "\n",
        "# glove.6B: https://drive.google.com/file/d/17QuRawroK6tXX7p3mwZiB4zEicNauvbi/view?usp=sharing\n",
        "# glove.42B.300d: https://drive.google.com/file/d/1C4EF6dN5sE28XFm7CefcWBgzRwfF90Pz/view?usp=sharing\n",
        "# glove.840B.300d: https://drive.google.com/file/d/1Otp9Q1hL5RY0Lv1pbJzcXTt1Xew7Uc3R/view?usp=sharing\n",
        "# glove.twitter.27B: https://drive.google.com/file/d/16d15anhD8nRhorIy7RSF11RILk5AvaIY/view?usp=sharing\n",
        "\n",
        "#glove.42B.300d.txt\n",
        "# !gdown --id 1C4EF6dN5sE28XFm7CefcWBgzRwfF90Pz\n",
        "# !unzip /content/glove.42B.300d.zip &> /dev/null\n",
        "# !rm -rf /content/glove.42B.300d.zip &> /dev/null\n",
        "\n",
        "embed_path = '/content/glove.42B.300d.txt'\n",
        "EMBED_DIM = 300\n",
        "EMBEDDING_MATRIX = get_embeddings_matrix(embed_path, EMBED_DIM, TOKENIZER, VOCAB_LEN)\n",
        "print(\"Embeddings Matrix shape: \", EMBEDDING_MATRIX.shape)"
      ],
      "execution_count": 50,
      "outputs": [
        {
          "output_type": "stream",
          "text": [
            "Embeddings Matrix shape:  (21157, 300)\n"
          ],
          "name": "stdout"
        }
      ]
    },
    {
      "cell_type": "markdown",
      "metadata": {
        "id": "rj_II3WGln8o"
      },
      "source": [
        "> Observations\n",
        "- Same embedding as used for dataset1 and dataset2 is used."
      ]
    },
    {
      "cell_type": "code",
      "metadata": {
        "id": "YwwJT59g2Lhx",
        "colab": {
          "base_uri": "https://localhost:8080/"
        },
        "outputId": "e3159af6-3487-47fa-d16a-47d4190c13c7"
      },
      "source": [
        "#RNN model\n",
        "input = tf.keras.Input(shape=(INP_LEN,), name='input')\n",
        "embed = tf.keras.layers.Embedding(VOCAB_LEN+1, EMBED_DIM, weights=[EMBEDDING_MATRIX], trainable=False, name='embed')(input)\n",
        "rnn1 = tf.keras.layers.SimpleRNN(192, return_sequences=True, dropout=0.3, name='rnn1')(embed)\n",
        "pool = tf.keras.layers.MaxPool1D(name='pool')(rnn1)\n",
        "rnn2 = tf.keras.layers.SimpleRNN(128, dropout=0.2, name='rnn2')(pool)\n",
        "dense1 = tf.keras.layers.Dense(84, activation='relu', name='dense1')(rnn2)\n",
        "drop1 = tf.keras.layers.Dropout(0.2, name='drop1')(dense1)\n",
        "norm1 = tf.keras.layers.BatchNormalization(name='norm1')(drop1)\n",
        "output = tf.keras.layers.Dense(2, activation='softmax', name='output')(norm1)\n",
        "\n",
        "modelRNN = tf.keras.models.Model(inputs=input, outputs=output, name='modelRNN')\n",
        "modelRNN.summary()\n",
        "\n",
        "#LSTM model\n",
        "input = tf.keras.Input(shape=(INP_LEN,), name='input')\n",
        "embed = tf.keras.layers.Embedding(VOCAB_LEN+1, EMBED_DIM, weights=[EMBEDDING_MATRIX], trainable=False, name='embed')(input)\n",
        "rnn1 = tf.keras.layers.LSTM(192, return_sequences=True, dropout=0.3, name='rnn1')(embed)\n",
        "pool = tf.keras.layers.MaxPool1D(name='pool')(rnn1)\n",
        "rnn2 = tf.keras.layers.LSTM(128, dropout=0.2, name='rnn2')(pool)\n",
        "dense1 = tf.keras.layers.Dense(84, activation='relu', name='dense1')(rnn2)\n",
        "drop1 = tf.keras.layers.Dropout(0.2, name='drop1')(dense1)\n",
        "norm1 = tf.keras.layers.BatchNormalization(name='norm1')(drop1)\n",
        "output = tf.keras.layers.Dense(2, activation='softmax', name='output')(norm1)\n",
        "\n",
        "modelLSTM = tf.keras.models.Model(inputs=input, outputs=output, name='modelLSTM')\n",
        "modelLSTM.summary()\n",
        "\n",
        "#GRU model\n",
        "input = tf.keras.Input(shape=(INP_LEN,), name='input')\n",
        "embed = tf.keras.layers.Embedding(VOCAB_LEN+1, EMBED_DIM, weights=[EMBEDDING_MATRIX], trainable=False, name='embed')(input)\n",
        "rnn1 = tf.keras.layers.GRU(192, return_sequences=True, dropout=0.3, name='rnn1')(embed)\n",
        "pool = tf.keras.layers.MaxPool1D(name='pool')(rnn1)\n",
        "rnn2 = tf.keras.layers.GRU(128, dropout=0.2, name='rnn2')(pool)\n",
        "dense1 = tf.keras.layers.Dense(84, activation='relu', name='dense1')(rnn2)\n",
        "drop1 = tf.keras.layers.Dropout(0.2, name='drop1')(dense1)\n",
        "norm1 = tf.keras.layers.BatchNormalization(name='norm1')(drop1)\n",
        "output = tf.keras.layers.Dense(2, activation='softmax', name='output')(norm1)\n",
        "\n",
        "modelGRU = tf.keras.models.Model(inputs=input, outputs=output, name='modelGRU')\n",
        "modelGRU.summary()"
      ],
      "execution_count": 109,
      "outputs": [
        {
          "output_type": "stream",
          "text": [
            "Model: \"modelRNN\"\n",
            "_________________________________________________________________\n",
            "Layer (type)                 Output Shape              Param #   \n",
            "=================================================================\n",
            "input (InputLayer)           [(None, 55)]              0         \n",
            "_________________________________________________________________\n",
            "embed (Embedding)            (None, 55, 300)           6347100   \n",
            "_________________________________________________________________\n",
            "rnn1 (SimpleRNN)             (None, 55, 192)           94656     \n",
            "_________________________________________________________________\n",
            "pool (MaxPooling1D)          (None, 27, 192)           0         \n",
            "_________________________________________________________________\n",
            "rnn2 (SimpleRNN)             (None, 128)               41088     \n",
            "_________________________________________________________________\n",
            "dense1 (Dense)               (None, 84)                10836     \n",
            "_________________________________________________________________\n",
            "drop1 (Dropout)              (None, 84)                0         \n",
            "_________________________________________________________________\n",
            "norm1 (BatchNormalization)   (None, 84)                336       \n",
            "_________________________________________________________________\n",
            "output (Dense)               (None, 2)                 170       \n",
            "=================================================================\n",
            "Total params: 6,494,186\n",
            "Trainable params: 146,918\n",
            "Non-trainable params: 6,347,268\n",
            "_________________________________________________________________\n",
            "Model: \"modelLSTM\"\n",
            "_________________________________________________________________\n",
            "Layer (type)                 Output Shape              Param #   \n",
            "=================================================================\n",
            "input (InputLayer)           [(None, 55)]              0         \n",
            "_________________________________________________________________\n",
            "embed (Embedding)            (None, 55, 300)           6347100   \n",
            "_________________________________________________________________\n",
            "rnn1 (LSTM)                  (None, 55, 192)           378624    \n",
            "_________________________________________________________________\n",
            "pool (MaxPooling1D)          (None, 27, 192)           0         \n",
            "_________________________________________________________________\n",
            "rnn2 (LSTM)                  (None, 128)               164352    \n",
            "_________________________________________________________________\n",
            "dense1 (Dense)               (None, 84)                10836     \n",
            "_________________________________________________________________\n",
            "drop1 (Dropout)              (None, 84)                0         \n",
            "_________________________________________________________________\n",
            "norm1 (BatchNormalization)   (None, 84)                336       \n",
            "_________________________________________________________________\n",
            "output (Dense)               (None, 2)                 170       \n",
            "=================================================================\n",
            "Total params: 6,901,418\n",
            "Trainable params: 554,150\n",
            "Non-trainable params: 6,347,268\n",
            "_________________________________________________________________\n",
            "Model: \"modelGRU\"\n",
            "_________________________________________________________________\n",
            "Layer (type)                 Output Shape              Param #   \n",
            "=================================================================\n",
            "input (InputLayer)           [(None, 55)]              0         \n",
            "_________________________________________________________________\n",
            "embed (Embedding)            (None, 55, 300)           6347100   \n",
            "_________________________________________________________________\n",
            "rnn1 (GRU)                   (None, 55, 192)           284544    \n",
            "_________________________________________________________________\n",
            "pool (MaxPooling1D)          (None, 27, 192)           0         \n",
            "_________________________________________________________________\n",
            "rnn2 (GRU)                   (None, 128)               123648    \n",
            "_________________________________________________________________\n",
            "dense1 (Dense)               (None, 84)                10836     \n",
            "_________________________________________________________________\n",
            "drop1 (Dropout)              (None, 84)                0         \n",
            "_________________________________________________________________\n",
            "norm1 (BatchNormalization)   (None, 84)                336       \n",
            "_________________________________________________________________\n",
            "output (Dense)               (None, 2)                 170       \n",
            "=================================================================\n",
            "Total params: 6,766,634\n",
            "Trainable params: 419,366\n",
            "Non-trainable params: 6,347,268\n",
            "_________________________________________________________________\n"
          ],
          "name": "stdout"
        }
      ]
    },
    {
      "cell_type": "code",
      "metadata": {
        "id": "VZ_0JC_Vy94o"
      },
      "source": [
        "#CONFIG\n",
        "LR7 = 0.001\n",
        "LOSS7 = tf.keras.losses.CategoricalCrossentropy()\n",
        "OPTIMIZER7 = tf.keras.optimizers.Adam(learning_rate=LR7)\n",
        "BATCH_SIZE7=32\n",
        "EPOCHS7=10\n",
        "METRICS7 = ['acc']\n",
        "CALLBACKS7 = [tf.keras.callbacks.ReduceLROnPlateau(monitor='val_loss', factor=0.5, patience=5, min_lr=0.00000001, cooldown=1, verbose=1)]"
      ],
      "execution_count": 110,
      "outputs": []
    },
    {
      "cell_type": "code",
      "metadata": {
        "colab": {
          "base_uri": "https://localhost:8080/"
        },
        "id": "aI9TUXsAzS1X",
        "outputId": "c983e985-4710-4f2f-d08d-cf5bfea94d08"
      },
      "source": [
        "modelRNN.compile(loss=LOSS7, optimizer=OPTIMIZER7, metrics=METRICS7)\n",
        "modelRNN.fit(TrainX, TrainY, validation_data=(ValX, ValY),\n",
        "          batch_size=BATCH_SIZE7,\n",
        "          epochs=EPOCHS7,\n",
        "          callbacks=CALLBACKS7,\n",
        "          shuffle=True)"
      ],
      "execution_count": 111,
      "outputs": [
        {
          "output_type": "stream",
          "text": [
            "Epoch 1/10\n",
            "256/256 [==============================] - 30s 108ms/step - loss: 0.8389 - acc: 0.4892 - val_loss: 0.6936 - val_acc: 0.5056\n",
            "Epoch 2/10\n",
            "256/256 [==============================] - 28s 109ms/step - loss: 0.7076 - acc: 0.5066 - val_loss: 0.6977 - val_acc: 0.4950\n",
            "Epoch 3/10\n",
            "256/256 [==============================] - 27s 106ms/step - loss: 0.6962 - acc: 0.5107 - val_loss: 0.6941 - val_acc: 0.5053\n",
            "Epoch 4/10\n",
            "256/256 [==============================] - 27s 106ms/step - loss: 0.7014 - acc: 0.4901 - val_loss: 0.7060 - val_acc: 0.5061\n",
            "Epoch 5/10\n",
            "256/256 [==============================] - 28s 108ms/step - loss: 0.6997 - acc: 0.4926 - val_loss: 0.6997 - val_acc: 0.4939\n",
            "Epoch 6/10\n",
            "256/256 [==============================] - 27s 106ms/step - loss: 0.6973 - acc: 0.4942 - val_loss: 0.6939 - val_acc: 0.4939\n",
            "\n",
            "Epoch 00006: ReduceLROnPlateau reducing learning rate to 0.0005000000237487257.\n",
            "Epoch 7/10\n",
            "256/256 [==============================] - 26s 103ms/step - loss: 0.6957 - acc: 0.5032 - val_loss: 0.7026 - val_acc: 0.5061\n",
            "Epoch 8/10\n",
            "256/256 [==============================] - 27s 105ms/step - loss: 0.6962 - acc: 0.5012 - val_loss: 0.7145 - val_acc: 0.5061\n",
            "Epoch 9/10\n",
            "256/256 [==============================] - 27s 105ms/step - loss: 0.6992 - acc: 0.4975 - val_loss: 0.7065 - val_acc: 0.5061\n",
            "Epoch 10/10\n",
            "256/256 [==============================] - 27s 105ms/step - loss: 0.6942 - acc: 0.5037 - val_loss: 0.6969 - val_acc: 0.4950\n"
          ],
          "name": "stdout"
        },
        {
          "output_type": "execute_result",
          "data": {
            "text/plain": [
              "<tensorflow.python.keras.callbacks.History at 0x7f35adc24850>"
            ]
          },
          "metadata": {
            "tags": []
          },
          "execution_count": 111
        }
      ]
    },
    {
      "cell_type": "code",
      "metadata": {
        "colab": {
          "base_uri": "https://localhost:8080/",
          "height": 295
        },
        "id": "qAmV9anyzfao",
        "outputId": "00db4376-9513-4800-a81b-1268d4942d34"
      },
      "source": [
        "# plotting\n",
        "plt.plot(list(modelRNN.history.history.values())[0])\n",
        "plt.plot(list(modelRNN.history.history.values())[1])\n",
        "plt.plot(list(modelRNN.history.history.values())[2])\n",
        "plt.plot(list(modelRNN.history.history.values())[3])\n",
        "plt.title('modelRNN accuracy-loss plot')\n",
        "plt.ylabel('accuracy/loss')\n",
        "plt.xlabel('epochs')\n",
        "plt.legend(['train loss', 'train accuracy', 'val loss', 'val accuracy'])\n",
        "plt.show()"
      ],
      "execution_count": 112,
      "outputs": [
        {
          "output_type": "display_data",
          "data": {
            "image/png": "[encoded data removed]",
            "text/plain": [
              "<Figure size 432x288 with 1 Axes>"
            ]
          },
          "metadata": {
            "tags": [],
            "needs_background": "light"
          }
        }
      ]
    },
    {
      "cell_type": "code",
      "metadata": {
        "id": "0mpXWTZ_LB_S"
      },
      "source": [
        "#CONFIG\n",
        "LR8 = 0.0003\n",
        "LOSS8 = tf.keras.losses.CategoricalCrossentropy()\n",
        "OPTIMIZER8 = tf.keras.optimizers.Adam(learning_rate=LR8)\n",
        "BATCH_SIZE8=32\n",
        "EPOCHS8=10\n",
        "METRICS8 = ['acc']\n",
        "CALLBACKS8 = [tf.keras.callbacks.ReduceLROnPlateau(monitor='val_loss', factor=0.5, patience=5, min_lr=0.00000001, cooldown=1, verbose=1)]"
      ],
      "execution_count": 113,
      "outputs": []
    },
    {
      "cell_type": "code",
      "metadata": {
        "colab": {
          "base_uri": "https://localhost:8080/"
        },
        "id": "d2TBuj7v0Lba",
        "outputId": "5fd883de-8e58-40af-ecde-ce4b2d1ad133"
      },
      "source": [
        "modelLSTM.compile(loss=LOSS8, optimizer=OPTIMIZER8, metrics=METRICS8)\n",
        "modelLSTM.fit(TrainX, TrainY, validation_data=(ValX, ValY),\n",
        "          batch_size=BATCH_SIZE8,\n",
        "          epochs=EPOCHS8,\n",
        "          callbacks=CALLBACKS8,\n",
        "          shuffle=True)"
      ],
      "execution_count": 114,
      "outputs": [
        {
          "output_type": "stream",
          "text": [
            "Epoch 1/10\n",
            "256/256 [==============================] - 12s 31ms/step - loss: 0.6183 - acc: 0.6568 - val_loss: 0.6492 - val_acc: 0.7102\n",
            "Epoch 2/10\n",
            "256/256 [==============================] - 7s 27ms/step - loss: 0.5003 - acc: 0.7567 - val_loss: 0.5474 - val_acc: 0.7619\n",
            "Epoch 3/10\n",
            "256/256 [==============================] - 7s 27ms/step - loss: 0.4922 - acc: 0.7555 - val_loss: 0.4715 - val_acc: 0.7748\n",
            "Epoch 4/10\n",
            "256/256 [==============================] - 7s 27ms/step - loss: 0.4718 - acc: 0.7697 - val_loss: 0.6031 - val_acc: 0.6490\n",
            "Epoch 5/10\n",
            "256/256 [==============================] - 7s 27ms/step - loss: 0.4600 - acc: 0.7738 - val_loss: 0.4721 - val_acc: 0.7682\n",
            "Epoch 6/10\n",
            "256/256 [==============================] - 7s 27ms/step - loss: 0.4415 - acc: 0.7879 - val_loss: 0.4673 - val_acc: 0.7851\n",
            "Epoch 7/10\n",
            "256/256 [==============================] - 7s 27ms/step - loss: 0.4276 - acc: 0.7977 - val_loss: 0.4784 - val_acc: 0.7662\n",
            "Epoch 8/10\n",
            "256/256 [==============================] - 7s 27ms/step - loss: 0.4166 - acc: 0.8076 - val_loss: 0.4584 - val_acc: 0.7885\n",
            "Epoch 9/10\n",
            "256/256 [==============================] - 7s 27ms/step - loss: 0.4189 - acc: 0.7986 - val_loss: 0.7279 - val_acc: 0.7079\n",
            "Epoch 10/10\n",
            "256/256 [==============================] - 7s 27ms/step - loss: 0.3882 - acc: 0.8127 - val_loss: 0.4556 - val_acc: 0.7771\n"
          ],
          "name": "stdout"
        },
        {
          "output_type": "execute_result",
          "data": {
            "text/plain": [
              "<tensorflow.python.keras.callbacks.History at 0x7f353d4d62d0>"
            ]
          },
          "metadata": {
            "tags": []
          },
          "execution_count": 114
        }
      ]
    },
    {
      "cell_type": "code",
      "metadata": {
        "colab": {
          "base_uri": "https://localhost:8080/",
          "height": 295
        },
        "id": "PGYfzlUB0QeU",
        "outputId": "6e3ab1d9-4801-4fdd-ad4b-744335192da2"
      },
      "source": [
        "# plotting\n",
        "plt.plot(list(modelLSTM.history.history.values())[0])\n",
        "plt.plot(list(modelLSTM.history.history.values())[1])\n",
        "plt.plot(list(modelLSTM.history.history.values())[2])\n",
        "plt.plot(list(modelLSTM.history.history.values())[3])\n",
        "plt.title('modelLSTM accuracy-loss plot')\n",
        "plt.ylabel('accuracy/loss')\n",
        "plt.xlabel('epochs')\n",
        "plt.legend(['train loss', 'train accuracy', 'val loss', 'val accuracy'])\n",
        "plt.show()"
      ],
      "execution_count": 115,
      "outputs": [
        {
          "output_type": "display_data",
          "data": {
            "image/png": "[encoded data removed]",
            "text/plain": [
              "<Figure size 432x288 with 1 Axes>"
            ]
          },
          "metadata": {
            "tags": [],
            "needs_background": "light"
          }
        }
      ]
    },
    {
      "cell_type": "code",
      "metadata": {
        "id": "3BQNmI4dLOtF"
      },
      "source": [
        "#CONFIG\n",
        "LR9 = 0.0009\n",
        "LOSS9 = tf.keras.losses.CategoricalCrossentropy()\n",
        "OPTIMIZER9 = tf.keras.optimizers.Adam(learning_rate=LR9)\n",
        "BATCH_SIZE9=32\n",
        "EPOCHS9=10\n",
        "METRICS9 = ['acc']\n",
        "CALLBACKS9 = [tf.keras.callbacks.ReduceLROnPlateau(monitor='val_loss', factor=0.5, patience=5, min_lr=0.00000001, cooldown=1, verbose=1)]"
      ],
      "execution_count": 116,
      "outputs": []
    },
    {
      "cell_type": "code",
      "metadata": {
        "colab": {
          "base_uri": "https://localhost:8080/"
        },
        "id": "PWgoG7rq0W5_",
        "outputId": "191adcdf-39a5-45ee-b5d8-376d42eaa742"
      },
      "source": [
        "modelGRU.compile(loss=LOSS9, optimizer=OPTIMIZER9, metrics=METRICS9)\n",
        "modelGRU.fit(TrainX, TrainY, validation_data=(ValX, ValY),\n",
        "          batch_size=BATCH_SIZE9,\n",
        "          epochs=EPOCHS9,\n",
        "          callbacks=CALLBACKS9,\n",
        "          shuffle=True)"
      ],
      "execution_count": 117,
      "outputs": [
        {
          "output_type": "stream",
          "text": [
            "Epoch 1/10\n",
            "256/256 [==============================] - 12s 31ms/step - loss: 0.7040 - acc: 0.4992 - val_loss: 0.6991 - val_acc: 0.5050\n",
            "Epoch 2/10\n",
            "256/256 [==============================] - 7s 28ms/step - loss: 0.5932 - acc: 0.6848 - val_loss: 0.8445 - val_acc: 0.5593\n",
            "Epoch 3/10\n",
            "256/256 [==============================] - 7s 28ms/step - loss: 0.4801 - acc: 0.7669 - val_loss: 0.5310 - val_acc: 0.7454\n",
            "Epoch 4/10\n",
            "256/256 [==============================] - 7s 28ms/step - loss: 0.4225 - acc: 0.7995 - val_loss: 0.4389 - val_acc: 0.7914\n",
            "Epoch 5/10\n",
            "256/256 [==============================] - 7s 29ms/step - loss: 0.3892 - acc: 0.8154 - val_loss: 0.4431 - val_acc: 0.7954\n",
            "Epoch 6/10\n",
            "256/256 [==============================] - 7s 28ms/step - loss: 0.3742 - acc: 0.8305 - val_loss: 0.4258 - val_acc: 0.8037\n",
            "Epoch 7/10\n",
            "256/256 [==============================] - 7s 28ms/step - loss: 0.3440 - acc: 0.8494 - val_loss: 0.4147 - val_acc: 0.8051\n",
            "Epoch 8/10\n",
            "256/256 [==============================] - 7s 28ms/step - loss: 0.2986 - acc: 0.8724 - val_loss: 0.5285 - val_acc: 0.7979\n",
            "Epoch 9/10\n",
            "256/256 [==============================] - 7s 28ms/step - loss: 0.3092 - acc: 0.8617 - val_loss: 0.5699 - val_acc: 0.8071\n",
            "Epoch 10/10\n",
            "256/256 [==============================] - 7s 28ms/step - loss: 0.2414 - acc: 0.8992 - val_loss: 0.5151 - val_acc: 0.8019\n"
          ],
          "name": "stdout"
        },
        {
          "output_type": "execute_result",
          "data": {
            "text/plain": [
              "<tensorflow.python.keras.callbacks.History at 0x7f352a6b5f90>"
            ]
          },
          "metadata": {
            "tags": []
          },
          "execution_count": 117
        }
      ]
    },
    {
      "cell_type": "code",
      "metadata": {
        "colab": {
          "base_uri": "https://localhost:8080/",
          "height": 295
        },
        "id": "bCgi_7wM0ZeI",
        "outputId": "4c94b804-1b28-4ed2-df75-fe8712953911"
      },
      "source": [
        "# plotting\n",
        "plt.plot(list(modelGRU.history.history.values())[0])\n",
        "plt.plot(list(modelGRU.history.history.values())[1])\n",
        "plt.plot(list(modelGRU.history.history.values())[2])\n",
        "plt.plot(list(modelGRU.history.history.values())[3])\n",
        "plt.title('modelGRU accuracy-loss plot')\n",
        "plt.ylabel('accuracy/loss')\n",
        "plt.xlabel('epochs')\n",
        "plt.legend(['train loss', 'train accuracy', 'val loss', 'val accuracy'])\n",
        "plt.show()"
      ],
      "execution_count": 118,
      "outputs": [
        {
          "output_type": "display_data",
          "data": {
            "image/png": "[encoded data removed]",
            "text/plain": [
              "<Figure size 432x288 with 1 Axes>"
            ]
          },
          "metadata": {
            "tags": [],
            "needs_background": "light"
          }
        }
      ]
    },
    {
      "cell_type": "markdown",
      "metadata": {
        "id": "hyD6hngUl1_D"
      },
      "source": [
        "> Observations: \n",
        "- due to time constraint, couldn't train for larger epochs\n",
        "- so the observations are minimal\n",
        "- Simple RNN did not perform well on the combined dataset\n",
        "- LSTM on the other hand performed relly well, only by training for 10 epochs\n",
        "- GRU outperformed LSTM on training under almost similar conditions, except learning rate\n",
        "- Both LSTM and GRU didnot train better with same learning rate\n",
        "- GRU required smaller learning rate compared to LSTM to train better"
      ]
    },
    {
      "cell_type": "markdown",
      "metadata": {
        "id": "1DAlXtMt2P6S"
      },
      "source": [
        "| Layer Used | Train loss | Train acc | Val loss | Val acc\n",
        "|------------|------------|-----------|----------|--------\n",
        "| RNN        | `0.6942` | `0.5037` | `0.6969` | `0.4950`\n",
        "| LSTM       | `0.3882` | `0.8127` | `0.4556` | `0.7771`\n",
        "| GRU        | `0.2414` | `0.8992` | `0.5151` | `0.8019`"
      ]
    }
  ]
}